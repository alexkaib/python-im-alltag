{
 "cells": [
  {
   "cell_type": "markdown",
   "id": "b316393d-abac-4b2a-98e7-bd4d439af52d",
   "metadata": {},
   "source": [
    "# Code-Analyse: Rechnung bitte!\n",
    "Lese dir das folgende Programm durch und teste es aus. Fülle anschließend die untenstehende Vorlage aus."
   ]
  },
  {
   "cell_type": "markdown",
   "id": "b4738971-ed3c-4fa0-b3be-dad6bce0005f",
   "metadata": {},
   "source": [
    "## Programm"
   ]
  },
  {
   "cell_type": "code",
   "execution_count": null,
   "id": "564bdec6-2046-4c03-8c3e-a18a19b5cd4a",
   "metadata": {},
   "outputs": [],
   "source": [
    "total = float(input(\"Was ist der Gesamtbetrag? \"))\n",
    "num_guests = int(input(\"Wie viele Gäste waren anwesend? \"))\n",
    "\n",
    "tip = 0.15\n",
    "\n",
    "per_person = (total + total * tip) / num_guests\n",
    "\n",
    "print(\"Betrag pro Person: \" + str(per_person))"
   ]
  },
  {
   "cell_type": "markdown",
   "id": "231abd8b-e5ce-43ce-9b7e-870ec4d6c461",
   "metadata": {},
   "source": [
    "## Analysevorlage"
   ]
  },
  {
   "cell_type": "markdown",
   "id": "5a45712d-8d39-44e5-a33e-2936c3074511",
   "metadata": {},
   "source": [
    "### In einem Satz\n",
    "Beschreibe in einem Satz, was der **Zweck** des Programms ist."
   ]
  },
  {
   "cell_type": "markdown",
   "id": "184938bb-d844-4e82-95ab-cadc65c47544",
   "metadata": {},
   "source": [
    "\n"
   ]
  },
  {
   "cell_type": "markdown",
   "id": "af8a62f7-1e7c-4177-afa3-b43c3d9280b7",
   "metadata": {},
   "source": [
    "### Programmbestandteile\n",
    "Benenne die **Variablen**, die das Programm beinhaltet und welchen Datentyp sie jeweils besitzen."
   ]
  },
  {
   "cell_type": "markdown",
   "id": "28f80e5f-66d4-40cd-bbea-b15aff97137f",
   "metadata": {},
   "source": [
    "\n",
    "\n"
   ]
  },
  {
   "cell_type": "markdown",
   "id": "bd4dd20c-a5c5-4681-a3da-bd98c6d15cdb",
   "metadata": {},
   "source": [
    "### Ein- und Ausgaben\n",
    "Beschreibe knapp, welche Daten man als User eingibt, wie diese verarbeitet werden und was das Programm beim Ausführen ausgibt."
   ]
  },
  {
   "cell_type": "markdown",
   "id": "a34bd2c7-f34e-4244-a80e-12711f3a9816",
   "metadata": {},
   "source": [
    "\n",
    "\n"
   ]
  }
 ],
 "metadata": {
  "kernelspec": {
   "display_name": "Python 3 (ipykernel)",
   "language": "python",
   "name": "python3"
  },
  "language_info": {
   "codemirror_mode": {
    "name": "ipython",
    "version": 3
   },
   "file_extension": ".py",
   "mimetype": "text/x-python",
   "name": "python",
   "nbconvert_exporter": "python",
   "pygments_lexer": "ipython3",
   "version": "3.12.7"
  }
 },
 "nbformat": 4,
 "nbformat_minor": 5
}
