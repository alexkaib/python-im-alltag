{
 "cells": [
  {
   "cell_type": "markdown",
   "id": "ef7af9f2-369e-4763-8a59-1605583e635a",
   "metadata": {},
   "source": [
    "# Teil 10: Dateien lesen und schreiben\n",
    "Bisher konnten wir nur Programme entwickeln, die Informationen durch User-Input aufnehmen und nach Ablauf des Programms wieder löschen. Der **lesende und schreibende Zugriff auf Dateien** ermöglicht es uns, Daten aus externen Quellen zu verarbeiten und zu speichern."
   ]
  },
  {
   "cell_type": "markdown",
   "id": "cf8f5068-8a48-4b84-a4fb-68ea79b46890",
   "metadata": {
    "jp-MarkdownHeadingCollapsed": true
   },
   "source": [
    "## 10.1 Dateien öffnen und auslesen"
   ]
  },
  {
   "cell_type": "markdown",
   "id": "d7763c49-02ae-4bf7-8d00-38a35ce0b385",
   "metadata": {},
   "source": [
    "Die übliche Methode, Dateien mit Python zu öffnen, ist das `with open(...) as f` Konstrukt. Es erlaubt uns, in einem eingerückten **Code-Block** mit der geöffneten Datei zu arbeiten und schließt sie danach automatisch.\n",
    "\n",
    "Das erste Argument von `open(...)` ist der **Pfad**, unter dem die zu öffnende Datei liegt. Wenn das Programm im selben Ordner aufgerufen wird, wie die Datei, reicht der Dateiname.\n",
    "\n",
    "Der Variablenname `f` kann beliebig gewählt werden und erlaubt innerhalb des Code-Blocks den Zugriff auf die Datei, z.B. durch die `f.read()`-Methode, die den Text der Datei als String liefert."
   ]
  },
  {
   "cell_type": "code",
   "execution_count": null,
   "id": "e997efad-f025-402f-a82f-0af1e74048a1",
   "metadata": {},
   "outputs": [],
   "source": [
    "# Programm, das die Datei \"poem.txt\" öffnet\n",
    "with open(\"poem.txt\") as f:\n",
    "    poem_string = f.read()\n",
    "    print(poem_string)"
   ]
  },
  {
   "cell_type": "markdown",
   "id": "40765bda-8e85-4d00-bdcd-c23756858913",
   "metadata": {},
   "source": [
    "### 🧪 Experiment: Texte mit Umlauten\n",
    "Versuche, die Datei \"umlaute.txt\" so wie die \"poem\"-Datei zu öffnen. Was passiert? Hast du eine Vermutung, woran das liegt?"
   ]
  },
  {
   "cell_type": "code",
   "execution_count": null,
   "id": "19c3358f-0bbd-4e4d-960b-f1b2d2a85082",
   "metadata": {},
   "outputs": [],
   "source": [
    "# Platz für die Aufgabe\n",
    "\n",
    "\n"
   ]
  },
  {
   "cell_type": "markdown",
   "id": "239b0425-e8dc-453e-b742-47faa3a5e96c",
   "metadata": {
    "jp-MarkdownHeadingCollapsed": true
   },
   "source": [
    "## 10.2 Umlaute und Encodings"
   ]
  },
  {
   "cell_type": "markdown",
   "id": "bda745ee-d441-44ad-9100-5335b7b2c065",
   "metadata": {},
   "source": [
    "Zeichen werden in Computern als Binärzahlen gespeichert. Dadurch stellt sich die Frage, **welche Zahl zu welchem Buchstaben gehört** - eine Frage, die sehr kompliziert wird, wenn man bedenkt, dass nicht alle Sprachen mit den 26 englischen Buchstaben auskommen, sondern zusätzlich von den 4 deutschen Sonderzeichen bis zu über 50.000 chinesische Schriftzeichen enthalten können. Deshalb haben sich über die letzten Jahrzehnte mehrere **Zeichenkodierungen** (engl. \"Encoding\") entwickelt, die unterschiedliche Anforderungen abdecken.\n",
    "\n",
    "Wenn das Öffnen einer Textdatei mit Python zu <a href=\"https://de.wikipedia.org/wiki/Zeichensalat\" target=\"_blank\">Zeichensalat</a> führt, dann liegt das höchstwahrscheinlich an der Kodierung. Dieser Fehler kann meist behoben werden, indem das richtige Format durch den `encoding`-Parameter in der `open()`-Funktion spezifiziert wird. In vielen Fällen ist das universelle **UTF-8** das richtige Format, aber leider sind auch plattformspezifische Kodierungen wie Windows' **cp1252** weiterhin verbreitet. In der Praxis ist das ein ernstzunehmendes Problem, aber für unseren Kurs reicht es meist, UTF-8 zu nutzen."
   ]
  },
  {
   "cell_type": "code",
   "execution_count": null,
   "id": "12bec038-2d01-4038-a18d-bf96d63573c4",
   "metadata": {},
   "outputs": [],
   "source": [
    "# Programm, das das Encoding der Datei korrekt spezifiziert\n",
    "with open(\"umlaute.txt\", encoding=\"UTF-8\") as f:\n",
    "    poem_string = f.read()\n",
    "    print(poem_string)"
   ]
  },
  {
   "cell_type": "markdown",
   "id": "d16d8210-8eea-41ae-bfde-744454904f2e",
   "metadata": {},
   "source": [
    "### 🛠️ Übung: Stichwortsuche\n",
    "Öffne die Datei \"kafka.txt\" mit dem `with open()`-Konstrukt und dem UTF-8 Encoding. Nutze anschließend die `f.readlines()`-Methode, die den Text als Liste von Zeilen liefert, um den Text Zeile für Zeile durchzugehen. Gebe dabei diejenigen Zeilen mit `print()` aus, die das Wort \"Hunger\" enthalten."
   ]
  },
  {
   "cell_type": "code",
   "execution_count": null,
   "id": "01c2aac6-b50e-49b3-b003-4f001931fe9b",
   "metadata": {},
   "outputs": [],
   "source": [
    "# Platz für die Aufgabe\n",
    "\n",
    "\n"
   ]
  },
  {
   "cell_type": "markdown",
   "id": "3b663ec7-03f5-4cb8-ac33-0073a4afbb85",
   "metadata": {},
   "source": [
    "## 10.2 Dateien (über-)schreiben"
   ]
  },
  {
   "cell_type": "code",
   "execution_count": null,
   "id": "eb4b9bad-ead3-47e3-b429-da9c4ca7f37f",
   "metadata": {},
   "outputs": [],
   "source": []
  },
  {
   "cell_type": "markdown",
   "id": "643cc329-1882-4140-9709-dd8da867dd68",
   "metadata": {},
   "source": [
    "## 10.3 Das JSON-Format"
   ]
  },
  {
   "cell_type": "code",
   "execution_count": null,
   "id": "cafbf545-2b5e-4cd4-b37b-587f7ae99364",
   "metadata": {},
   "outputs": [],
   "source": []
  },
  {
   "cell_type": "markdown",
   "id": "524c5f62-8417-400b-a891-9b5125abc804",
   "metadata": {},
   "source": [
    "## 10.4 Binärdateien"
   ]
  },
  {
   "cell_type": "code",
   "execution_count": null,
   "id": "4f40d223-4637-4de8-bce8-77ace6923af5",
   "metadata": {},
   "outputs": [],
   "source": []
  }
 ],
 "metadata": {
  "kernelspec": {
   "display_name": "Python 3 (ipykernel)",
   "language": "python",
   "name": "python3"
  },
  "language_info": {
   "codemirror_mode": {
    "name": "ipython",
    "version": 3
   },
   "file_extension": ".py",
   "mimetype": "text/x-python",
   "name": "python",
   "nbconvert_exporter": "python",
   "pygments_lexer": "ipython3",
   "version": "3.12.7"
  }
 },
 "nbformat": 4,
 "nbformat_minor": 5
}
