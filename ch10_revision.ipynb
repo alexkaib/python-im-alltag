{
 "cells": [
  {
   "cell_type": "markdown",
   "id": "e709812e-45a9-4f2d-bd5a-241cfee07ccf",
   "metadata": {},
   "source": [
    "# Teil 10: Budget-Tracker\n",
    "Zur Wiederholung und Vertiefung der bisherigen Inhalte entwickeln wir in dieser Sitzung ein Programm, mit dem sich Ein- und Ausgaben verfolgen lassen, um einen Überblick über die eigenen Finanzen zu gewinnen."
   ]
  },
  {
   "cell_type": "markdown",
   "id": "abeb0be6-35b7-4f61-b3c5-006bb215064b",
   "metadata": {},
   "source": [
    "## 1. Programmentwurf"
   ]
  },
  {
   "cell_type": "markdown",
   "id": "10dec259-c2ef-4c8c-af4b-63ed4824c5f0",
   "metadata": {},
   "source": [
    "Stellt euch vor, ihr bekommt als Softwareentwickler:innen folgenden Auftrag:\n",
    "> *Die App soll meine monatlichen Ausgaben überwachen und mir zeigen, für was ich mein Geld ausgegeben habe. Wenn ich etwas kaufe, kann ich das ganz einfach in die App eintippen und angeben, wie viel ich ausgegeben habe. Umgekehrt kann ich natürlich auch Einnahmen hinzufügen. Am besten wäre es, wenn ich mir anzeigen lassen könnte, welche Art von Ausgaben mich wie viel kosten, zum Beispiel Lebensmittel, Hobbys oder Reisen.*"
   ]
  },
  {
   "cell_type": "markdown",
   "id": "d1410ea9-8ede-492b-bca9-faabe3a3665e",
   "metadata": {},
   "source": [
    "### 🤔 Diskussion: Datenmodell und Funktionen\n",
    "Überlegt gemeinsam, wie die App aufgebaut sein könnte, um die Anforderungen zu erfüllen. Fragt euch konkret:\n",
    "- Wie können mit Dictionaries und Listen die **Einnahmen und Ausgaben** modelliert werden?\n",
    "- Welche **Funktionen** werden benötigt?"
   ]
  },
  {
   "cell_type": "markdown",
   "id": "403a0426-5efe-4f56-be35-208147dbb145",
   "metadata": {},
   "source": [
    "## 2. Programmentwicklung"
   ]
  },
  {
   "cell_type": "markdown",
   "id": "953cab36-3bab-4ab9-a47a-d58928d6fa61",
   "metadata": {},
   "source": [
    "Wir definieren zuerst das Datenmodell:"
   ]
  },
  {
   "cell_type": "code",
   "execution_count": null,
   "id": "a67e2fbe-d75d-4c3f-bb21-eb1b14e558bb",
   "metadata": {},
   "outputs": [],
   "source": [
    "# Eine Beispiel-Transaktion\n",
    "\n",
    "\n",
    "# Liste mit Transaktionen\n",
    "\n"
   ]
  },
  {
   "cell_type": "markdown",
   "id": "a8d98587-d61f-4980-b482-8581f6221b20",
   "metadata": {},
   "source": [
    "Danach entwerfen wir die Hauptschleife des Programms. Dabei überlegen wir, welche Funktionen an welcher Stelle aufgerufen werden sollten und welche Rolle User-Eingaben dabei spielen."
   ]
  },
  {
   "cell_type": "code",
   "execution_count": null,
   "id": "6d5c6055-f370-4b6c-9835-d424774b294e",
   "metadata": {},
   "outputs": [],
   "source": [
    "# Hauptschleife\n",
    "while True:\n",
    "    # Menü anzeigen und Auswahl von User entgegen nehmen\n",
    "\n",
    "    # Für Auswahl relevante Funktion ausführen\n",
    "\n",
    "    # Abbruchbedingung für Schleife?\n",
    "    "
   ]
  },
  {
   "cell_type": "markdown",
   "id": "0d74f83e-f009-4b62-b94e-4ed729f9be51",
   "metadata": {},
   "source": [
    "Jetzt müssen wir nur noch die Funktionen schreiben:"
   ]
  },
  {
   "cell_type": "code",
   "execution_count": 8,
   "id": "ae497a71-9c63-43ae-982a-485ca2d331cc",
   "metadata": {},
   "outputs": [],
   "source": [
    "def func1():\n",
    "    pass\n",
    "\n",
    "def func2():\n",
    "    pass\n",
    "\n",
    "def func3():\n",
    "    pass\n",
    "\n",
    "def func4():\n",
    "    pass"
   ]
  },
  {
   "cell_type": "markdown",
   "id": "08ff2396-4877-4bef-9c4a-08fe61d1a091",
   "metadata": {
    "jp-MarkdownHeadingCollapsed": true
   },
   "source": [
    "## 3. Testen und Weiterentwickeln"
   ]
  },
  {
   "cell_type": "markdown",
   "id": "ac928487-4d2b-48b0-9e86-ac485eb849de",
   "metadata": {},
   "source": [
    "Um zu prüfen, ob unser Programm funktioniert, probieren wir es einfach aus. In Softwareunternehmen gibt es oft eigene Abteilungen, die sich nur damit beschäftigen, indem sie u.a. sekundäre Programme schreiben, die verschiedene Testfälle simulieren. Ein wichtiger Bestandteil davon sind **Randfälle** (*edge cases*), die beim Programmieren möglicherweise nicht bedacht wurden."
   ]
  },
  {
   "cell_type": "markdown",
   "id": "d51fe1ab-cd21-4031-9076-eb41f4eb4644",
   "metadata": {},
   "source": [
    "### 🐞Bug Hunt: Randfälle\n",
    "Führe das bisher entwickelte Programm aus und teste es mit verschiedenen Eingaben. Versuche dabei, Randfälle zu finden, die das Programm zum Abstürzen bringen oder unerwartete Ergebnisse erzeugen."
   ]
  },
  {
   "cell_type": "code",
   "execution_count": null,
   "id": "85103cc3-94f1-4f80-87f2-dd96fe58dd38",
   "metadata": {},
   "outputs": [],
   "source": []
  }
 ],
 "metadata": {
  "kernelspec": {
   "display_name": "Python 3 (ipykernel)",
   "language": "python",
   "name": "python3"
  },
  "language_info": {
   "codemirror_mode": {
    "name": "ipython",
    "version": 3
   },
   "file_extension": ".py",
   "mimetype": "text/x-python",
   "name": "python",
   "nbconvert_exporter": "python",
   "pygments_lexer": "ipython3",
   "version": "3.12.7"
  }
 },
 "nbformat": 4,
 "nbformat_minor": 5
}
