{
 "cells": [
  {
   "cell_type": "markdown",
   "id": "01ee6d95-d82f-4ec5-b132-a032eabaf763",
   "metadata": {
    "panel-layout": {
     "height": 60.59375,
     "visible": true,
     "width": 100
    }
   },
   "source": [
    "# Test"
   ]
  },
  {
   "cell_type": "code",
   "execution_count": 1,
   "id": "98cda4d0-b294-4769-8b11-3b3eb6053b7d",
   "metadata": {},
   "outputs": [],
   "source": [
    "x = 4"
   ]
  },
  {
   "cell_type": "code",
   "execution_count": 2,
   "id": "9fc87096-660a-47e2-9177-0bfd6647cdde",
   "metadata": {},
   "outputs": [
    {
     "name": "stdout",
     "output_type": "stream",
     "text": [
      "Hallo\n"
     ]
    }
   ],
   "source": [
    "print(\"Hallo\")"
   ]
  },
  {
   "cell_type": "markdown",
   "id": "9fc26329-77d3-4ded-84b7-6ef4fdb9f30e",
   "metadata": {
    "jp-MarkdownHeadingCollapsed": true
   },
   "source": [
    "## Collapsed"
   ]
  },
  {
   "cell_type": "code",
   "execution_count": 3,
   "id": "f2a71f2a-6923-459d-b4c1-f11869bdca23",
   "metadata": {},
   "outputs": [
    {
     "data": {
      "text/plain": [
       "12"
      ]
     },
     "execution_count": 3,
     "metadata": {},
     "output_type": "execute_result"
    }
   ],
   "source": [
    "x * 3"
   ]
  },
  {
   "cell_type": "markdown",
   "id": "ad1bf054-b562-447d-a09d-89463b216afe",
   "metadata": {},
   "source": [
    "Hier steht was"
   ]
  },
  {
   "cell_type": "code",
   "execution_count": null,
   "id": "38b71e7e-3306-4a89-a435-66a9b78dde6a",
   "metadata": {},
   "outputs": [],
   "source": []
  }
 ],
 "metadata": {
  "kernelspec": {
   "display_name": "Python 3 (ipykernel)",
   "language": "python",
   "name": "python3"
  },
  "language_info": {
   "codemirror_mode": {
    "name": "ipython",
    "version": 3
   },
   "file_extension": ".py",
   "mimetype": "text/x-python",
   "name": "python",
   "nbconvert_exporter": "python",
   "pygments_lexer": "ipython3",
   "version": "3.12.7"
  },
  "panel-cell-order": [
   "01ee6d95-d82f-4ec5-b132-a032eabaf763"
  ]
 },
 "nbformat": 4,
 "nbformat_minor": 5
}
