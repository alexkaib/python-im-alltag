{
 "cells": [
  {
   "cell_type": "markdown",
   "id": "b316393d-abac-4b2a-98e7-bd4d439af52d",
   "metadata": {},
   "source": [
    "# Code-Analyse: Abstimmung\n",
    "Lese dir das folgende Programm durch und teste es aus. Fülle anschließend die untenstehende Vorlage aus."
   ]
  },
  {
   "cell_type": "markdown",
   "id": "b4738971-ed3c-4fa0-b3be-dad6bce0005f",
   "metadata": {},
   "source": [
    "## Programm"
   ]
  },
  {
   "cell_type": "code",
   "execution_count": null,
   "id": "564bdec6-2046-4c03-8c3e-a18a19b5cd4a",
   "metadata": {},
   "outputs": [],
   "source": [
    "votes = {\n",
    "    'Pizza': 0,\n",
    "    'Burger': 0,\n",
    "    'Sushi': 0\n",
    "}\n",
    "\n",
    "print(\"Pizza, Burger oder Sushi?\")\n",
    "print(\"Gib 'beenden' ein, um die Abstimmung zu beenden.\")\n",
    "print(\"---------------------------------------------\")\n",
    "\n",
    "while True:\n",
    "    user_input = input(\"Deine Stimme: \")\n",
    "\n",
    "    if user_input == 'beenden':\n",
    "        break\n",
    "\n",
    "    if user_input in votes:\n",
    "        votes[user_input] += 1\n",
    "        print(f\"Stimme für {user_input} wurde gezählt.\")\n",
    "    else:\n",
    "        print(\"Ungültige Eingabe. Bitte wähle eine der Optionen.\")\n",
    "\n",
    "print(\"--------- Ergebnis ---------\")\n",
    "\n",
    "highest_votes = -1\n",
    "winner = \"\"\n",
    "\n",
    "for option in votes:\n",
    "    print(f\"- {option}: {votes[option]} Stimme(n)\")\n",
    "    \n",
    "    if votes[option] > highest_votes:\n",
    "        highest_votes = votes[option]\n",
    "        winner = option\n",
    "\n",
    "print(\"-----------------------------\")\n",
    "print(f\"Der Gewinner ist: {winner}!\")\n"
   ]
  },
  {
   "cell_type": "markdown",
   "id": "231abd8b-e5ce-43ce-9b7e-870ec4d6c461",
   "metadata": {},
   "source": [
    "## Analysevorlage"
   ]
  },
  {
   "cell_type": "markdown",
   "id": "5a45712d-8d39-44e5-a33e-2936c3074511",
   "metadata": {},
   "source": [
    "### In einem Satz\n",
    "Beschreibe in einem Satz, was der **Zweck** des Programms ist."
   ]
  },
  {
   "cell_type": "markdown",
   "id": "184938bb-d844-4e82-95ab-cadc65c47544",
   "metadata": {},
   "source": [
    "\n"
   ]
  },
  {
   "cell_type": "markdown",
   "id": "af8a62f7-1e7c-4177-afa3-b43c3d9280b7",
   "metadata": {},
   "source": [
    "### Programmbestandteile\n",
    "Benenne die **Variablen**, die das Programm beinhaltet und welche Datentypen sie jeweils besitzen."
   ]
  },
  {
   "cell_type": "markdown",
   "id": "28f80e5f-66d4-40cd-bbea-b15aff97137f",
   "metadata": {},
   "source": [
    "\n",
    "\n"
   ]
  },
  {
   "cell_type": "markdown",
   "id": "921dafe5-d407-43d1-8504-8368199a0dbd",
   "metadata": {},
   "source": [
    "Benenne den **Dictionary**, den das Programm beinhaltet und beschreibe in eigenen Worten, wie er im Verlauf des Programms verwendet und ggf. verändert wird."
   ]
  },
  {
   "cell_type": "markdown",
   "id": "ac5e8889-c5e7-44f7-a702-4fe1bd712fbf",
   "metadata": {},
   "source": [
    "\n",
    "\n"
   ]
  },
  {
   "cell_type": "markdown",
   "id": "d8c014d5-b614-4fbe-a0eb-9f7df4fe427a",
   "metadata": {},
   "source": [
    "Benenne die **Schleifen** im Programm und beschreibe in eigenen Worten, welche Funktionen sie erfüllen und unter welchen Bedingungen sie terminieren."
   ]
  },
  {
   "cell_type": "markdown",
   "id": "691a0d85-68a1-41d7-a55a-70aeea8874c2",
   "metadata": {},
   "source": [
    "\n",
    "\n"
   ]
  }
 ],
 "metadata": {
  "kernelspec": {
   "display_name": "Python 3 (ipykernel)",
   "language": "python",
   "name": "python3"
  },
  "language_info": {
   "codemirror_mode": {
    "name": "ipython",
    "version": 3
   },
   "file_extension": ".py",
   "mimetype": "text/x-python",
   "name": "python",
   "nbconvert_exporter": "python",
   "pygments_lexer": "ipython3",
   "version": "3.12.7"
  }
 },
 "nbformat": 4,
 "nbformat_minor": 5
}
