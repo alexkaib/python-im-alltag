{
 "cells": [
  {
   "cell_type": "markdown",
   "id": "4b3f1738-f645-4b09-80e4-94a1ef8ef4f7",
   "metadata": {},
   "source": [
    "# Teil 9: Funktionen\n",
    "Man kann sich **Funktionen** als Mini-Programme vorstellen, die eine wiederkehrende Teilaufgabe innerhalb eines Programms erledigen. Indem mehrere Funktionen kleine Aufgaben erfüllen, kann auch eine komplexe Aufgabe überschaubar bleiben."
   ]
  },
  {
   "cell_type": "markdown",
   "id": "3532bbc7-08f8-481f-9fad-3bd1ddf64ccf",
   "metadata": {},
   "source": [
    "## 9.1 Funktionen definieren und aufrufen"
   ]
  },
  {
   "cell_type": "markdown",
   "id": "44d7312d-e212-46c2-b913-2428bbe9847a",
   "metadata": {},
   "source": [
    "Jede Python-Funktion beginnt mit dem `def` Schlüsselwort, gefolgt von dem frei wählbaren **Namen** der Funktion und direkt danach - ohne Leerzeichen - die **Parameter** der Funktion in Klammern. Abschließend kommt wie immer ein Doppelpunkt `:`.\n",
    "```python\n",
    "def function_name(parameter1, parameter2):\n",
    "    ...\n",
    "```\n",
    "Um Parameter kümmern wir uns im nächsten Abschnitt. Hier schauen wir uns zunächst den einfachsten Fall an, in dem eine Funktion keine Parameter besitzt (dafür braucht man trotzdem Klammern, es steht nur nichts dazwischen)."
   ]
  },
  {
   "cell_type": "code",
   "execution_count": null,
   "id": "1d4549c2-a5de-4b6b-9050-a952c9b029c6",
   "metadata": {},
   "outputs": [],
   "source": [
    "# Beispiel: Eine Funktion, die eine Speisekarte anzeigt\n",
    "def show_menu():\n",
    "    print(\"1. Salat\")\n",
    "    print(\"2. Suppe\")\n",
    "    print(\"3. Burger\")\n",
    "    print(\"4. Kuchen\")"
   ]
  },
  {
   "cell_type": "markdown",
   "id": "49b00d86-c3bf-4630-9458-6b7315cabaf4",
   "metadata": {},
   "source": [
    "Um eine Funktion zu benutzen, muss man sie **aufrufen**. Dazu gibt man ihren Namen, gefolgt von Klammern ein:"
   ]
  },
  {
   "cell_type": "code",
   "execution_count": null,
   "id": "77b11c42-aa31-464a-aa69-ec2581649669",
   "metadata": {},
   "outputs": [],
   "source": [
    "show_menu()"
   ]
  },
  {
   "cell_type": "markdown",
   "id": "b6a2485f-e4ae-4bdb-8712-9199cac06add",
   "metadata": {},
   "source": [
    "Bei einem solchen **Funktionsaufruf** wird der Code ausgeführt, den man in der Definition eingerückt geschrieben hat."
   ]
  },
  {
   "cell_type": "markdown",
   "id": "e1203c6f-a29b-4693-9739-12389da89cb3",
   "metadata": {},
   "source": [
    "### 🛠️Übung: Hallo Funktions-Welt\n",
    "Schreibe eine Funktion, die \"Hallo Welt\" ausgibt und rufe sie auf!"
   ]
  },
  {
   "cell_type": "code",
   "execution_count": null,
   "id": "4a3daa0c-2e7d-47a8-9e62-900cbdb6e6db",
   "metadata": {},
   "outputs": [],
   "source": [
    "# Platz für die Aufgabe\n",
    "\n",
    "\n",
    "\n"
   ]
  },
  {
   "cell_type": "markdown",
   "id": "56adf29a-2c9c-49ab-970b-05eea257b566",
   "metadata": {},
   "source": [
    "## 9.2 Parameter und Argumente"
   ]
  },
  {
   "cell_type": "markdown",
   "id": "fc324757-05b3-458c-9bf9-87d403a6ad5e",
   "metadata": {},
   "source": [
    "Die **Parameter** einer Funktion sind **Variablen**, die exklusiv innerhalb der Funktion verwendet werden und beim Aufrufen der Funktion einen Wert erhalten. Mit ihnen können Funktionen allgemeine Abläufe definieren, die auf verschiedene Werte angewandt werden."
   ]
  },
  {
   "cell_type": "code",
   "execution_count": null,
   "id": "d1a8ad88-12bd-45be-8511-2c0975a62495",
   "metadata": {},
   "outputs": [],
   "source": [
    "# Beispiel 1: Funktion, die den Flächeninhalt eines Rechtecks berechnet\n",
    "def rectangle_area(width, height):\n",
    "    print(width * height)\n",
    "\n",
    "# Beispiel 2: Funktion, die User namentlich begrüßt\n",
    "def greeting(name):\n",
    "    print(\"Hallo \" + name + \"!\")"
   ]
  },
  {
   "cell_type": "markdown",
   "id": "f175a3a2-26d5-437d-ba66-9d50389e8d3b",
   "metadata": {},
   "source": [
    "Funktionen mit Parametern müssen mit **Argumenten** aufgerufen werden. Dabei handelt es sich um **Ausdrücke**, die in die Klammern des Funktionsaufrufs geschrieben werden. "
   ]
  },
  {
   "cell_type": "code",
   "execution_count": null,
   "id": "57e23ba4-5eb8-4eea-954a-bcb3177a48ce",
   "metadata": {},
   "outputs": [],
   "source": [
    "# Funktionsaufruf mit Literalen als Argument\n",
    "rectangle_area(10, 23)\n",
    "\n",
    "# Funktionsaufruf mit komplexem Ausdruck als Argument\n",
    "first_name = \"Peter\"\n",
    "last_name = \"Parker\"\n",
    "greeting(first_name + \" \" + last_name)"
   ]
  },
  {
   "cell_type": "markdown",
   "id": "659cc20e-1e5d-47f3-ba88-a19462dee224",
   "metadata": {},
   "source": [
    "Bei einem solchen Funktionsaufruf werden die Argumente zunächst **ausgewertet** und ihr Wert wird den Parametern zugewiesen. Dann wird der Code ausgeführt, der in der Funktionsdefinition steht."
   ]
  },
  {
   "cell_type": "markdown",
   "id": "2fc7624d-7d72-4f2f-a15a-e382540dead5",
   "metadata": {},
   "source": [
    "### 🐞Bug Hunt: Funktionsparameter\n",
    "Führe den Code aus und analysiere das Ergebnis. Versuche anschließend, den Code zu verbessern!"
   ]
  },
  {
   "cell_type": "code",
   "execution_count": null,
   "id": "f33debfb-d7fc-4535-a39d-8a1cf10a31c3",
   "metadata": {},
   "outputs": [],
   "source": [
    "# Funktion, die den Umfang eines Kreises auf Grundlage des Radius berechnet\n",
    "def circumference(radius, pi):\n",
    "    print(2 * pi * radius)\n",
    "    \n",
    "circumference(2)"
   ]
  },
  {
   "cell_type": "markdown",
   "id": "2b8db8a6-69c4-48cc-90e0-0e43671fd6df",
   "metadata": {},
   "source": [
    "## 9.3 Rückgabewert"
   ]
  },
  {
   "cell_type": "markdown",
   "id": "8e0a7fd9-9390-4fe1-8ad4-c0f5ff24c17a",
   "metadata": {},
   "source": [
    "Eine Funktion kann etwas tun, aber sie kann auch etwas **liefern**. Indem wir mit dem Schlüsselwort `return` einen **Rückgabewert** festlegen, können wir das Ergebnis eines Funktionsaufrufs an die Stelle im Code transportieren, an der die Funktion aufgerufen wurde. Das erlaubt es uns, damit weiterzuarbeiten und unseren Code **modular** zu gestalten.\n",
    "\n",
    "Eine Funktion wird automatisch **abgebrochen**, nachdem sie mit `return` einen Rückgabewert geliefert hat, selbst wenn danach noch Code steht. Dieses Verhalten ähnelt dem `break`-Befehl für Schleifen.\n"
   ]
  },
  {
   "cell_type": "code",
   "execution_count": null,
   "id": "cf574bf5-fc10-46e9-b490-be9984cf785f",
   "metadata": {},
   "outputs": [],
   "source": [
    "# Eine Funktion, die bestimmt, ob der Input eines Users der Aufforderung entspricht\n",
    "def validate_input(user_input):\n",
    "    user_int = int(user_input)\n",
    "    if user_int > 3:\n",
    "        print(\"Die eingegebene Zahl ist zu groß.\")\n",
    "        return False\n",
    "    \n",
    "    if user_int < 1:\n",
    "        print(\"Die eingegebene Zahl ist zu klein.\")\n",
    "        return False\n",
    "              \n",
    "    return True\n",
    "\n",
    "user_input = input(\"Gebe eine Zahl zwischen 1 und 3 ein: \")\n",
    "\n",
    "while not validate_input(user_input):\n",
    "    user_input = input(\"Gebe eine Zahl zwischen 1 und 3 ein: \")\n",
    "\n",
    "print(\"Gut gemacht.\")\n"
   ]
  },
  {
   "cell_type": "markdown",
   "id": "0c38b308-2c55-4a74-bf53-eef15eaf5d9a",
   "metadata": {},
   "source": [
    "### 🛠️Übung: Funktionen mit Rückgabewert\n",
    "Vervollständige das folgende Programm mit **zwei** Funktionen."
   ]
  },
  {
   "cell_type": "code",
   "execution_count": null,
   "id": "46b9bc40-e55e-461b-957c-d0bfe3cf65a6",
   "metadata": {},
   "outputs": [],
   "source": [
    "# Schreibe hier eine Funktion namens \"compare_pw\", die zwei Parameter besitzt, sie miteinander vergleicht und den Wahrheitswert des Vergleichs zurückgibt\n",
    "\n",
    "\n",
    "\n",
    "\n",
    "# Schreibe hier eine Funktion namens \"get_user_pw\", die keine Parameter besitzt, den User nach einem Passwort fragt und die Eingabe zurückgibt\n",
    "\n",
    "\n",
    "\n",
    "\n",
    "# ----- Folgender Code darf NICHT verändert werden --------- #\n",
    "\n",
    "password = \"secret\"\n",
    "user_password = get_user_pw()\n",
    "\n",
    "while not compare_pw(password, user_password):\n",
    "    user_password = get_user_pw()\n",
    "    \n",
    "print(\"Login erfolgreich\")\n"
   ]
  },
  {
   "cell_type": "markdown",
   "id": "38d5bc4e-a264-4ad5-bf50-e5435d940e7d",
   "metadata": {},
   "source": [
    "## 9.4 Variablen in Funktionen"
   ]
  },
  {
   "cell_type": "markdown",
   "id": "2e9c0329-e753-43a9-aa62-f4633e016e05",
   "metadata": {},
   "source": [
    "Wir können innerhalb von Funktionen sowohl neue Variablen einführen als auch Variablen benutzen, die außerhalb der Funktion definiert wurden. Das kann sehr nützlich sein, aber es wirft einige Fragen über Variablen auf, die wir bisher ignoriert haben."
   ]
  },
  {
   "cell_type": "markdown",
   "id": "5503a4f3-f10c-438b-9297-2a2dee8972b0",
   "metadata": {},
   "source": [
    "### Sichtbarkeitsbereich von Variablen"
   ]
  },
  {
   "cell_type": "markdown",
   "id": "64cb3011-4bb3-4052-929e-f04f618d2995",
   "metadata": {},
   "source": [
    "Der **Sichtbarkeitsbereich** (*engl: scope*) von Variablen bestimmt, an welchen Stellen im Quelltext die Variable benutzt werden kann. Grundsätzlich gilt in Python: \n",
    "- Variablen, die **außerhalb** einer Funktion definiert werden, sind **global** und können überall benutzt werden. \n",
    "- Variablen, die **innerhalb** einer Funktion definiert werden, sind **lokal** und können nur in der Funktion benutzt werden. \n",
    "\n",
    "Folgender Code funktioniert deshalb nicht:"
   ]
  },
  {
   "cell_type": "code",
   "execution_count": null,
   "id": "93d7bf6e-6f58-40ba-9061-2f1b62c6a897",
   "metadata": {},
   "outputs": [],
   "source": [
    "def set_message():\n",
    "    message = \"Hallo Welt!\"\n",
    "    \n",
    "set_message()\n",
    "print(message)"
   ]
  },
  {
   "cell_type": "markdown",
   "id": "7632eaa2-7ee1-479e-ae9e-8783029dc2df",
   "metadata": {},
   "source": [
    "### Gleichnamige Variablen"
   ]
  },
  {
   "cell_type": "markdown",
   "id": "31a87846-cc60-47c0-bc95-09ac9ec47442",
   "metadata": {},
   "source": [
    "Wenn innerhalb einer Funktion einer Variable ein Wert zugewiesen wird, geht Python davon aus, dass es sich um eine lokale Variable handelt. Das kann dazu führen, dass vorübergehend zwei Variablen mit demselben Namen existieren."
   ]
  },
  {
   "cell_type": "code",
   "execution_count": 9,
   "id": "9e76a7df-6e04-4162-8387-7634ba986a05",
   "metadata": {},
   "outputs": [
    {
     "name": "stdout",
     "output_type": "stream",
     "text": [
      "x innerhalb der Funktion:  0\n",
      "x außerhalb der Funktion:  10\n"
     ]
    }
   ],
   "source": [
    "x = 10\n",
    "def strange_function():\n",
    "    x = 0\n",
    "    print(\"x innerhalb der Funktion: \", x)\n",
    "    \n",
    "strange_function()\n",
    "\n",
    "print(\"x außerhalb der Funktion: \", x)"
   ]
  },
  {
   "cell_type": "markdown",
   "id": "d43759a7-14dd-4cd2-aa27-001c698e66e2",
   "metadata": {},
   "source": [
    "Dieses Verhalten erschwert es, globale Variablen innerhalb einer Funktion zu verändern - was selten eine gute Idee ist."
   ]
  },
  {
   "cell_type": "markdown",
   "id": "83c07dac-7b22-4f25-a898-364a821a9afd",
   "metadata": {},
   "source": [
    "### Pure Funktionen"
   ]
  },
  {
   "cell_type": "markdown",
   "id": "9b23d2b2-d576-4fc1-b2fe-bbc04cff2f29",
   "metadata": {},
   "source": [
    "Transparent + wirkungsfrei"
   ]
  },
  {
   "cell_type": "markdown",
   "id": "46e07d15-dcc9-44f7-96b7-9fc83c0f9702",
   "metadata": {},
   "source": [
    "### Diskussion: Einsatzszenarien für Funktionen"
   ]
  },
  {
   "cell_type": "markdown",
   "id": "da486f9a-74a4-4e61-bbe5-26be5a658ce6",
   "metadata": {},
   "source": [
    "Überlegt in Gruppen, wie sich die folgenden Programme in Teilaufgaben zerlegen lassen. Wie würden die Funktionen aussehen, die die Teilaufgaben erfüllen? Was wären ihre Parameter und Rückgabewerte?"
   ]
  },
  {
   "cell_type": "code",
   "execution_count": null,
   "id": "734e2e83-dfd8-4058-a20e-719d88d68910",
   "metadata": {},
   "outputs": [],
   "source": []
  }
 ],
 "metadata": {
  "kernelspec": {
   "display_name": "Python 3 (ipykernel)",
   "language": "python",
   "name": "python3"
  },
  "language_info": {
   "codemirror_mode": {
    "name": "ipython",
    "version": 3
   },
   "file_extension": ".py",
   "mimetype": "text/x-python",
   "name": "python",
   "nbconvert_exporter": "python",
   "pygments_lexer": "ipython3",
   "version": "3.9.13"
  }
 },
 "nbformat": 4,
 "nbformat_minor": 5
}
