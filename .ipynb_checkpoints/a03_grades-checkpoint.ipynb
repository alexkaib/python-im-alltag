{
 "cells": [
  {
   "cell_type": "markdown",
   "id": "b316393d-abac-4b2a-98e7-bd4d439af52d",
   "metadata": {},
   "source": [
    "# Code-Analyse: Noten\n",
    "Lese dir das folgende Programm durch und teste es aus. Fülle anschließend die untenstehende Vorlage aus."
   ]
  },
  {
   "cell_type": "markdown",
   "id": "b4738971-ed3c-4fa0-b3be-dad6bce0005f",
   "metadata": {},
   "source": [
    "## Programm"
   ]
  },
  {
   "cell_type": "code",
   "execution_count": null,
   "id": "564bdec6-2046-4c03-8c3e-a18a19b5cd4a",
   "metadata": {},
   "outputs": [],
   "source": [
    "grades = [4, 2, 3, 1]\n",
    "\n",
    "weight_final = input(\"Soll die letzte Note doppelt gewichtet werden? (ja/nein) \")\n",
    "\n",
    "if weight_final == \"ja\":\n",
    "    grades.append(grades[-1])\n",
    "\n",
    "grade_sum = 0\n",
    "passed = True\n",
    "\n",
    "for grade in grades:\n",
    "    if grade > 4:\n",
    "        passed = False\n",
    "        break\n",
    "    \n",
    "    grade_sum = grade_sum + grade\n",
    "\n",
    "if passed:\n",
    "    average = grade_sum / len(grades)\n",
    "    print(\"Fach bestanden mit Durchschnittsnote \" + str(average))\n",
    "else:\n",
    "    print(\"Fach nicht bestanden\")\n"
   ]
  },
  {
   "cell_type": "markdown",
   "id": "231abd8b-e5ce-43ce-9b7e-870ec4d6c461",
   "metadata": {},
   "source": [
    "## Analysevorlage"
   ]
  },
  {
   "cell_type": "markdown",
   "id": "5a45712d-8d39-44e5-a33e-2936c3074511",
   "metadata": {},
   "source": [
    "### In einem Satz\n",
    "Beschreibe in einem Satz, was der **Zweck** des Programms ist."
   ]
  },
  {
   "cell_type": "markdown",
   "id": "184938bb-d844-4e82-95ab-cadc65c47544",
   "metadata": {},
   "source": [
    "\n"
   ]
  },
  {
   "cell_type": "markdown",
   "id": "af8a62f7-1e7c-4177-afa3-b43c3d9280b7",
   "metadata": {},
   "source": [
    "### Programmbestandteile\n",
    "Benenne die **Variablen**, die das Programm beinhaltet und welche Datentypen sie jeweils besitzen."
   ]
  },
  {
   "cell_type": "markdown",
   "id": "28f80e5f-66d4-40cd-bbea-b15aff97137f",
   "metadata": {},
   "source": [
    "\n",
    "\n"
   ]
  },
  {
   "cell_type": "markdown",
   "id": "921dafe5-d407-43d1-8504-8368199a0dbd",
   "metadata": {},
   "source": [
    "Benenne die **Liste**, die das Programm beinhaltet und beschreibe in eigenen Worten, wie sie im Verlauf des Programms verwendet und ggf. verändert wird."
   ]
  },
  {
   "cell_type": "markdown",
   "id": "ac5e8889-c5e7-44f7-a702-4fe1bd712fbf",
   "metadata": {},
   "source": [
    "\n",
    "\n"
   ]
  },
  {
   "cell_type": "markdown",
   "id": "d8c014d5-b614-4fbe-a0eb-9f7df4fe427a",
   "metadata": {},
   "source": [
    "Beschreibe in eigenen Worten, welche Funktion die **for-Schleife** im Programm erfüllt und unter welchen Bedingungen sie terminiert (beendet wird)."
   ]
  },
  {
   "cell_type": "markdown",
   "id": "691a0d85-68a1-41d7-a55a-70aeea8874c2",
   "metadata": {},
   "source": [
    "\n",
    "\n"
   ]
  }
 ],
 "metadata": {
  "kernelspec": {
   "display_name": "Python 3 (ipykernel)",
   "language": "python",
   "name": "python3"
  },
  "language_info": {
   "codemirror_mode": {
    "name": "ipython",
    "version": 3
   },
   "file_extension": ".py",
   "mimetype": "text/x-python",
   "name": "python",
   "nbconvert_exporter": "python",
   "pygments_lexer": "ipython3",
   "version": "3.12.7"
  }
 },
 "nbformat": 4,
 "nbformat_minor": 5
}
