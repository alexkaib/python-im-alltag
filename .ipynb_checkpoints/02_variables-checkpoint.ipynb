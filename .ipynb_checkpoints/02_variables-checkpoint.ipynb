{
 "cells": [
  {
   "cell_type": "markdown",
   "metadata": {},
   "source": [
    "# Teil 2: Variablen\n",
    "**Variablen** sind **Namen**, die wir einem **Wert** geben, um ihn an einer anderen Stelle im Code zu verwenden."
   ]
  },
  {
   "cell_type": "markdown",
   "metadata": {
    "jp-MarkdownHeadingCollapsed": true
   },
   "source": [
    "## 2.1 Zuweisung - Namen an Werte vergeben"
   ]
  },
  {
   "cell_type": "markdown",
   "metadata": {},
   "source": [
    "Eine (Variablen-)Zuweisung ist eine der fundamentalen **Anweisungen** in Python. Sie teilt dem Computer mit, dass ein bestimmter Wert im Rest des Programms mit einem bestimmten Namen abgekürzt wird.\n",
    "\n",
    "Eine Zuweisung besteht immer aus einem `Namen`, einem `=` und einem `Ausdruck`. Beim Ausführen einer Zuweisung wird zuerst der Ausdruck **ausgewertet** und der so erhaltene **Wert** bekommt den Namen."
   ]
  },
  {
   "cell_type": "code",
   "execution_count": null,
   "metadata": {},
   "outputs": [],
   "source": [
    "# Variablenzuweisungen\n",
    "x = 3\n",
    "song = str(99) + \" Luftballons\"\n",
    "greeting = \"Hallo! Wie geht's dir heute?\"\n",
    "result = (3 * 4) - 11"
   ]
  },
  {
   "cell_type": "markdown",
   "metadata": {},
   "source": [
    "#### 🧪Experiment: Variablen aufrufen\n",
    "Gebe die Namen aus der vorherigen Code-Zelle ein. Was passiert? Führe anschließend den Code aus der vorherigen Zelle aus und probiere es noch einmal."
   ]
  },
  {
   "cell_type": "code",
   "execution_count": null,
   "metadata": {},
   "outputs": [],
   "source": [
    "# Klicke auf dieses Feld, um die Aufgabe zu bearbeiten\n"
   ]
  },
  {
   "cell_type": "markdown",
   "metadata": {},
   "source": [
    "Der **Name**, den wir einer Variable geben, kann fast beliebig gewählt werden, er darf allerdings **keine Leerzeichen und Bindestriche** enthalten.\n",
    "\n",
    "Um in längeren Programmen den Überblick zu behalten, ist es sehr wichtig, aussagekräftige Namen für Variablen zu finden. Falls diese aus mehreren Wörtern bestehen, ist es in Python üblich, sie mit `_` zu verknüpfen.\n",
    "\n",
    "Ich nutze in meinen Programmen meist englische Namen für Variablen, weil sie in der Regel kürzer sind, keine Umlaute enthalten und Python generell englischsprachig ist. Das ist aber keine feste Regel, sondern eine Präferenz."
   ]
  },
  {
   "cell_type": "code",
   "execution_count": 2,
   "metadata": {},
   "outputs": [],
   "source": [
    "my_age = 31\n",
    "previous_year = 2024\n",
    "sum_of_small_primes = 2 + 5 + 3 + 7"
   ]
  },
  {
   "cell_type": "markdown",
   "metadata": {
    "jp-MarkdownHeadingCollapsed": true
   },
   "source": [
    "## 2.2 Variablen sind Ausdrücke"
   ]
  },
  {
   "cell_type": "markdown",
   "metadata": {},
   "source": [
    "Variablen können überall dort verwendet werden, wo wir bisher Ausdrücke benutzt haben."
   ]
  },
  {
   "cell_type": "code",
   "execution_count": 3,
   "metadata": {},
   "outputs": [
    {
     "data": {
      "text/plain": [
       "'Hallo Alex'"
      ]
     },
     "execution_count": 3,
     "metadata": {},
     "output_type": "execute_result"
    }
   ],
   "source": [
    "# Variablen in komplexen Ausdrücken\n",
    "name = \"Alex\"\n",
    "\"Hallo \" + name"
   ]
  },
  {
   "cell_type": "markdown",
   "metadata": {
    "jp-MarkdownHeadingCollapsed": true
   },
   "source": [
    "## 2.3 Variablen überschreiben"
   ]
  },
  {
   "cell_type": "markdown",
   "metadata": {},
   "source": [
    "In Python können Variablennamen beliebig oft an neue Werte vergeben werden. Das kann nützlich sein, aber auch unübersichtlich werden."
   ]
  },
  {
   "cell_type": "code",
   "execution_count": null,
   "metadata": {},
   "outputs": [],
   "source": [
    "greeting = \"Hallo\"\n",
    "\n",
    "print(greeting)\n",
    "\n",
    "greeting = \"Hi\"\n",
    "\n",
    "print(greeting)"
   ]
  },
  {
   "cell_type": "markdown",
   "metadata": {},
   "source": [
    "### ❌ Schlechter Stil: Variablen\n",
    "Überlege dir, warum der folgende Code als \"schlechter Stil\" gilt."
   ]
  },
  {
   "cell_type": "code",
   "execution_count": 43,
   "metadata": {},
   "outputs": [],
   "source": [
    "a = \"Benutzer\"\n",
    "b = 1\n",
    "c = \"Admin\"\n",
    "\n",
    "a = c\n",
    "b = a"
   ]
  },
  {
   "cell_type": "markdown",
   "metadata": {},
   "source": [
    "### 🛠️Übung: Variablen sinnvoll nutzen\n",
    "Ergänze den untenstehenden Code, um ein Programm zu vervollständigen, das die Rechnung für einen Einkauf ausgibt.\n"
   ]
  },
  {
   "cell_type": "code",
   "execution_count": null,
   "metadata": {},
   "outputs": [],
   "source": [
    "item = \"Apfel\"\n",
    "price = 0.50\n",
    "amount = 3\n",
    "\n",
    "print(\"Zu zahlen:\")\n",
    "\n",
    "# Ergänze hier Code, der die Anzahl eingekaufter Waren und den Gesamtpreis mit print() ausgibt\n",
    "# Zum Beispiel so: \"3 x Apfel - 1.5 Euro\"\n",
    "# ------------------------------- #\n",
    "\n",
    "\n",
    "\n",
    "# ------------------------------- #\n",
    "\n",
    "print(\"Danke für Ihren Einkauf!\")"
   ]
  },
  {
   "cell_type": "markdown",
   "metadata": {
    "jp-MarkdownHeadingCollapsed": true
   },
   "source": [
    "## 2.4 Nutzereingaben speichern"
   ]
  },
  {
   "cell_type": "markdown",
   "metadata": {},
   "source": [
    "Variablen erlauben es uns in Kombination mit der `input()`-Funktion die **Eingaben** von Nutzer:innen abzuspeichern. Wir können die Eingaben dann später im Code verwenden und so **interaktive** Programme entwickeln.\n",
    "\n",
    "In die Klammern von `input()` können wir einen **String** schreiben, der den Nutzer:innen als Eingabeaufforderung angezeigt wird."
   ]
  },
  {
   "cell_type": "code",
   "execution_count": null,
   "metadata": {},
   "outputs": [],
   "source": [
    "name = input(\"Wie heißt du? \")\n",
    "\n",
    "print(\"Hallo, \" + name + \"!\")"
   ]
  },
  {
   "cell_type": "markdown",
   "metadata": {},
   "source": [
    "#### 🐞Bug Hunt: Input\n",
    "Probiere das folgende Programm aus und analysiere das Ergebnis. Versuche anschließend, den Code zu verbessern!"
   ]
  },
  {
   "cell_type": "code",
   "execution_count": null,
   "metadata": {
    "scrolled": true
   },
   "outputs": [],
   "source": [
    "apple_price = 0.5\n",
    "amount = input(\"Wie viele Äpfel möchten Sie kaufen? \")\n",
    "\n",
    "total_price = apple_price * amount\n",
    "\n",
    "print(\"Das macht dann \" + total_price + \" Euro.\")"
   ]
  }
 ],
 "metadata": {
  "kernelspec": {
   "display_name": "Python 3 (ipykernel)",
   "language": "python",
   "name": "python3"
  },
  "language_info": {
   "codemirror_mode": {
    "name": "ipython",
    "version": 3
   },
   "file_extension": ".py",
   "mimetype": "text/x-python",
   "name": "python",
   "nbconvert_exporter": "python",
   "pygments_lexer": "ipython3",
   "version": "3.12.7"
  }
 },
 "nbformat": 4,
 "nbformat_minor": 4
}
