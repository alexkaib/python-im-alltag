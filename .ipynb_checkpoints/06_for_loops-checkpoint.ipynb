{
 "cells": [
  {
   "cell_type": "markdown",
   "id": "6ed2328b-6a60-49eb-ad06-ac6cc06ac480",
   "metadata": {},
   "source": [
    "# Teil 6: For-Schleifen\n",
    "**Schleifen** führen einen **Code-Block** mehrmals aus. Die `for`-Schleife geht dabei jedes Element einer **Liste** (o.ä. Datentypen) durch."
   ]
  },
  {
   "cell_type": "markdown",
   "id": "de2bd4d1-a133-4d89-92d6-d1303a31e829",
   "metadata": {
    "jp-MarkdownHeadingCollapsed": true
   },
   "source": [
    "## 6.1 Listen iterieren"
   ]
  },
  {
   "cell_type": "markdown",
   "id": "062791a4-66b5-410c-a87b-9fc3476c432d",
   "metadata": {},
   "source": [
    "Die grundlegende Syntax für `for`-Schleifen in Python ist folgende:\n",
    "```python\n",
    "for element in list_name:\n",
    "    ...\n",
    "```\n",
    "Der eingerückte Code, hier mit `...` angedeutet, wird dabei so oft wiederholt, wie es Elemente in der Liste gibt. Außerdem wird die hier `element` genannte Variable bei jedem Durchgang mit dem nächsten Element in der Liste überschrieben. So kann man z.B. jedes Element bearbeiten oder nach bestimmten Elementen suchen.\n",
    "\n",
    "Die Elemente einer Liste durchzugehen wird auch als das **Iterieren** der Liste bezeichnet. Jeder Durchgang ist dabei eine **Iteration**."
   ]
  },
  {
   "cell_type": "code",
   "execution_count": null,
   "id": "000297bc-ffe7-4649-a108-7f242ddd894a",
   "metadata": {},
   "outputs": [],
   "source": [
    "words = [\"This\", \"is\", \"a\", \"sentence\"]\n",
    "\n",
    "for word in words:\n",
    "    print(word)"
   ]
  },
  {
   "cell_type": "markdown",
   "id": "e91573a3-4557-453a-9dd8-9043d07458cf",
   "metadata": {},
   "source": [
    "Der Name nach `for` ist eine Variable und kann beliebig gewählt werden. Der folgende Code erreicht beispielsweise genau dasselbe wie der vorhergehende:"
   ]
  },
  {
   "cell_type": "code",
   "execution_count": null,
   "id": "11bf63bb-d86a-4265-b3cf-96889b36a1ef",
   "metadata": {},
   "outputs": [],
   "source": [
    "words = [\"This\", \"is\", \"a\", \"sentence\"]\n",
    "\n",
    "# Hier wird der Variablenname \"thing\" statt \"word\" benutzt - das macht aber keinen Unterschied\n",
    "for thing in words:\n",
    "    print(thing)"
   ]
  },
  {
   "cell_type": "markdown",
   "id": "25a5d623-e79a-4655-bdc8-e74309965ede",
   "metadata": {},
   "source": [
    "### 🛠️Übung: Summe berechnen\n",
    "Vervollständige das folgende Programm, so dass die Summe der Zahlen in der Liste berechnet wird."
   ]
  },
  {
   "cell_type": "code",
   "execution_count": null,
   "id": "f3a76e6d-afe8-4403-9b93-8ed515b2dae2",
   "metadata": {},
   "outputs": [],
   "source": [
    "numbers = [43, 66, 1, 74, 91, 452]\n",
    "total = 0\n",
    "\n",
    "for ??? in ???:\n",
    "    total = total + ???\n",
    "\n",
    "print(\"Die Summe beträgt: \" + ???)"
   ]
  },
  {
   "cell_type": "markdown",
   "id": "492856d7-fefe-4681-8ee9-c0048408ff44",
   "metadata": {},
   "source": [
    "### 🛠️Übung: Listen filtern\n",
    "Schreibe ein Programm, das alle Strings einer Liste ausgibt, die mehr als fünf Buchstaben enthalten."
   ]
  },
  {
   "cell_type": "code",
   "execution_count": null,
   "id": "d7328503-a77f-4f05-aec5-ab4d96aeaee0",
   "metadata": {},
   "outputs": [],
   "source": [
    "greetings = [\"Hi\", \"Hallo\", \"Hallöchen\", \"Moin\", \"Guten Morgen\", \"Servus\"]\n",
    "\n",
    "# Platz für die Aufgabe\n",
    "\n",
    "\n"
   ]
  },
  {
   "cell_type": "markdown",
   "id": "008796a9-5f9d-4627-bf81-bf3eea1820c2",
   "metadata": {
    "jp-MarkdownHeadingCollapsed": true
   },
   "source": [
    "## 6.2 Iterationen überspringen"
   ]
  },
  {
   "cell_type": "markdown",
   "id": "0a439d24-1453-455a-a285-cf029d10d884",
   "metadata": {},
   "source": [
    "Manchmal möchte man eine Iteration, also einen Durchgang der Schleife, überspringen. Dafür wird der `continue` Befehl benutzt, der den Computer dazu veranlasst, sofort die nächte Iteration zu beginnen."
   ]
  },
  {
   "cell_type": "code",
   "execution_count": null,
   "id": "91abd380-58d4-4e29-ae9c-654c2c9f1a84",
   "metadata": {},
   "outputs": [],
   "source": [
    "# Beispiel: Ein- und Auszüge auf einem Bankkonto\n",
    "transactions = [300, -9.99, -24, -1.99, 160, -210, -290, 500]\n",
    "revenue = 0\n",
    "\n",
    "for transaction in transactions:\n",
    "    # Negative Transaktionen werden übersprungen, um nur die Einnahmen zu addieren\n",
    "    if transaction < 0:\n",
    "        continue\n",
    "    revenue = revenue + transaction\n",
    "\n",
    "print(revenue)"
   ]
  },
  {
   "cell_type": "markdown",
   "id": "02159a1e-098a-4a7a-a56c-c52c1aba0255",
   "metadata": {},
   "source": [
    "### 🐞Bug Hunt: E-Mail-Validierung\n",
    "Was stimmt an dem folgenden Code nicht? Analysiere das Ergebnis und versuche, den Code zu verbessern!"
   ]
  },
  {
   "cell_type": "code",
   "execution_count": null,
   "id": "51dbb1a4-3e4f-41ab-9292-b7dbfbd2d743",
   "metadata": {},
   "outputs": [],
   "source": [
    "emails = ['user@example.com', 'invalid-email', 'test@domain.com', '', 'hello@world.net']\n",
    "valid_emails = []\n",
    "\n",
    "for email in emails:\n",
    "    if '@' not in email:\n",
    "        continue\n",
    "        valid_emails.append(email)\n",
    "    \n",
    "print(\"Gültige Email-Adressen:\", valid_emails)"
   ]
  },
  {
   "cell_type": "markdown",
   "id": "a059e283-b7a6-4036-a272-b96384de263c",
   "metadata": {
    "jp-MarkdownHeadingCollapsed": true
   },
   "source": [
    "## 6.3 Schleifen unterbrechen"
   ]
  },
  {
   "cell_type": "markdown",
   "id": "f9df8690-9c75-4e62-a973-cdb03ab4e88e",
   "metadata": {},
   "source": [
    "Manchmal möchte man nicht nur eine Iteration, sondern **alle Iterationen** überspringen. Dafür wird der `break` Befehl benutzt, der den Computer dazu veranlasst, die Schleife sofort zu beenden."
   ]
  },
  {
   "cell_type": "code",
   "execution_count": null,
   "id": "29601eb0-0421-47d0-b8d4-e75025385dcb",
   "metadata": {},
   "outputs": [],
   "source": [
    "transactions = [300, -9.99, -24, -1.99, 160, -210, -290, 500]\n",
    "balance = 0\n",
    "\n",
    "balance = 0\n",
    "for transaction in transactions:\n",
    "    balance = balance + transaction\n",
    "    if balance < 0:\n",
    "        print(\"Achtung: Kontoüberziehung!\")\n",
    "        break"
   ]
  }
 ],
 "metadata": {
  "kernelspec": {
   "display_name": "Python 3 (ipykernel)",
   "language": "python",
   "name": "python3"
  },
  "language_info": {
   "codemirror_mode": {
    "name": "ipython",
    "version": 3
   },
   "file_extension": ".py",
   "mimetype": "text/x-python",
   "name": "python",
   "nbconvert_exporter": "python",
   "pygments_lexer": "ipython3",
   "version": "3.12.7"
  }
 },
 "nbformat": 4,
 "nbformat_minor": 5
}
