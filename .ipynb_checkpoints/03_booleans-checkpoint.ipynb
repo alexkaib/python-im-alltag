{
 "cells": [
  {
   "cell_type": "markdown",
   "id": "712245df-c9c0-4d1a-9bfa-d9a52a887685",
   "metadata": {},
   "source": [
    "# Teil 3: Wahrheitswerte / Booleans"
   ]
  },
  {
   "cell_type": "markdown",
   "id": "9288f4ff-9fa3-4eef-81ec-f1513d8efaf2",
   "metadata": {},
   "source": [
    "Neben `int`, `float` und `str` gibt es einen weiteren wichtigen **Datentyp**, den wir bisher nicht behandelt haben: `bool`, kurz für **Boolean**. Es handelt sich um **Wahrheitswerte**, die für die Logik von Programmen sehr wichtig sind. Etwas vereinfacht gesagt: anhand von Wahrheitswerten entscheiden Computer, welche Entscheidung sie treffen sollen. Oder, etwas genauer: Je nachdem, ob eine Aussage **wahr** oder **falsch** ist, wird der eine oder andere Teil eines Programms ausgeführt.\n",
    "\n",
    "Unsere (menschlichen) Entscheidungen funktionieren eigentlich ganz ähnlich: Wir wägen die Tatsachen ab - zum Beispiel, ob es gerade regnet - und verhalten uns entsprechend - zum Beispiel, indem wir einen Regenschirm mitnehmen. Der **Wahrheitswert** des Satzes \"Es regnet\" - also ob dieser Satz wahr oder falsch ist - spielt für unsere Entscheidung die tragende Rolle."
   ]
  },
  {
   "cell_type": "markdown",
   "id": "64523484-da5d-4fe5-84a2-bf9684b07b33",
   "metadata": {
    "jp-MarkdownHeadingCollapsed": true
   },
   "source": [
    "## 3.0 Warum \"Boolean\"?"
   ]
  },
  {
   "cell_type": "markdown",
   "id": "6d3fa607-a421-47f3-b390-387108e4295d",
   "metadata": {},
   "source": [
    "Um \"Booleans\" richtig zu verwenden, muss man nicht wissen, warum sie so genannt werden. Es ist aber ganz interessant zu wissen, dass der Name auf den Mathematiker und Philosophen [**George Boole**](https://de.wikipedia.org/wiki/George_Boole) zurückgeht. Bereits im 19. Jahrhundert entwickelte der Engländer die Idee, dass man mit Wahrheitswerten (wahr und falsch) und logischen Operatoren (die Begriffe \"und\", \"oder\", \"nicht\") wie mit Zahlen rechnen kann. Diese Entdeckung revolutionierte die Logik und bildete knapp 100 Jahre später die Grundlage für digitale Systeme (darunter Computer), die alle auf der fundamentalen Abstraktion von zwei Wahrheitswerten beruhen (0 und 1, hohe und tiefe Spannung, an und aus). Besonders beeindruckend ist, dass Boole lediglich die Grundschule besuchte und nie einen höheren Bildungsweg beschritt, sonderns sich von Kindheit an Fremdsprachen und Mathematik selbst beibrachte (mit der Unterstützung seiner Familie und Zugang zu einer gut ausgestatteten Bibliothek). In fast allen Programmiersprachen findet sich sein Name als Datentyp wieder."
   ]
  },
  {
   "cell_type": "markdown",
   "id": "9487120f-8bba-41fe-bd97-be4d69689bde",
   "metadata": {
    "jp-MarkdownHeadingCollapsed": true
   },
   "source": [
    "## 3.1 Wahr oder Falsch"
   ]
  },
  {
   "cell_type": "markdown",
   "id": "c1f39669-83ce-439c-81d9-2fac073c6a61",
   "metadata": {},
   "source": [
    "Anders als Strings und Integers, die unendlich viele Werte annehmen können, gibt es nur zwei Boolean-Werte: `True` und `False`. Um als Boolean-Literale erkannt zu werden, müssen sie genau so geschrieben werde - ohne Anführungszeichen und mit Großbuchstaben."
   ]
  },
  {
   "cell_type": "code",
   "execution_count": null,
   "id": "2cc0ebc5-c489-4cf3-aac3-e6b34fa21d7e",
   "metadata": {},
   "outputs": [],
   "source": [
    "# Wahrheit\n",
    "True"
   ]
  },
  {
   "cell_type": "code",
   "execution_count": null,
   "id": "175f5f74-d885-4f7a-b296-df9fa0b7505a",
   "metadata": {},
   "outputs": [],
   "source": [
    "# Falschheit\n",
    "False"
   ]
  },
  {
   "cell_type": "markdown",
   "id": "6423df00-1c48-4656-9bcb-53e9b1a230fc",
   "metadata": {
    "jp-MarkdownHeadingCollapsed": true
   },
   "source": [
    "## 3.2 Vergleichsoperatoren"
   ]
  },
  {
   "cell_type": "markdown",
   "id": "96cd7c39-936d-4377-b203-c787ecfb10df",
   "metadata": {},
   "source": [
    "Die einfachsten Aussagen, anhand derer eine Entscheidung getroffen werden kann, sind **Vergleiche**. Stimmt eine Nutzereingabe mit einem Password überein? Ist der Wert eines Gutscheins höher als der Einkaufspreis? Ist es vor oder nach 17:00 Uhr? Das alles sind Fragen, die in Python mit Vergleichsoperatoren beantwortet werden können, um einen **Wahrheitswert** zu erhalten."
   ]
  },
  {
   "cell_type": "markdown",
   "id": "c185af52-9965-4aa8-8e9c-e37337dba236",
   "metadata": {},
   "source": [
    "### (Un-)Gleichheit (`==` und `!=`) "
   ]
  },
  {
   "cell_type": "code",
   "execution_count": null,
   "id": "b74c86de-1343-468c-9cd2-285202dd828e",
   "metadata": {},
   "outputs": [],
   "source": [
    "# Der == Operator: Sind zwei Werte gleich?\n",
    "\n",
    "secret_password = \"swordfish\"\n",
    "user_password = input(\"Was ist das Passwort? \")\n",
    "\n",
    "secret_password == user_password"
   ]
  },
  {
   "cell_type": "code",
   "execution_count": null,
   "id": "b96160b9-6b28-4965-9b30-4395e28c2f04",
   "metadata": {},
   "outputs": [],
   "source": [
    "# Der != Operator: Sind zwei Werte ungleich?\n",
    "\n",
    "my_name = \"Alex\"\n",
    "your_name = input(\"Wie heißt du? \")\n",
    "\n",
    "my_name != your_name"
   ]
  },
  {
   "cell_type": "markdown",
   "id": "581b26d3-0229-40bf-89f2-775b102149a2",
   "metadata": {},
   "source": [
    "### Größer und kleiner (`>` und `<`)"
   ]
  },
  {
   "cell_type": "code",
   "execution_count": null,
   "id": "c73cb95b-52f6-4af7-a37b-948bc24e3d3f",
   "metadata": {},
   "outputs": [],
   "source": [
    "# Der > Operator: Ist links größer als rechts?\n",
    "\n",
    "gift_card = 10.0\n",
    "book_price = 7.5\n",
    "\n",
    "gift_card > book_price"
   ]
  },
  {
   "cell_type": "code",
   "execution_count": null,
   "id": "937bd856-8841-44ca-889d-1cb2443a56e7",
   "metadata": {},
   "outputs": [],
   "source": [
    "# Der < Operator: Ist links kleiner als rechts?\n",
    "\n",
    "current_time = 13 \n",
    "quitting_time = 17\n",
    "\n",
    "current_time < quitting_time"
   ]
  },
  {
   "cell_type": "markdown",
   "id": "760d3eac-3fcd-4c9d-b0c2-fc416dc1e29e",
   "metadata": {},
   "source": [
    "### Größer-/Kleiner-gleich (`>=` und `<=`)"
   ]
  },
  {
   "cell_type": "code",
   "execution_count": null,
   "id": "13a9f590-ae3c-4283-8f8d-2c57dfb597ba",
   "metadata": {},
   "outputs": [],
   "source": [
    "# Der >= Operator: Ist links größer oder gleich rechts?\n",
    "\n",
    "2 >= 2.0"
   ]
  },
  {
   "cell_type": "code",
   "execution_count": null,
   "id": "9a2edda7-fb28-4dec-84bd-a80dbf915ebd",
   "metadata": {},
   "outputs": [],
   "source": [
    "# Der <= Operator: Ist links kleiner oder gleich rechts?\n",
    "\n",
    "4 <= 5"
   ]
  },
  {
   "cell_type": "markdown",
   "id": "5f6f5ee7-f639-4de3-9dbb-c7c2d725894a",
   "metadata": {},
   "source": [
    "### 🛠️Übung: Vergleichsoperatoren\n",
    "Ersetze im folgenden Code die Fragezeichen mit Operatoren, so dass alle Vergleiche `True` ergeben."
   ]
  },
  {
   "cell_type": "code",
   "execution_count": null,
   "id": "f2ea05a8-a6ed-4c30-9183-7dee263b7202",
   "metadata": {},
   "outputs": [],
   "source": [
    "lunch_time = 12\n",
    "current_time = 13.5\n",
    "\n",
    "print(lunch_time ? current_time)\n",
    "\n",
    "print(3 * 3 ? 9)\n",
    "\n",
    "print(-5 ? -7)\n",
    "\n",
    "print(9 % 2 ? 0)"
   ]
  },
  {
   "cell_type": "markdown",
   "id": "7cf1e65e-0982-4352-951e-0cdb44cf308b",
   "metadata": {},
   "source": [
    "### Lexikalische (alphabetische) Ordnung"
   ]
  },
  {
   "cell_type": "markdown",
   "id": "f8873885-cba1-4ac8-9c87-97fbf70ffe52",
   "metadata": {},
   "source": [
    "Die Operatoren `>`, `<`, `>=` und `<=` können mit **Strings** genutzt werden, um zu vergleichen, welcher String im Alphabet vor einem anderen steht und in diesem Sinne \"kleiner\" ist."
   ]
  },
  {
   "cell_type": "code",
   "execution_count": null,
   "id": "6150c2ab-3a63-4cb6-bd4e-ef2ea0f4779a",
   "metadata": {},
   "outputs": [],
   "source": [
    "# Kommt der Buchstabe \"a\" im Alphabet vor \"b\"?\n",
    "print(\"a\" < \"b\")\n",
    "\n",
    "# Sollte der Name \"Alex\" in einer alphabetischen Namensliste hinter \"Anna\" stehen?\n",
    "print(\"Alex\" > \"Anna\")"
   ]
  },
  {
   "cell_type": "markdown",
   "id": "51c1cfcf-514e-4cfd-8641-72156d7724ee",
   "metadata": {},
   "source": [
    "### Enthalten-sein (`in`)"
   ]
  },
  {
   "cell_type": "markdown",
   "id": "8954375e-18ac-4581-9581-39da1bffcf88",
   "metadata": {},
   "source": [
    "Mit dem Schlüsselwort `in` kann überprüft werden, ob ein String in einem anderen String enthalten ist. Streng genommen ist das keine Vergleichsoperation, aber es wird ebenfalls ein Wahrheitswert produziert."
   ]
  },
  {
   "cell_type": "code",
   "execution_count": null,
   "id": "4f2cd7e0-3678-4b46-9474-f1bc7030456e",
   "metadata": {},
   "outputs": [],
   "source": [
    "# Ist das Wort im Satz enthalten?\n",
    "sentence = \"Lass uns einen Film schauen.\"\n",
    "search_word = \"Film\"\n",
    "\n",
    "search_word in sentence"
   ]
  },
  {
   "cell_type": "markdown",
   "id": "380eacba-5a7c-4b0b-87f3-ad9f96e115e4",
   "metadata": {
    "jp-MarkdownHeadingCollapsed": true
   },
   "source": [
    "## 3.3 Logische Operatoren"
   ]
  },
  {
   "cell_type": "markdown",
   "id": "15084267-63c0-421c-98a0-5d738876e7b9",
   "metadata": {},
   "source": [
    "**Komplexe Aussagen** sind analog zu **komplexen Ausdrücken**. Durch verknüpfende **Operatoren** können einfache Aussagen zu einer neuen Aussage zusammengesetzt werden. Das machen wir in der Alltagssprache andauernd: Es ist spät **und** ich bin müde; Wir gehen ins Kino **oder** bleiben daheim; Sie ist **nicht** zuhause. In Python funktioniert das ganz ähnlich."
   ]
  },
  {
   "cell_type": "markdown",
   "id": "f72e33f2-183f-4396-b294-f5c0c06b1d7c",
   "metadata": {},
   "source": [
    "### Konjunktion (`and`)"
   ]
  },
  {
   "cell_type": "markdown",
   "id": "1e91c6f0-d95d-42d8-a970-5436a657bbd3",
   "metadata": {},
   "source": [
    "Eine Aussage, die mit `and` gebildet wird, ist genau dann wahr, wenn **beide Teilaussagen wahr** sind."
   ]
  },
  {
   "cell_type": "code",
   "execution_count": null,
   "id": "ecadd2d1-06fe-4157-98de-d782236e65e1",
   "metadata": {},
   "outputs": [],
   "source": [
    "late = True\n",
    "tired = True\n",
    "\n",
    "late and tired"
   ]
  },
  {
   "cell_type": "markdown",
   "id": "b8f83e41-db6c-4ac8-9175-496a31bf3193",
   "metadata": {},
   "source": [
    "### Disjunktion (`or`)"
   ]
  },
  {
   "cell_type": "markdown",
   "id": "a55392b9-802c-4527-9f8f-fda61b27746a",
   "metadata": {},
   "source": [
    "Eine Aussage, die mit `or` gebildet wird, ist genau dann wahr, wenn **eine oder beide Teilaussagen wahr** sind."
   ]
  },
  {
   "cell_type": "code",
   "execution_count": null,
   "id": "d64d758b-cef7-4129-91af-9af59a55e7a1",
   "metadata": {},
   "outputs": [],
   "source": [
    "go_to_movie = False\n",
    "stay_home = True\n",
    "\n",
    "go_to_movie or stay_home"
   ]
  },
  {
   "cell_type": "markdown",
   "id": "bad4197b-1eab-4191-8724-1ccc49865235",
   "metadata": {},
   "source": [
    "### Negation (`not`)"
   ]
  },
  {
   "cell_type": "markdown",
   "id": "6c9db517-cfa0-4445-a76e-ee8831751b03",
   "metadata": {},
   "source": [
    "Eine Aussage, die mit `not` gebildet wird, **dreht den Wahrheitswert um** bzw. ist genau dann wahr, wenn die ursprüngliche Aussage falsch ist."
   ]
  },
  {
   "cell_type": "code",
   "execution_count": null,
   "id": "172085a8-535a-4e01-957e-b676e0f99bf2",
   "metadata": {},
   "outputs": [],
   "source": [
    "at_home = False\n",
    "\n",
    "not at_home"
   ]
  },
  {
   "cell_type": "markdown",
   "id": "59566b14-0eaf-43e1-94ee-22a494ce984e",
   "metadata": {},
   "source": [
    "### 🛠️Übung: Sätze bilden\n",
    "Bilde mit den vorgegebenen Variablen den Satz \"Es ist nicht zu spät und nicht zu früh\". Ersetze anschließend die Fragezeichen so, dass der Satz wahr wird."
   ]
  },
  {
   "cell_type": "code",
   "execution_count": null,
   "id": "f61ebe61-312f-48f1-a489-b0851a50a1c3",
   "metadata": {},
   "outputs": [],
   "source": [
    "# Klicke auf dieses Feld, um die Aufgabe zu bearbeiten\n",
    "\n",
    "too_late = ?\n",
    "too_early = ?\n",
    "\n"
   ]
  },
  {
   "cell_type": "markdown",
   "id": "90b0996f-a7d4-4ac1-8254-e839dd9615ab",
   "metadata": {
    "jp-MarkdownHeadingCollapsed": true
   },
   "source": [
    "## 3.4 Bool-Konvertierung"
   ]
  },
  {
   "cell_type": "markdown",
   "id": "5f205cf7-a0ad-4155-961e-a7f5cb9ed44e",
   "metadata": {},
   "source": [
    "Wie bei den anderen Datentypen kannst du mit `bool()` einen Wert in einen Boolean umwandeln. Dass das geht, ist nicht selbstverständlich, denn an sich sind Werte ja nicht \"wahr\" oder \"falsch\". Allerdings ist es im Programmierkontext oft nützlich, einen Wert mit einem bestimmten Wahrheitswert zu assoziieren."
   ]
  },
  {
   "cell_type": "markdown",
   "id": "c61763f7-64eb-4d09-8878-3ac37f6ef9ee",
   "metadata": {},
   "source": [
    "#### 🧪Experiment: Der Wahrheit nah und fern\n",
    "Welche der folgenden Werte verschiedener Datentypen sieht Python als \"wahr\" an? Ergibt das aus deiner Sicht Sinn?\n",
    "```python\n",
    "\"Hallo!\"\n",
    "\"True\"\n",
    "\"False\"\n",
    "\"\"\n",
    "\" \"\n",
    "0\n",
    "\"0\"\n",
    "0.0\n",
    "0.5\n",
    "-1\n",
    "99\n"
   ]
  },
  {
   "cell_type": "code",
   "execution_count": null,
   "id": "c2672889-8e80-4442-af98-8c7343482e49",
   "metadata": {},
   "outputs": [],
   "source": [
    "# Klicke auf dieses Feld, um die Aufgabe zu bearbeiten\n",
    "\n"
   ]
  }
 ],
 "metadata": {
  "kernelspec": {
   "display_name": "Python 3 (ipykernel)",
   "language": "python",
   "name": "python3"
  },
  "language_info": {
   "codemirror_mode": {
    "name": "ipython",
    "version": 3
   },
   "file_extension": ".py",
   "mimetype": "text/x-python",
   "name": "python",
   "nbconvert_exporter": "python",
   "pygments_lexer": "ipython3",
   "version": "3.12.7"
  }
 },
 "nbformat": 4,
 "nbformat_minor": 5
}
