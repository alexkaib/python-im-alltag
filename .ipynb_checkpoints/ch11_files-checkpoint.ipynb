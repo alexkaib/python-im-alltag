{
 "cells": [
  {
   "cell_type": "markdown",
   "id": "ef7af9f2-369e-4763-8a59-1605583e635a",
   "metadata": {
    "editable": true,
    "slideshow": {
     "slide_type": ""
    },
    "tags": []
   },
   "source": [
    "# Teil 11: Dateien lesen und schreiben\n",
    "Bisher konnten wir nur Programme entwickeln, die Informationen durch User-Input aufnehmen und nach Ablauf des Programms wieder löschen. Der **lesende und schreibende Zugriff auf Dateien** ermöglicht es uns, Daten aus externen Quellen zu verarbeiten und zu speichern."
   ]
  },
  {
   "cell_type": "markdown",
   "id": "cf8f5068-8a48-4b84-a4fb-68ea79b46890",
   "metadata": {
    "jp-MarkdownHeadingCollapsed": true
   },
   "source": [
    "## 10.1 Dateien öffnen und auslesen"
   ]
  },
  {
   "cell_type": "markdown",
   "id": "d7763c49-02ae-4bf7-8d00-38a35ce0b385",
   "metadata": {},
   "source": [
    "Die übliche Methode, Dateien mit Python zu öffnen, ist das `with open(...) as f` Konstrukt. Es erlaubt uns, in einem eingerückten **Code-Block** mit der geöffneten Datei zu arbeiten und schließt sie danach automatisch.\n",
    "\n",
    "Das erste Argument von `open(...)` ist der **Pfad**, unter dem die zu öffnende Datei liegt. Wenn das Programm im selben Ordner aufgerufen wird, wie die Datei, reicht der Dateiname.\n",
    "\n",
    "Der Variablenname `f` kann beliebig gewählt werden und erlaubt innerhalb des Code-Blocks den Zugriff auf die Datei, z.B. durch die `f.read()`-Methode, die den Text der Datei als String liefert."
   ]
  },
  {
   "cell_type": "code",
   "execution_count": null,
   "id": "e997efad-f025-402f-a82f-0af1e74048a1",
   "metadata": {},
   "outputs": [],
   "source": [
    "# Programm, das die Datei \"poem.txt\" öffnet\n",
    "with open(\"poem.txt\") as f:\n",
    "    poem_string = f.read()\n",
    "    print(poem_string)"
   ]
  },
  {
   "cell_type": "markdown",
   "id": "40765bda-8e85-4d00-bdcd-c23756858913",
   "metadata": {},
   "source": [
    "### 🧪 Experiment: Texte mit Umlauten\n",
    "Versuche, die Datei \"umlaute.txt\" so wie die \"poem\"-Datei zu öffnen. Was passiert? Hast du eine Vermutung, woran das liegt?"
   ]
  },
  {
   "cell_type": "code",
   "execution_count": null,
   "id": "19c3358f-0bbd-4e4d-960b-f1b2d2a85082",
   "metadata": {},
   "outputs": [],
   "source": [
    "# Platz für die Aufgabe\n",
    "with open(\"umlaute.txt\") as f:\n",
    "    print(f.read())\n"
   ]
  },
  {
   "cell_type": "markdown",
   "id": "239b0425-e8dc-453e-b742-47faa3a5e96c",
   "metadata": {
    "jp-MarkdownHeadingCollapsed": true
   },
   "source": [
    "## 10.2 Umlaute und Encodings"
   ]
  },
  {
   "cell_type": "markdown",
   "id": "bda745ee-d441-44ad-9100-5335b7b2c065",
   "metadata": {},
   "source": [
    "Zeichen werden in Computern als Binärzahlen gespeichert. Dadurch stellt sich die Frage, **welche Zahl zu welchem Buchstaben gehört** - eine Frage, die sehr kompliziert wird, wenn man bedenkt, dass nicht alle Sprachen mit den 26 englischen Buchstaben auskommen, sondern zusätzlich von den 4 deutschen Sonderzeichen bis zu über 50.000 chinesische Schriftzeichen enthalten können. Deshalb haben sich über die letzten Jahrzehnte mehrere **Zeichenkodierungen** (engl. \"Encoding\") entwickelt, die unterschiedliche Anforderungen abdecken.\n",
    "\n",
    "Wenn das Öffnen einer Textdatei mit Python zu <a href=\"https://de.wikipedia.org/wiki/Zeichensalat\" target=\"_blank\">Zeichensalat</a> führt, dann liegt das höchstwahrscheinlich an der Kodierung. Dieser Fehler kann meist behoben werden, indem das richtige Format durch den `encoding`-Parameter in der `open()`-Funktion spezifiziert wird. In vielen Fällen ist das universelle **UTF-8** das richtige Format, aber leider sind auch plattformspezifische Kodierungen wie Windows' **cp1252** weiterhin verbreitet. In der Praxis ist das ein ernstzunehmendes Problem, aber für unseren Kurs reicht es meist, UTF-8 zu nutzen."
   ]
  },
  {
   "cell_type": "code",
   "execution_count": null,
   "id": "12bec038-2d01-4038-a18d-bf96d63573c4",
   "metadata": {},
   "outputs": [],
   "source": [
    "# Programm, das das Encoding der Datei korrekt spezifiziert\n",
    "with open(\"umlaute.txt\", encoding=\"UTF-8\") as f:\n",
    "    poem_string = f.read()\n",
    "    print(poem_string)"
   ]
  },
  {
   "cell_type": "markdown",
   "id": "d16d8210-8eea-41ae-bfde-744454904f2e",
   "metadata": {},
   "source": [
    "### 🛠️ Übung: Stichwortsuche\n",
    "Öffne die Datei \"kafka.txt\" mit dem `with open()`-Konstrukt und dem UTF-8 Encoding. Nutze anschließend die `f.readlines()`-Methode, die den Text als Liste von Zeilen liefert, um den Text Zeile für Zeile durchzugehen. Gebe dabei diejenigen Zeilen mit `print()` aus, die das Wort \"Hunger\" enthalten."
   ]
  },
  {
   "cell_type": "code",
   "execution_count": null,
   "id": "01c2aac6-b50e-49b3-b003-4f001931fe9b",
   "metadata": {},
   "outputs": [],
   "source": [
    "# Platz für die Aufgabe\n",
    "with open(\"kafka.txt\", encoding=\"UTF-8\") as f:\n",
    "    lines = f.readlines()\n",
    "    counter = 1\n",
    "    for line in lines:\n",
    "        if \"Hunger\" in line:\n",
    "            print(counter, \". \", line)\n",
    "            counter += 1\n"
   ]
  },
  {
   "cell_type": "markdown",
   "id": "3b663ec7-03f5-4cb8-ac33-0073a4afbb85",
   "metadata": {
    "jp-MarkdownHeadingCollapsed": true
   },
   "source": [
    "## 10.3 Dateien (über-)schreiben"
   ]
  },
  {
   "cell_type": "markdown",
   "id": "2513b693-c2dc-40d7-896e-bba634f54be1",
   "metadata": {},
   "source": [
    "Um einen String in eine Textdatei zu schreiben, muss man sie im **w**rite oder **a**ppend Modus öffnen. Im **w**-Modus wird der bestehende Inhalt überschrieben, im **a**-Modus wird er angehängt. Beide Modi haben die Besonderheit, dass die Datei neu erstellt wird, falls sie noch nicht existiert.\n",
    "\n",
    "Möchte man **Zeilenumbrüche** in eine Datei hinzufügen, kann man in einem String das Sonderzeichen `\\n` (für **n**ewline) nutzen."
   ]
  },
  {
   "cell_type": "code",
   "execution_count": null,
   "id": "ee95200a-f62f-4a66-8f02-c71252c0bafa",
   "metadata": {},
   "outputs": [],
   "source": [
    "# Text in einer bestehenden Datei überschreiben / neue Datei mit Text erstellen\n",
    "multi_line_string = \"\"\"\n",
    "Hier stehen\n",
    "mehrere\n",
    "Zeilen.\n",
    "\"\"\"\n",
    "\n",
    "with open(\"diary.txt\", \"w\", encoding=\"UTF-8\") as f:\n",
    "    f.write(multi_line_string)"
   ]
  },
  {
   "cell_type": "code",
   "execution_count": null,
   "id": "e6d4ef09-7fa7-4f46-bb89-d6e85393d11a",
   "metadata": {},
   "outputs": [],
   "source": [
    "# Text an eine bestehende Datei anhängen\n",
    "with open(\"diary.txt\", \"a\", encoding=\"UTF-8\") as f:\n",
    "    f.write(\"Heute habe ich noch mehr Python gelernt.\\n\")"
   ]
  },
  {
   "cell_type": "markdown",
   "id": "77c23ab2-c3d1-4711-b118-3499b60523a8",
   "metadata": {},
   "source": [
    "### 🧪 Experiment: Andere Datentypen schreiben\n",
    "Versuche, in die \"diary.txt\" eine **Liste** `[...]` mit Stichpunkten über deinen Tagesablauf zu schreiben. Was passiert? Wie könnte es funktionieren?"
   ]
  },
  {
   "cell_type": "code",
   "execution_count": null,
   "id": "1e2e14a4-7b4f-40f0-8408-45817d629a2f",
   "metadata": {},
   "outputs": [],
   "source": [
    "# Platz für die Aufgabe\n",
    "todos = [\"Zähne putzen\", \"Duschen\", \"Frühstücken\", \"Arbeit\"]\n",
    "\n",
    "with open(\"diary.txt\", \"w\", encoding=\"UTF-8\") as f:\n",
    "    \n",
    "    for todo in todos:\n",
    "       f.write(todo + \"\\n\")\n",
    "\n"
   ]
  },
  {
   "cell_type": "markdown",
   "id": "643cc329-1882-4140-9709-dd8da867dd68",
   "metadata": {
    "jp-MarkdownHeadingCollapsed": true
   },
   "source": [
    "## 10.4 Das JSON-Format"
   ]
  },
  {
   "cell_type": "markdown",
   "id": "dc9cfd22-9670-4535-b576-068efb0ceb8e",
   "metadata": {},
   "source": [
    "Um (komplexe) Datentypen verlässlich abzuspeichern, wird in der Praxis oft das **JSON** (Javascript Object Notation) Format genutzt. Es erlaubt uns, den Zustand eines Programms - z.B. in Form eines Dictionary, in dem Listen, User-Inputs oder Berechnungen enthalten sind - in einen String umzuwandeln, der später wieder in den ursprünglichen Datentyp konvertiert werden kann.\n",
    "\n",
    "Um JSON innerhalb von Python zu nutzen, müssen wir ein **Paket** importieren. Damit beschäftigen wir uns nächste Woche ausführlicher, aktuell reicht der folgende Befehl:"
   ]
  },
  {
   "cell_type": "code",
   "execution_count": null,
   "id": "da534ae5-ae85-432c-a960-1360cad854d3",
   "metadata": {},
   "outputs": [],
   "source": [
    "import json"
   ]
  },
  {
   "cell_type": "markdown",
   "id": "0768357d-39f5-4af3-9932-aa1b6d6b1d9c",
   "metadata": {},
   "source": [
    "Ist dieser Befehl ausgeführt, können wir die Methoden `json.dumps()` und `json.loads()` zum Laden von Daten benutzen."
   ]
  },
  {
   "cell_type": "markdown",
   "id": "fae16a6b-5863-41d2-9d30-d90f9f3a3ed8",
   "metadata": {},
   "source": [
    "### Daten abspeichern"
   ]
  },
  {
   "cell_type": "code",
   "execution_count": null,
   "id": "eb2a892e-0522-422b-b8e0-15d626f11d6d",
   "metadata": {},
   "outputs": [],
   "source": [
    "import json\n",
    "\n",
    "# Beispiel für Programm-Zustand\n",
    "state = {\n",
    "    \"user_name\": \"Connie\",\n",
    "    \"user_id\": 1234567,\n",
    "    \"important_numbers\": [5, 1, 78, 9]\n",
    "}\n",
    "\n",
    "# Konvertierung der Daten in JSON\n",
    "state_json = json.dumps(state)\n",
    "\n",
    "with open(\"data.json\", \"w\", encoding=\"UTF-8\") as f:\n",
    "    f.write(state_json)\n"
   ]
  },
  {
   "cell_type": "markdown",
   "id": "45f28d45-332a-4294-9879-8f3882249cb7",
   "metadata": {},
   "source": [
    "### Daten auslesen"
   ]
  },
  {
   "cell_type": "code",
   "execution_count": null,
   "id": "fd9beb0a-79e3-4654-bf8b-6d331881d8e8",
   "metadata": {},
   "outputs": [],
   "source": [
    "# Überschreiben von state Variable (z.B. weil sich neuer User angemeldet hat)\n",
    "state = {}\n",
    "\n",
    "print(state)\n",
    "\n",
    "with open(\"data.json\", encoding=\"UTF-8\") as f:\n",
    "    data_string = f.read()\n",
    "    print(type(data_string))\n",
    "\n",
    "    data = json.loads(data_string)\n",
    "    print(type(data))\n",
    "\n",
    "    state = data\n",
    "\n",
    "print(state)"
   ]
  },
  {
   "cell_type": "markdown",
   "id": "524c5f62-8417-400b-a891-9b5125abc804",
   "metadata": {
    "jp-MarkdownHeadingCollapsed": true
   },
   "source": [
    "## 10.5 Binärdateien"
   ]
  },
  {
   "cell_type": "markdown",
   "id": "07c759a0-050f-439c-997a-b67e5dc92375",
   "metadata": {},
   "source": [
    "### 🧪 Experiment: Word-Datei öffnen\n",
    "Versuche, die Datei \"gedicht.docx\" zu öffnen. Was passiert? Versuche anschließend, die Datei im `rb`-Modus (read binary) zu öffnen."
   ]
  },
  {
   "cell_type": "code",
   "execution_count": null,
   "id": "c7fc4327-5fef-45bd-be6e-25f2741cab1b",
   "metadata": {},
   "outputs": [],
   "source": [
    "# Platz für die Aufgabe\n",
    "with open(\"gedicht.docx\", \"rb\") as f:\n",
    "    print(f.read())\n",
    "\n"
   ]
  },
  {
   "cell_type": "code",
   "execution_count": null,
   "id": "c033d58c-e303-4a28-9ef3-ec8f978c4996",
   "metadata": {},
   "outputs": [],
   "source": []
  }
 ],
 "metadata": {
  "kernelspec": {
   "display_name": "Python 3 (ipykernel)",
   "language": "python",
   "name": "python3"
  },
  "language_info": {
   "codemirror_mode": {
    "name": "ipython",
    "version": 3
   },
   "file_extension": ".py",
   "mimetype": "text/x-python",
   "name": "python",
   "nbconvert_exporter": "python",
   "pygments_lexer": "ipython3",
   "version": "3.12.7"
  }
 },
 "nbformat": 4,
 "nbformat_minor": 5
}
