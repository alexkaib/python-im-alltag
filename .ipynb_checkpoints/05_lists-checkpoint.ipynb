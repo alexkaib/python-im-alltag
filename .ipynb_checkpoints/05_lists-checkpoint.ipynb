{
 "cells": [
  {
   "cell_type": "markdown",
   "id": "ab662159-2158-41a4-8aa8-195d9dabe502",
   "metadata": {},
   "source": [
    "# Teil 5: Listen\n",
    "Bisher haben wir mit Datentypen zu tun gehabt, die einzelne Werte repräsentieren. **Listen** sind der erste wichtige Datentyp, der andere Datentypen bzw. Werte enthält - eine sogenannte **Datenstruktur**. Listen zeichnen sich dadurch aus, dass sie **beliebig viele, veränderbare Elemente** enthalten können, die in einer bestimmten **Reihenfolge** gespeichert sind."
   ]
  },
  {
   "cell_type": "markdown",
   "id": "147a0ee1-7952-445d-87ad-851801337a70",
   "metadata": {
    "jp-MarkdownHeadingCollapsed": true
   },
   "source": [
    "## 5.1 Listen-Literale"
   ]
  },
  {
   "cell_type": "markdown",
   "id": "636d99aa-60b5-455a-8193-fb09bdbe85ad",
   "metadata": {},
   "source": [
    "Listen werden mit **eckigen Klammern** `[...]` geschrieben. Die enthaltenen Elemente werden mit Kommas `,` getrennt."
   ]
  },
  {
   "cell_type": "code",
   "execution_count": null,
   "id": "414df3c7-d253-4f62-82c2-e4d1007e4cf2",
   "metadata": {},
   "outputs": [],
   "source": [
    "# Eine Liste mit ein paar Zahlen\n",
    "[5, 7, 1, 42]\n",
    "\n",
    "# Eine Liste mit Strings\n",
    "[\"Wie\", \"geht\", \"es\", \"dir\"]\n",
    "\n",
    "# Eine gemischte Liste\n",
    "[99, \"Luftballons\", 3.5]"
   ]
  },
  {
   "cell_type": "markdown",
   "id": "8d11bf58-228d-4125-bb21-aff519ad266b",
   "metadata": {},
   "source": [
    "### 🧪Experiment: Falsche Liste\n",
    "Es gibt in Python genau eine Liste, die in Bedingungen und bei der Konvertierung mit `bool()` dem Wahrheitswert `False` entspricht. Kannst du erraten, welche das ist?"
   ]
  },
  {
   "cell_type": "code",
   "execution_count": null,
   "id": "ba1158c1-620d-47ac-b8c1-37fa84ec521b",
   "metadata": {},
   "outputs": [],
   "source": [
    "# Füge verschiedene Listen in die Typkonvertierung ein, um die \"falsche\" Liste zu finden\n",
    "\n",
    "bool()"
   ]
  },
  {
   "cell_type": "markdown",
   "id": "40ecb77a-98c1-4dcb-a9a1-1f5a43bed45a",
   "metadata": {
    "jp-MarkdownHeadingCollapsed": true
   },
   "source": [
    "## 5.2 Listen sind Werte"
   ]
  },
  {
   "cell_type": "markdown",
   "id": "b2885b5d-4630-4aa2-a41a-442e8a583ec9",
   "metadata": {},
   "source": [
    "Listen enthalten Werte, aber sie **sind auch selbst Werte**. Wir können ihnen mit Variablen einen Namen geben und Operationen mit ihnen durchführen."
   ]
  },
  {
   "cell_type": "code",
   "execution_count": null,
   "id": "fb1c152f-dae0-421b-b10e-87aa61604f84",
   "metadata": {},
   "outputs": [],
   "source": [
    "# Listenausdruck einer Variable zuweisen\n",
    "small_primes = [2, 3, 5, 7]\n",
    "fives = [5, 5, 5, 5, 5]\n",
    "\n",
    "fives"
   ]
  },
  {
   "cell_type": "markdown",
   "id": "1c126733-c4c6-40be-86a6-32c8abdf6855",
   "metadata": {
    "jp-MarkdownHeadingCollapsed": true
   },
   "source": [
    "## 5.3 Index - Elemente lesen und überschreiben"
   ]
  },
  {
   "cell_type": "markdown",
   "id": "ae3a17e3-fcda-43b1-86bd-e2b514fefb1a",
   "metadata": {},
   "source": [
    "Listen speichern Elemente in einer bestimmten **Reihenfolge**. Um auf Elemente zuzugreifen, müssen wir ihre **Position** in dieser Reihenfolge angeben, die auch als **Index** bezeichnet wird. \n",
    "\n",
    "In Python (und den meisten anderen Programmiersprachen) **beginnt der Index mit 0**. Es gibt technische und [mathematische](https://www.cs.utexas.edu/~EWD/transcriptions/EWD08xx/EWD831.html) Gründe dafür, die man zur richtigen Verwendung aber nicht kennen muss."
   ]
  },
  {
   "cell_type": "markdown",
   "id": "604eb2de-5ea5-4863-b2b3-a03a4b285525",
   "metadata": {},
   "source": [
    "### Elemente lesen"
   ]
  },
  {
   "cell_type": "markdown",
   "id": "fa5f4c8f-e717-4b68-821b-116b9b29c40c",
   "metadata": {},
   "source": [
    "Um auf ein Element in einer Liste zuzugreifen, muss man den Index in eckigen Klammern spezifizieren:\n",
    "```python\n",
    "my_list[INDEX]\n",
    "```\n",
    "Dabei muss INDEX ein Integer-Ausdruck sein.\n"
   ]
  },
  {
   "cell_type": "code",
   "execution_count": null,
   "id": "205981ba-7fe1-4e38-9393-b9df75d74bb9",
   "metadata": {},
   "outputs": [],
   "source": [
    "# Eine Liste\n",
    "letters = [\"a\", \"b\", \"c\"]\n",
    "\n",
    "# Zugriff auf das erste Element der Liste\n",
    "letters[0]"
   ]
  },
  {
   "cell_type": "markdown",
   "id": "e643e47a-a0d5-4793-a3e7-7142cc227337",
   "metadata": {},
   "source": [
    "### 🛠️Übung: Index\n",
    "Nutze eckige Klammern und den Index, um nacheinander auf alle Elemente in der Liste zuzugreifen. Probiere außerdem aus, den Index `5` und `-1` anzugeben. Was ist jeweils das Ergebnis?"
   ]
  },
  {
   "cell_type": "code",
   "execution_count": null,
   "id": "90e1c009-3e16-4143-86bb-c132e50d1d69",
   "metadata": {},
   "outputs": [],
   "source": [
    "words = [\"Hallo\", \"wie\", \"geht\", \"es\", \"dir\"]\n",
    "\n",
    "# Greife auf alle Elemente von \"words\" zu\n",
    "\n",
    "\n"
   ]
  },
  {
   "cell_type": "markdown",
   "id": "c1d9258d-4c74-43f8-87cc-4ba06a94ef49",
   "metadata": {},
   "source": [
    "### Elemente überschreiben"
   ]
  },
  {
   "cell_type": "markdown",
   "id": "4a6451bb-d7f1-44c6-a8e6-f1f7f37bb1b9",
   "metadata": {},
   "source": [
    "Elemente in einer Liste zu verändern funktioniert sehr ähnlich und so, wie man auch eine Variable überschreiben würde."
   ]
  },
  {
   "cell_type": "code",
   "execution_count": 2,
   "id": "7e23cdae-5c10-4ffa-ba23-c3507d22d51a",
   "metadata": {},
   "outputs": [
    {
     "name": "stdout",
     "output_type": "stream",
     "text": [
      "[3, 7, 17, 99]\n"
     ]
    }
   ],
   "source": [
    "# Eine Liste\n",
    "favorite_numbers = [3, 7, 42, 99]\n",
    "\n",
    "# Das dritte Element überschreiben\n",
    "favorite_numbers[2] = 17\n",
    "\n",
    "print(favorite_numbers)"
   ]
  },
  {
   "cell_type": "markdown",
   "id": "a6efa228-4c8c-4031-8812-d1bfa7cdb97f",
   "metadata": {},
   "source": [
    "### 🧪Experiment: Zwei Listen?\n",
    "Lese dir den folgenden Code durch und überlege, was der Wert der beiden Listen-Variablen ist. Teste anschließend deine Vermutung, indem du beide mit `print()` ausgibst. Wie lässt sich das Ergebnis erklären?"
   ]
  },
  {
   "cell_type": "code",
   "execution_count": 6,
   "id": "d8e74807-5120-4c58-955c-e1ca9486ce6d",
   "metadata": {},
   "outputs": [],
   "source": [
    "list1 = [\"Apfel\", \"Birne\", \"Cashew\"]\n",
    "list2 = list1\n",
    "\n",
    "list2[1] = \"Banane\"\n",
    "\n",
    "# Was versteckt sich hinter \"list1\" und \"list2\"?\n",
    "\n"
   ]
  },
  {
   "cell_type": "markdown",
   "id": "1fbd3a02-5bc0-4fbe-acc5-699094e540c3",
   "metadata": {
    "jp-MarkdownHeadingCollapsed": true
   },
   "source": [
    "## 5.4 Listen-Operationen"
   ]
  },
  {
   "cell_type": "markdown",
   "id": "329c3362-ed3b-4367-86c6-77c476679fe4",
   "metadata": {},
   "source": [
    "### 🧪Experiment: Listen-Operationen\n",
    "Viele der Operatoren, die ihr von Integern und Strings kennt, funktionieren auch mit Listen. \n",
    "\n",
    "Teste die folgenden Operatoren mit Listen (Achtung: manche funktionieren mit zwei Listen, andere nur mit einer Liste und einem Integer). Entspricht das Ergebnis deinen Erwartungen?\n",
    "\n",
    "```python\n",
    "+\n",
    "*\n",
    "<\n",
    "in\n",
    "```"
   ]
  },
  {
   "cell_type": "code",
   "execution_count": null,
   "id": "6b43e19d-c7be-4141-afff-4b44c44002c6",
   "metadata": {},
   "outputs": [],
   "source": [
    "# Listen zum Ausprobieren\n",
    "small = [1, 2, 3, 4]\n",
    "big = [5, 6, 7, 8]\n",
    "empty = []\n",
    "number = 7\n",
    "\n",
    "# Platz zum Ausprobieren\n",
    "\n"
   ]
  },
  {
   "cell_type": "markdown",
   "id": "a95f5227-eec7-43c8-ac1e-a9df343cd574",
   "metadata": {},
   "source": [
    "### 🛠️Übung: Enthalten-sein\n",
    "Nutze den `in` Operator, um den folgenden Code zu vervollständigen."
   ]
  },
  {
   "cell_type": "code",
   "execution_count": null,
   "id": "92f55b35-e8bd-46e9-99c6-2c74ccbe62dd",
   "metadata": {},
   "outputs": [],
   "source": [
    "registered_users = [\"Anna\", \"Besarta\", \"Cem\"]\n",
    "\n",
    "user_name = input(\"Wie heißt du? \")\n",
    "\n",
    "# Ersetze die Fragezeichen mit dem richtigen Ausdruck\n",
    "if ???:\n",
    "    print(\"Willkommen!\")\n",
    "else:\n",
    "    print(\"Du bist noch nicht registriert.\")"
   ]
  },
  {
   "cell_type": "markdown",
   "id": "435afb00-2553-43f5-84ef-0805b610d86f",
   "metadata": {
    "jp-MarkdownHeadingCollapsed": true
   },
   "source": [
    "## 5.5 Methoden zur Listenbearbeitung"
   ]
  },
  {
   "cell_type": "markdown",
   "id": "dad57c8c-fce2-4c93-9cf3-ed99b987213b",
   "metadata": {},
   "source": [
    "Listen sind sehr flexible Datentypen, weil sie mit sogenannten **Methoden** verändert werden können.\n",
    "\n",
    "Eine Methode ähnelt einer **Operation** (genauer gesagt: Operationen in Python sind eine spezielle Art von Methode). Neu ist, dass wir Methoden **auf einem Ausdruck** ausführen. Das sieht i.d.R. so aus:\n",
    "```python\n",
    "ein_ausdruck.eine_methode(anderer_ausdruck)\n",
    "```\n",
    "\n",
    "Wir schauen uns das am Beispiel von [Listen-Methoden](https://www.w3schools.com/python/python_ref_list.asp) an."
   ]
  },
  {
   "cell_type": "markdown",
   "id": "649a41a2-bbcd-4d6a-beda-0d0ac8622407",
   "metadata": {},
   "source": [
    "### Elemente ans Ende einer Liste anhängen"
   ]
  },
  {
   "cell_type": "code",
   "execution_count": null,
   "id": "f9ca6701-f43e-4b5c-805e-87ac698f93cb",
   "metadata": {},
   "outputs": [],
   "source": [
    "sentence = [\"Hallo\", \"wie\", \"geht's\"]\n",
    "print(sentence)\n",
    "\n",
    "# Die \"append()\"-Methode wertet den Ausdruck in Klammern aus und hängt ihn ans Ende der Liste an\n",
    "sentence.append(\"?\")\n",
    "print(sentence)"
   ]
  },
  {
   "cell_type": "markdown",
   "id": "11940b6f-d951-4089-b266-a62dacd91954",
   "metadata": {},
   "source": [
    "### Elemente am Ende einer Liste entfernen"
   ]
  },
  {
   "cell_type": "code",
   "execution_count": null,
   "id": "4720aa29-3429-4a12-ac49-d10e26039470",
   "metadata": {},
   "outputs": [],
   "source": [
    "sentence = [\"Hallo\", \"wie\", \"geht's\"]\n",
    "print(sentence)\n",
    "\n",
    "# Die \"pop()\"-Methode entfernt das letzte Element einer Liste\n",
    "sentence.pop()\n",
    "print(sentence)"
   ]
  },
  {
   "cell_type": "markdown",
   "id": "997800e5-736a-43e1-b039-bb17046a90b0",
   "metadata": {},
   "source": [
    "### Elemente an einem Index hinzufügen"
   ]
  },
  {
   "cell_type": "code",
   "execution_count": null,
   "id": "d9a1ce22-2ae0-427c-b720-9d601a0c1d8a",
   "metadata": {},
   "outputs": [],
   "source": [
    "sentence = [\"Hallo\", \"wie\", \"geht's\"]\n",
    "print(sentence)\n",
    "\n",
    "# Die \"insert()\"-Methode fügt einen Wert an einem bestimmten Index ein\n",
    "sentence.insert(1, \"du\")\n",
    "print(sentence)"
   ]
  },
  {
   "cell_type": "markdown",
   "id": "0fa86131-07fd-4848-b0d3-e557e9b384ed",
   "metadata": {},
   "source": [
    "### Elemente an einem Index entfernen"
   ]
  },
  {
   "cell_type": "code",
   "execution_count": null,
   "id": "5c97d068-985b-4774-ac35-3ad6c71e6be7",
   "metadata": {},
   "outputs": [],
   "source": [
    "sentence = [\"Hallo\", \"wie\", \"geht's\"]\n",
    "print(sentence)\n",
    "\n",
    "# Die \"pop()\"-Methode kann optional einen Integer erhalten, um Elemente an einem bestimmten Index zu entfernen\n",
    "sentence.pop(1)\n",
    "print(sentence)"
   ]
  },
  {
   "cell_type": "markdown",
   "id": "1c656f66-0df9-45e9-8f62-0356e18fbfc1",
   "metadata": {},
   "source": [
    "### Element mit bestimmtem Wert entfernen"
   ]
  },
  {
   "cell_type": "code",
   "execution_count": null,
   "id": "6b72d037-788b-45d8-a9b7-df9ff7fe3490",
   "metadata": {},
   "outputs": [],
   "source": [
    "sentence = [\"Hallo\", \"wie\", \"geht's\"]\n",
    "print(sentence)\n",
    "\n",
    "# Die \"remove()\"-Methode entfernt das erste Vorkommen eines bestimmten Werts\n",
    "sentence.remove(\"wie\")\n",
    "print(sentence)"
   ]
  },
  {
   "cell_type": "markdown",
   "id": "7b6b5fdf-e483-4114-9eff-d3b6fd74f965",
   "metadata": {},
   "source": [
    "### 🛠️Übung: Listen-Methoden\n",
    "Wandele die folgende Liste durch Listen-Methoden um, bis sie der anderen Liste entspricht und der Vergleich `True` ergibt."
   ]
  },
  {
   "cell_type": "code",
   "execution_count": null,
   "id": "8b1e29d0-fa54-4e8f-b2bf-332efcf414e4",
   "metadata": {},
   "outputs": [],
   "source": [
    "# Ursprüngliche Liste\n",
    "words = [\"Er\", \"wohnt\", \"in\", \"Wiesbaden\"]\n",
    "\n",
    "# Platz für Listen-Methoden\n",
    "\n",
    "\n",
    "\n",
    "\n",
    "\n",
    "\n",
    "# Neue Liste\n",
    "words == [\"Sie\", \"wohnt\", \"nicht\", \"in\", \"Wiesbaden\"]"
   ]
  },
  {
   "cell_type": "markdown",
   "id": "1364c378-d507-4bfd-92ca-b510ba9c588a",
   "metadata": {
    "jp-MarkdownHeadingCollapsed": true,
    "tags": []
   },
   "source": [
    "## 5.6 Listen und Strings"
   ]
  },
  {
   "cell_type": "markdown",
   "id": "790ad1af-b4f3-4de8-987c-bc80faf59de5",
   "metadata": {},
   "source": [
    "Es gibt ein paar nützliche Möglichkeiten, Listen und Strings ineinander zu konvertieren. Wir behandeln die Methoden hier nicht im Detail, aber es ist gut zu wissen, dass es sie gibt und sie bei Bedarf nachzuschlagen."
   ]
  },
  {
   "cell_type": "markdown",
   "id": "21a92da5-cfb7-4881-8328-292c7dbd357a",
   "metadata": {},
   "source": [
    "### Zerlegung von Strings mit `split`"
   ]
  },
  {
   "cell_type": "code",
   "execution_count": null,
   "id": "dfc2d15c-f6cd-45b2-8549-1c49ab36f948",
   "metadata": {},
   "outputs": [],
   "source": [
    "# Mit split() wird ein String an den Stellen zerlegt, an denen ein Leerzeichen steht\n",
    "sentence = \"Es war einmal vor langer Zeit in einer weit, weit entfernten Galaxis...\"\n",
    "\n",
    "# So entsteht eine Liste der Wörter\n",
    "sentence.split()"
   ]
  },
  {
   "cell_type": "code",
   "execution_count": null,
   "id": "953b1bad-784c-4650-bf06-3fc23214f0b2",
   "metadata": {},
   "outputs": [],
   "source": [
    "# Optional kann auch spezifiziert werden, an welcher Stelle der String zerlegt werden soll\n",
    "sentence = \"Es war einmal vor langer Zeit in einer weit, weit entfernten Galaxis...\"\n",
    "\n",
    "# So kann z.B. der Satz in die Teile vor und nach dem Komma zerlegt werden\n",
    "sentence.split(\",\")"
   ]
  },
  {
   "cell_type": "markdown",
   "id": "65ca4f23-51a1-4742-84db-501285ce2ea6",
   "metadata": {},
   "source": [
    "### Zusammenführung von Strings mit `join`"
   ]
  },
  {
   "cell_type": "code",
   "execution_count": null,
   "id": "11ca61ed-c547-470b-8202-50f25e5d07f2",
   "metadata": {},
   "outputs": [],
   "source": [
    "# Umgekehrt ist es möglich, eine Liste von Strings zu verketten\n",
    "alphabet = [\"A\", \"B\", \"C\", \"D\"]\n",
    "\n",
    "# Dafür muss als erstes der String bestimmt werden, mit dem verknüpft wird\n",
    "\",\".join(alphabet)"
   ]
  }
 ],
 "metadata": {
  "kernelspec": {
   "display_name": "Python 3 (ipykernel)",
   "language": "python",
   "name": "python3"
  },
  "language_info": {
   "codemirror_mode": {
    "name": "ipython",
    "version": 3
   },
   "file_extension": ".py",
   "mimetype": "text/x-python",
   "name": "python",
   "nbconvert_exporter": "python",
   "pygments_lexer": "ipython3",
   "version": "3.9.13"
  }
 },
 "nbformat": 4,
 "nbformat_minor": 5
}
