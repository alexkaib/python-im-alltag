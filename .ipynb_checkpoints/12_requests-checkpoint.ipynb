{
 "cells": [
  {
   "cell_type": "markdown",
   "id": "c6105613-4670-45e1-9ea9-e1b12a4254b4",
   "metadata": {},
   "source": [
    "# Teil 12: Internetzugriff mit dem `requests`-Paket\n",
    "Um innerhalb eines Python-Programms in Echtzeit auf Daten aus dem Internet zuzugreifen, ist das `requests`-Paket eine beliebte und einfache Lösung. Für uns ist es außerdem die erste **externe Bibliothek**, die wir zunächst über einen Paket-Manager installieren müssen. "
   ]
  },
  {
   "cell_type": "markdown",
   "id": "62c549d1-4cb4-4f80-8ed8-46d224427486",
   "metadata": {
    "editable": true,
    "jp-MarkdownHeadingCollapsed": true,
    "slideshow": {
     "slide_type": ""
    },
    "tags": []
   },
   "source": [
    "## 12.1 Bibliotheken installieren"
   ]
  },
  {
   "cell_type": "markdown",
   "id": "3278a7c8-27ff-40b7-83ad-113eed0149f9",
   "metadata": {
    "editable": true,
    "slideshow": {
     "slide_type": ""
    },
    "tags": []
   },
   "source": [
    "Ein **Paket** oder eine **Bibliothek** ist eine Sammlung von Code, den andere Programmierer:innen entwickelt haben, um die Standard-Funktionalität von Python zu erweitern. Viele dieser Pakete können wir in unseren eigenen Projekten einsetzen, indem wir sie in unser Projekt importieren. Weil der importierte Code seinerseits von anderen Bibliotheken abhängen kann, benutzen wir **Paket-Manager**, um automatisch alle Abhängigkeiten zu installieren.\n"
   ]
  },
  {
   "cell_type": "code",
   "execution_count": null,
   "id": "1f330fca-d932-4892-8f91-b6cdb4546b33",
   "metadata": {},
   "outputs": [],
   "source": [
    "# Installation im Anaconda Navigator über GUI\n",
    "\n"
   ]
  },
  {
   "cell_type": "code",
   "execution_count": null,
   "id": "7211ca7c-8177-4e07-b22f-3e1e92c9b247",
   "metadata": {},
   "outputs": [],
   "source": [
    "# Installation mit pip\n",
    "! pip install requests\n"
   ]
  },
  {
   "cell_type": "markdown",
   "id": "c99febb9-2bc3-4145-ba83-7fe6e1ffdecd",
   "metadata": {},
   "source": [
    "Nachdem ein Paket installiert wurde, kann es mit dem `import`-Befehl in ein Python-Programm eingebunden werden"
   ]
  },
  {
   "cell_type": "code",
   "execution_count": null,
   "id": "0332c7d0-c562-47f4-bc06-003106f9242a",
   "metadata": {},
   "outputs": [],
   "source": [
    "import requests"
   ]
  },
  {
   "cell_type": "markdown",
   "id": "c6a5497a-8836-4a62-b336-64b160487cbb",
   "metadata": {
    "jp-MarkdownHeadingCollapsed": true
   },
   "source": [
    "## 12.2 Webinhalte mit HTTP GET herunterladen"
   ]
  },
  {
   "cell_type": "markdown",
   "id": "b9431f4d-c73f-4ac3-92a3-2cb4c22e8b54",
   "metadata": {},
   "source": [
    "Jedes Mal, wenn wir eine Webseite im Internet \"aufrufen\", passiert eigentlich Folgendes:\n",
    "1. Die **URL** bzw. der Link wird in eine **IP-Adresse** umgewandelt (mithilfe des [Domain Name System](https://de.wikipedia.org/wiki/Domain_Name_System)).\n",
    "2. Über die IP-Adresse wird ein bestimmter Computer erreicht, auf dem die angeforderten Ressourcen als Dateien liegen - diesen Computer bezeichnet man als **Server**.\n",
    "3. Unser Browser (z.B. Firefox oder Chrome) sendet an diesen Server die **Aufforderung** (*request*), uns die gewünschte Webseite zu schicken. Wie diese Aufforderung genau auszusehen hat, bestimmt das **Protokoll zur Übertragung von Hyper Text** ([HTTP](https://de.wikipedia.org/wiki/Hypertext_Transfer_Protocol)).\n",
    "4. Wenn alles gut läuft, schickt der Server eine **Antwort** (*response*), die die Webseite enthält - in der Regel als HTML-Datei ([Hyper Text Markup Language](https://de.wikipedia.org/wiki/Hypertext_Markup_Language)).\n",
    "6. Unser Browser speichert die HTML-Datei temporär auf unserem Computer ab und stellt sie in einem lesbaren Format dar.\n",
    "\n",
    "Das `requests`-Paket macht etwas ganz ähnliches: Es schickt eine **Aufforderung** an einen Server und gibt uns in unserem Programm Zugriff auf die gesendete **Antwort**. Die einfachste Möglichkeit, das zu tun, ist die `requests.get(URL)` Funktion:"
   ]
  },
  {
   "cell_type": "code",
   "execution_count": null,
   "id": "4ea5cce6-f540-4898-b6f9-304a7f2e5977",
   "metadata": {},
   "outputs": [],
   "source": [
    "import requests\n",
    "\n",
    "# Die Antwort des Servers wird in der Variable \"response\" gespeichert\n",
    "response = requests.get(\"https://www.gutenberg.org/cache/epub/22367/pg22367.txt\")\n",
    "\n",
    "# Mit .text können wir auf den Inhalt der Antwort als String zugreifen\n",
    "print(response.text)"
   ]
  },
  {
   "cell_type": "markdown",
   "id": "01b6bce0-4257-4df1-81b1-9cae3454a6a2",
   "metadata": {},
   "source": [
    "### 🧪Experiment: Webseiten\n",
    "Das obige Beispiel hat gut funktioniert, weil wir eine .txt-Datei heruntergeladen haben, die im Browser genau so aussieht wie in unserem Python-Skript. Was passiert, wenn du eine normale Webseite herunterlädst?"
   ]
  },
  {
   "cell_type": "code",
   "execution_count": null,
   "id": "af118c0a-ba03-43f9-8a44-f801d9835e86",
   "metadata": {},
   "outputs": [],
   "source": [
    "import requests\n",
    "\n",
    "# Gebe hier als String-Parameter einen Link zu einer Webseite ein, die du oft besuchst\n",
    "response = requests.get()\n",
    "\n",
    "print(response.text)"
   ]
  },
  {
   "cell_type": "markdown",
   "id": "aacfee40-4450-4e77-8617-63e1d6ec76b5",
   "metadata": {
    "jp-MarkdownHeadingCollapsed": true
   },
   "source": [
    "## 12.3 Mit APIs auf strukturierte Daten zugreifen"
   ]
  },
  {
   "cell_type": "markdown",
   "id": "f9e071f9-430a-4d0a-b0bd-046ca0c74d3c",
   "metadata": {},
   "source": [
    "Oft ist es mühsam, eine HTML-Datei nach den relevanten Daten zu durchsuchen, die im eigenen Programm benötigt werden. Deshalb stellen einige Anbieter sogenannte **Programmierschnittstellen** (*application programming interface*, kurz *API*) zur Verfügung, die uns einen handlichen Zugriff auf vorstrukturierte Daten gewähren.\n",
    "\n",
    "Auf viele Internet-APIs kann man genau so einfach zugreifen, wie auf eine normale Webseite:"
   ]
  },
  {
   "cell_type": "code",
   "execution_count": null,
   "id": "be2d2aaa-fd1b-45fe-af78-ee82e57c0790",
   "metadata": {},
   "outputs": [],
   "source": [
    "import requests\n",
    "\n",
    "res = requests.get(\"https://www.openthesaurus.de/synonyme/search?q=test&format=application/json\")\n",
    "\n",
    "print(res.text)"
   ]
  },
  {
   "cell_type": "markdown",
   "id": "6cc7c7e1-7955-4e91-8c58-9aafa1e837be",
   "metadata": {},
   "source": [
    "Als Antwortformat benutzen viele APIs das bereits bekannte **JSON**-Format. Deshalb ist im `requests`-Paket direkt eine Funktion integriert, mit der sich Antworten in diesem Format ganz leicht in Python-Objekte umwandeln lassen:"
   ]
  },
  {
   "cell_type": "code",
   "execution_count": null,
   "id": "c4a45e21-cd82-41f6-9107-dc92bbd3087a",
   "metadata": {
    "editable": true,
    "scrolled": true,
    "slideshow": {
     "slide_type": ""
    },
    "tags": []
   },
   "outputs": [],
   "source": [
    "res.json()"
   ]
  },
  {
   "cell_type": "markdown",
   "id": "847e4e8e-cc32-4dc5-a070-8bc3da298a23",
   "metadata": {},
   "source": [
    "### 🛠️Übung: API-Antwort parsen\n",
    "Schreibe ein Programm, das die API-Antwort `res.json()` mit Schleifen durchgeht und die verschiedenen Synonyme für \"Test\" übersichtlich ausgibt."
   ]
  },
  {
   "cell_type": "code",
   "execution_count": null,
   "id": "91ea94fd-69fa-49ed-93ad-7ee96ef430d6",
   "metadata": {},
   "outputs": [],
   "source": [
    "# Platz für die Aufgabe\n",
    "\n",
    "\n",
    "\n"
   ]
  },
  {
   "cell_type": "markdown",
   "id": "f921844a-7ab1-458a-8529-66b60d96ff94",
   "metadata": {
    "jp-MarkdownHeadingCollapsed": true
   },
   "source": [
    "## 12.4 URL-Parameter"
   ]
  },
  {
   "cell_type": "markdown",
   "id": "3b787df0-70ac-4488-a412-698982f1f2a4",
   "metadata": {},
   "source": [
    "Viele APIs bieten Möglichkeiten, als Teil der Anfrage verschiedene Optionen zu konfigurieren. Die gerade verwendete Synonym-API erlaubt es uns zum Beispiel, nach einem bestimmten Begriff zu suchen und das Antwort-Format zu spezifizieren. Dabei kommen **URL-Parameter** zum Einsatz: Schlüssel-Wert-Paare, die nach einem `?` direkt in die URL geschrieben werden. \n",
    "\n",
    "In der URL\n",
    "\n",
    "https://www.openthesaurus.de/synonyme/search?q=test&format=application/json\n",
    "\n",
    "sind die Parameter `q = test` und `format = application/json` enthalten."
   ]
  },
  {
   "cell_type": "markdown",
   "id": "69b24c8b-fc03-4109-99fa-fd3f629b7265",
   "metadata": {},
   "source": [
    "Diese Parameter erinnern an **Dictionaries** in Python, da sie auch aus Schlüsseln und Werten bestehen. Das `requests`-Paket lässt uns deshalb \"intuitiv\" URL-Parameter als Python-Dictionary angeben:"
   ]
  },
  {
   "cell_type": "code",
   "execution_count": null,
   "id": "29a65f2a-6dfc-4aea-86b7-69ca1957b3ef",
   "metadata": {},
   "outputs": [],
   "source": [
    "import requests\n",
    "\n",
    "# Der 'q'-Parameter ist der Begriff, für den Synonyme gesucht werden\n",
    "parameters = {\n",
    "    \"q\": \"test\",\n",
    "    \"format\": \"application/json\"\n",
    "}\n",
    "\n",
    "synonyms = requests.get(\"https://www.openthesaurus.de/synonyme/search\", parameters)\n",
    "print(synonyms.json())"
   ]
  },
  {
   "cell_type": "markdown",
   "id": "27b0c957-dd23-48dc-9ae6-eec9f3b979d6",
   "metadata": {},
   "source": [
    "### 🛠️Übung: Synonymsuche\n",
    "Schreibe ein Programm, das die User zunächst nach einem Suchbegriff fragt und dann die Synonym-API verwendet, um ihnen eine Liste mit Synonymen zu präsentieren."
   ]
  },
  {
   "cell_type": "code",
   "execution_count": null,
   "id": "7a02dd57-aa04-4545-9ebd-bf83d64098eb",
   "metadata": {},
   "outputs": [],
   "source": [
    "# Platz für die Aufgabe\n",
    "\n",
    "\n"
   ]
  }
 ],
 "metadata": {
  "kernelspec": {
   "display_name": "Python 3 (ipykernel)",
   "language": "python",
   "name": "python3"
  },
  "language_info": {
   "codemirror_mode": {
    "name": "ipython",
    "version": 3
   },
   "file_extension": ".py",
   "mimetype": "text/x-python",
   "name": "python",
   "nbconvert_exporter": "python",
   "pygments_lexer": "ipython3",
   "version": "3.12.7"
  }
 },
 "nbformat": 4,
 "nbformat_minor": 5
}
