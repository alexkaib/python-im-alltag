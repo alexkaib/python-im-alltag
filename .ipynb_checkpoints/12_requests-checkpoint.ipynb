{
 "cells": [
  {
   "cell_type": "markdown",
   "id": "c6105613-4670-45e1-9ea9-e1b12a4254b4",
   "metadata": {},
   "source": [
    "# Teil 12: Internetzugriff mit dem `requests`-Paket\n",
    "Um innerhalb eines Python-Programms in Echtzeit auf Daten aus dem Internet zuzugreifen, ist das `requests`-Paket eine beliebte und einfache Lösung. Für uns ist es außerdem die erste **externe Bibliothek**, die wir zunächst über einen Paket-Manager installieren müssen. "
   ]
  },
  {
   "cell_type": "code",
   "execution_count": null,
   "id": "439da032-9389-4b61-bd6e-980f63b813a7",
   "metadata": {},
   "outputs": [],
   "source": []
  }
 ],
 "metadata": {
  "kernelspec": {
   "display_name": "Python 3 (ipykernel)",
   "language": "python",
   "name": "python3"
  },
  "language_info": {
   "codemirror_mode": {
    "name": "ipython",
    "version": 3
   },
   "file_extension": ".py",
   "mimetype": "text/x-python",
   "name": "python",
   "nbconvert_exporter": "python",
   "pygments_lexer": "ipython3",
   "version": "3.12.7"
  }
 },
 "nbformat": 4,
 "nbformat_minor": 5
}
