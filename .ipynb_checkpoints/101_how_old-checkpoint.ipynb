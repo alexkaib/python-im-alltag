{
 "cells": [
  {
   "cell_type": "markdown",
   "id": "92eed163-7e78-433a-8a7b-e7f393dcedda",
   "metadata": {},
   "source": [
    "# ✏️ Aufgabe: Altersberechnung"
   ]
  },
  {
   "cell_type": "markdown",
   "id": "e829e652-a3d1-4c23-b599-9b6eba951ed1",
   "metadata": {},
   "source": [
    "Schreibe eine Programm, das folgende Anforderungen erfüllt:\n",
    "- Das Programm fragt nach dem Namen und Geburtsjahr einer Person (ggf. in zwei Schritten).\n",
    "- Das Programm berechnet das Alter der Person (+/- ein Jahr) und gibt folgenden String aus: \"Hallo X. Du bist Y oder Z Jahre alt.\" (mit entsprechenden Werten für X, Y und Z)"
   ]
  },
  {
   "cell_type": "code",
   "execution_count": 2,
   "id": "070c3009-0311-4d64-ac23-4daa599193a8",
   "metadata": {},
   "outputs": [],
   "source": [
    "# Hier ist Platz für die Aufgabe\n",
    "\n",
    "\n",
    "\n"
   ]
  }
 ],
 "metadata": {
  "kernelspec": {
   "display_name": "Python 3 (ipykernel)",
   "language": "python",
   "name": "python3"
  },
  "language_info": {
   "codemirror_mode": {
    "name": "ipython",
    "version": 3
   },
   "file_extension": ".py",
   "mimetype": "text/x-python",
   "name": "python",
   "nbconvert_exporter": "python",
   "pygments_lexer": "ipython3",
   "version": "3.12.7"
  }
 },
 "nbformat": 4,
 "nbformat_minor": 5
}
