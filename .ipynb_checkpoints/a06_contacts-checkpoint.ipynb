{
 "cells": [
  {
   "cell_type": "markdown",
   "id": "b316393d-abac-4b2a-98e7-bd4d439af52d",
   "metadata": {},
   "source": [
    "# Code-Analyse: Kontaktdaten\n",
    "Lese dir das folgende Programm durch und teste es aus. Fülle anschließend die untenstehende Vorlage aus."
   ]
  },
  {
   "cell_type": "markdown",
   "id": "b4738971-ed3c-4fa0-b3be-dad6bce0005f",
   "metadata": {},
   "source": [
    "## Programm"
   ]
  },
  {
   "cell_type": "code",
   "execution_count": null,
   "id": "564bdec6-2046-4c03-8c3e-a18a19b5cd4a",
   "metadata": {},
   "outputs": [],
   "source": [
    "import json\n",
    "\n",
    "CONTACTS_FILE = 'contacts.json'\n",
    "\n",
    "def load_contacts():\n",
    "    try:\n",
    "        with open(CONTACTS_FILE, 'r', encoding='utf-8') as file:\n",
    "            return json.load(file)\n",
    "    except FileNotFoundError:\n",
    "        return []\n",
    "\n",
    "def save_contacts(contacts_list):\n",
    "    with open(CONTACTS_FILE, 'w', encoding='utf-8') as file:\n",
    "        json.dump(contacts_list, file)\n",
    "\n",
    "contacts = load_contacts()\n",
    "\n",
    "print(\"--- Adressbuch ---\")\n",
    "\n",
    "while True:\n",
    "    print(\"Wähle eine Option:\")\n",
    "    print(\"1. Kontakt hinzufügen\")\n",
    "    print(\"2. Kontakte anzeigen\")\n",
    "    print(\"3. Speichern und Beenden\")\n",
    "    \n",
    "    choice = input(\"Wähle eine Option (1-3): \")\n",
    "\n",
    "    if choice == '1':\n",
    "        name = input(\"Name: \")\n",
    "        telephone = input(\"Telefon: \")\n",
    "        email = input(\"E-Mail: \")\n",
    "        \n",
    "        new_contact = {\n",
    "            'name': name,\n",
    "            'telephone': telephone,\n",
    "            'email': email\n",
    "        }\n",
    "        contacts.append(new_contact)\n",
    "        print(f\"Kontakt '{name}' hinzugefügt.\")\n",
    "\n",
    "    elif choice == '2':\n",
    "        print(\"\\n--- Deine Kontakte ---\")\n",
    "        for contact in contacts:\n",
    "            print(\"+++++++++++++++++++++++++\")\n",
    "            print(f\"  Name: {contact['name']}\")\n",
    "            print(f\"  Telefon: {contact['telephone']}\")\n",
    "            print(f\"  E-Mail: {contact['email']}\")\n",
    "            print(\"+++++++++++++++++++++++++\")\n",
    "        print(\"----------------------\")\n",
    "\n",
    "    elif choice == '3':\n",
    "        save_contacts(contacts)\n",
    "        print(\"Adressbuch gespeichert. Programm wird beendet.\")\n",
    "        break\n",
    "\n",
    "    else:\n",
    "        print(\"Ungültige Eingabe. Bitte wähle 1, 2 oder 3.\")\n"
   ]
  },
  {
   "cell_type": "markdown",
   "id": "231abd8b-e5ce-43ce-9b7e-870ec4d6c461",
   "metadata": {},
   "source": [
    "## Analysevorlage"
   ]
  },
  {
   "cell_type": "markdown",
   "id": "5a45712d-8d39-44e5-a33e-2936c3074511",
   "metadata": {},
   "source": [
    "### In einem Satz\n",
    "Beschreibe in einem Satz, was der **Zweck** des Programms ist."
   ]
  },
  {
   "cell_type": "markdown",
   "id": "184938bb-d844-4e82-95ab-cadc65c47544",
   "metadata": {},
   "source": [
    "\n"
   ]
  },
  {
   "cell_type": "markdown",
   "id": "af8a62f7-1e7c-4177-afa3-b43c3d9280b7",
   "metadata": {},
   "source": [
    "### Programmbestandteile\n",
    "Benenne die **Variablen** (außerhalb von Funktionen), die das Programm beinhaltet und welche Datentypen sie jeweils besitzen."
   ]
  },
  {
   "cell_type": "markdown",
   "id": "28f80e5f-66d4-40cd-bbea-b15aff97137f",
   "metadata": {},
   "source": [
    "\n",
    "\n"
   ]
  },
  {
   "cell_type": "markdown",
   "id": "baa69d9b-ffb3-492c-96a0-f90f51dd5e1c",
   "metadata": {},
   "source": [
    "Benenne die **Datei**, die in dem Programm geöffnet wird. Welches **Dateiformat** besitzt sie und in welchem **Modus** wird sie geöffnet?"
   ]
  },
  {
   "cell_type": "markdown",
   "id": "691a0d85-68a1-41d7-a55a-70aeea8874c2",
   "metadata": {},
   "source": [
    "\n",
    "\n"
   ]
  },
  {
   "cell_type": "markdown",
   "id": "921dafe5-d407-43d1-8504-8368199a0dbd",
   "metadata": {},
   "source": [
    "Benenne die **Funktionen**, die das Programm beinhaltet. Welche **Parameter** und **Rückgabewerte** besitzen die Funktionen und welche **Datentypen** sollten diese besitzen?"
   ]
  },
  {
   "cell_type": "markdown",
   "id": "ac5e8889-c5e7-44f7-a702-4fe1bd712fbf",
   "metadata": {},
   "source": [
    "\n",
    "\n"
   ]
  },
  {
   "cell_type": "markdown",
   "id": "d8c014d5-b614-4fbe-a0eb-9f7df4fe427a",
   "metadata": {},
   "source": [
    "Wo werden die Funktionen im Programm **aufgerufen**? Welche **Argumente** erhalten sie dabei?"
   ]
  },
  {
   "cell_type": "code",
   "execution_count": null,
   "id": "54142ce6-d7b3-4382-a65b-faef58186142",
   "metadata": {},
   "outputs": [],
   "source": [
    "\n",
    "\n"
   ]
  }
 ],
 "metadata": {
  "kernelspec": {
   "display_name": "Python 3 (ipykernel)",
   "language": "python",
   "name": "python3"
  },
  "language_info": {
   "codemirror_mode": {
    "name": "ipython",
    "version": 3
   },
   "file_extension": ".py",
   "mimetype": "text/x-python",
   "name": "python",
   "nbconvert_exporter": "python",
   "pygments_lexer": "ipython3",
   "version": "3.12.7"
  }
 },
 "nbformat": 4,
 "nbformat_minor": 5
}
