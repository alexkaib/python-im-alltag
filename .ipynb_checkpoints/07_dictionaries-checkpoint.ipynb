{
 "cells": [
  {
   "cell_type": "markdown",
   "id": "36a1c57a-63b9-4b16-8839-e21abcf14b39",
   "metadata": {},
   "source": [
    "# Teil 7: Dictionaries\n",
    "**Dictionaries** - wörtlich übersetzt \"Wörterbücher\" - sind nach **Listen** der zweite wichtige Datentyp, der andere Werte enthalten kann. Dictionaries unterscheiden sich in einigen Punkten von Listen und zusammen bilden die beiden **Datenstrukturen** die meisten Möglichkeiten ab, Informationen in Python zu speichern."
   ]
  },
  {
   "cell_type": "markdown",
   "id": "6820435f-7592-47b1-b141-e7259e42768f",
   "metadata": {
    "tags": []
   },
   "source": [
    "## 7.1 Dictionary-Literale"
   ]
  },
  {
   "cell_type": "markdown",
   "id": "7fb67c37-1e2d-46a2-accd-6f9fd8e74eb3",
   "metadata": {},
   "source": [
    "Dictionaries werden mit geschweiften Klammern `{...}` geschrieben. Innerhalb der Klammern stehen **Paare von Schlüsseln und Werten** (key-value pairs) mit der folgenden Syntax:\n",
    "```python\n",
    "{\n",
    "    \"key1\": \"value1\",\n",
    "    \"key2\": \"value2\",\n",
    "    ...\n",
    "}\n",
    "```\n",
    "Als **Schlüssel (key)** können Strings oder Zahlen verwendet werden. **Werte (values)** können von einem beliebigen Datentypen sein, also z.B. auch Listen oder andere Dictionaries.\n",
    "\n",
    "Genau wie Listen sind **Dictionaries selbst Werte** und können entsprechend einer Variable zugewiesen werden."
   ]
  },
  {
   "cell_type": "code",
   "execution_count": null,
   "id": "bd7c8e03-ca47-4156-a6b9-73cbdce96e11",
   "metadata": {},
   "outputs": [],
   "source": [
    "student_ids = {\n",
    "    \"Anna\": 1234567,\n",
    "    \"Besarta\": 7654321,\n",
    "    \"Cem\": 2481632\n",
    "}"
   ]
  },
  {
   "cell_type": "markdown",
   "id": "8f521219-fd8a-45e1-afc9-907c6375a2c3",
   "metadata": {},
   "source": [
    "### 🛠️Übung: Wochenkalender\n",
    "Schreibe einen Dictionary, der als Schlüssel die Wochentage von Montag bis Freitag (als Strings) enthält. Schreibe als Wert jeweils ein Stichwort dazu, was du an dem Tag vorhast."
   ]
  },
  {
   "cell_type": "code",
   "execution_count": null,
   "id": "96e77b46-bdf4-4734-9440-1abed8089ab2",
   "metadata": {},
   "outputs": [],
   "source": [
    "# Hier ist Platz für die Aufgabe\n",
    "\n",
    "\n"
   ]
  },
  {
   "cell_type": "markdown",
   "id": "e4150c88-34ad-49e6-8b82-50d9616ff6b1",
   "metadata": {
    "tags": []
   },
   "source": [
    "## 7.2 Auf Dictionary-Werte zugreifen"
   ]
  },
  {
   "cell_type": "markdown",
   "id": "f3972aeb-aa91-4992-b525-bbd182f60bdf",
   "metadata": {},
   "source": [
    "Um auf einen Wert eines bestimmten Schlüssels zuzugreifen, wird der Schlüssel in eckigen Klammern direkt nach dem Dictionary-Ausdruck (z.B. einer Variable) geschrieben."
   ]
  },
  {
   "cell_type": "code",
   "execution_count": null,
   "id": "38b38576-2426-46e4-95fd-ec195654846b",
   "metadata": {},
   "outputs": [],
   "source": [
    "student_ids = {\n",
    "    \"Anna\": 1234567,\n",
    "    \"Besarta\": 7654321,\n",
    "    \"Cem\": 2481632\n",
    "}\n",
    "\n",
    "student_ids[\"Cem\"]"
   ]
  },
  {
   "cell_type": "markdown",
   "id": "620b0255-1057-4141-bf35-0f1788275b48",
   "metadata": {},
   "source": [
    "Alternativ ist auch die `get()`-Methode eine Möglichkeit, um auf Werte zuzugreifen."
   ]
  },
  {
   "cell_type": "code",
   "execution_count": null,
   "id": "0ca9c1c1-45e5-4435-8044-cd1bc5b19ea2",
   "metadata": {},
   "outputs": [],
   "source": [
    "student_ids = {\n",
    "    \"Anna\": 1234567,\n",
    "    \"Besarta\": 7654321,\n",
    "    \"Cem\": 2481632\n",
    "}\n",
    "\n",
    "student_ids.get(\"Cem\")"
   ]
  },
  {
   "cell_type": "markdown",
   "id": "0dc90a08-cad0-4bf4-a45b-c767c2ab7fe3",
   "metadata": {},
   "source": [
    "### 🧪Experiment: Dictionary-Zugriff\n",
    "Versuche auf die verschiedenen Schlüssel im folgenden Dictionary zuzugreifen. Was passiert, wenn du auf den nicht-vorhandenen Schlüssel `speed` zugreifst? Macht es einen Unterschied, die `get()`-Methode zu verwenden?"
   ]
  },
  {
   "cell_type": "code",
   "execution_count": null,
   "id": "9a227bf9-f876-4391-9fc4-9e7e040fcf0a",
   "metadata": {},
   "outputs": [],
   "source": [
    "my_car = {\n",
    "    \"brand\": \"Skoda\",\n",
    "    \"color\": \"red\",\n",
    "    \"year\": 2023\n",
    "}\n",
    "\n",
    "# Platz zum Ausprobieren\n",
    "\n"
   ]
  },
  {
   "cell_type": "markdown",
   "id": "773b53a5-fed9-467b-a76c-a9d1a1a454f5",
   "metadata": {},
   "source": [
    "### 🛠️Übung: Interaktiver Wochenkalender\n",
    "Vervollständige den folgenden Code!"
   ]
  },
  {
   "cell_type": "code",
   "execution_count": null,
   "id": "32890a9d-bda0-471e-ae80-59ab25161053",
   "metadata": {},
   "outputs": [],
   "source": [
    "calendar = {\n",
    "    \"Montag\": \"Arbeit\",\n",
    "    \"Dienstag\": \"Vorlesungen\",\n",
    "    \"Mittwoch\": \"Lernen\",\n",
    "    \"Donnerstag\": \"Arbeit\",\n",
    "    \"Freitag\": \"Vorlesungen\"\n",
    "}\n",
    "\n",
    "day = input(\"Gib einen Wochentag ein: \")\n",
    "\n",
    "print(\"Am \" + day + \" steht in deinem Kalender:\")\n",
    "\n",
    "# Ergänze hier eine passende Zeile Code\n",
    "\n"
   ]
  },
  {
   "cell_type": "markdown",
   "id": "21cdb719-0009-42bb-b719-3b3c2acb81aa",
   "metadata": {
    "jp-MarkdownHeadingCollapsed": true
   },
   "source": [
    "## 7.3 Dictionary-Werte überschreiben"
   ]
  },
  {
   "cell_type": "markdown",
   "id": "93fbfd57-2f3a-4178-b32c-bf830bf8c9bf",
   "metadata": {},
   "source": [
    "Das Überschreiben von Dictionary-Werten funktioniert analog zum Zugriff, ähnlich wie bei Listen."
   ]
  },
  {
   "cell_type": "code",
   "execution_count": null,
   "id": "9522563c-4ec1-47a9-b55c-259a5e144fcf",
   "metadata": {},
   "outputs": [],
   "source": [
    "student_ids = {\n",
    "    \"Anna\": 1234567,\n",
    "    \"Besarta\": 7654321,\n",
    "    \"Cem\": 2481632\n",
    "}\n",
    "\n",
    "# Neue ID an Anna vergeben\n",
    "student_ids[\"Anna\"] = 1111111\n",
    "\n",
    "print(student_ids)"
   ]
  },
  {
   "cell_type": "markdown",
   "id": "880132a2-1aa0-4849-af1a-e2e0b6e57d22",
   "metadata": {
    "jp-MarkdownHeadingCollapsed": true
   },
   "source": [
    "## 7.4 Dictionaries iterieren"
   ]
  },
  {
   "cell_type": "markdown",
   "id": "3919d5c0-860d-4e2a-9f3e-97ea137f27d3",
   "metadata": {},
   "source": [
    "Wie bei Listen können `for`-Schleifen benutzt werden, um auf alle Elemente eines Dictionaries zuzugreifen."
   ]
  },
  {
   "cell_type": "markdown",
   "id": "5e5cdb8b-3b9b-48e8-90eb-418ab65ab6eb",
   "metadata": {},
   "source": [
    "### 🧪Experiment: Dictionaries iterieren\n",
    "Führe den folgenden Code aus. Wie müsste er geändert werden, um alle Informationen im Dictionary auszugeben?"
   ]
  },
  {
   "cell_type": "code",
   "execution_count": null,
   "id": "c59ea3ec-f92e-40c8-a2e8-8f768b92ff2f",
   "metadata": {},
   "outputs": [],
   "source": [
    "# Beispiel-Dictionary\n",
    "calendar = {\n",
    "    \"Montag\": \"Arbeit\",\n",
    "    \"Dienstag\": \"Vorlesungen\",\n",
    "    \"Mittwoch\": \"Lernen\",\n",
    "    \"Donnerstag\": \"Arbeit\",\n",
    "    \"Freitag\": \"Vorlesungen\"\n",
    "}\n",
    "\n",
    "for x in calendar:\n",
    "    print(x)"
   ]
  },
  {
   "cell_type": "markdown",
   "id": "f6222030-59f3-4796-962d-f300cf42cc99",
   "metadata": {
    "jp-MarkdownHeadingCollapsed": true
   },
   "source": [
    "## 7.5 Dictionaries und Listen"
   ]
  },
  {
   "cell_type": "markdown",
   "id": "30d3a306-cd1a-439e-97e7-06593a4e34e5",
   "metadata": {},
   "source": [
    "Manchmal ist es hilfreich, auf Schlüssel und Werte eines Dictionary wie auf eine Liste zuzugreifen. Genau das erreichen die folgenden beiden Methoden:"
   ]
  },
  {
   "cell_type": "code",
   "execution_count": null,
   "id": "e950f13c-3295-4170-b603-9ed87bc78859",
   "metadata": {},
   "outputs": [],
   "source": [
    "student_ids = {\n",
    "    \"Anna\": 1234567,\n",
    "    \"Besarta\": 7654321,\n",
    "    \"Cem\": 2481632\n",
    "}\n",
    "\n",
    "# Die keys() Methode gibt uns eine Liste der Dictionary-Schlüsseln\n",
    "print(student_ids.keys())\n",
    "\n",
    "# Die values() Methode gibt uns eine Liste der Werte\n",
    "print(student_ids.values())"
   ]
  },
  {
   "cell_type": "markdown",
   "id": "3485701a-b07b-4913-99fb-f5ee064e8233",
   "metadata": {},
   "source": [
    "### 🤔 Diskussion: Alltagsszenarien modellieren"
   ]
  },
  {
   "cell_type": "markdown",
   "id": "6e26d58c-0ff9-4b5b-8b5f-c0fac2b1a873",
   "metadata": {},
   "source": [
    "Mit Listen und Dictionaries lassen sich viele Alltagsszenarien modellieren, in denen wir mit strukturierten Informationen zu tun haben. Manchmal eignen sich bei der Modellierung Listen besser, manchmal Dictionaries, und manchmal braucht es auch eine Kombination.\n",
    "\n",
    "Überlegt als Gruppe, wie man mit Listen und/oder Dictionaries die folgenden Szenarien modellieren könnte:\n",
    "- Ein E-Mail-Postfach\n",
    "- Ein Lexikon\n",
    "- Ein Synonym-Wörterbuch\n",
    "- Eine Playlist\n",
    "- Ein Warenkorb auf einer Shopping-Webseite\n",
    "- Ein Passwort-Verwaltungsprogramm\n",
    "- Ein Rezept\n",
    "- Ein Chat-Verlauf\n",
    "- Eine Excel-Tabelle"
   ]
  },
  {
   "cell_type": "code",
   "execution_count": null,
   "id": "8a5dc256-7510-48a9-904b-247ab9bdc73b",
   "metadata": {},
   "outputs": [],
   "source": []
  }
 ],
 "metadata": {
  "kernelspec": {
   "display_name": "Python 3 (ipykernel)",
   "language": "python",
   "name": "python3"
  },
  "language_info": {
   "codemirror_mode": {
    "name": "ipython",
    "version": 3
   },
   "file_extension": ".py",
   "mimetype": "text/x-python",
   "name": "python",
   "nbconvert_exporter": "python",
   "pygments_lexer": "ipython3",
   "version": "3.9.13"
  }
 },
 "nbformat": 4,
 "nbformat_minor": 5
}
