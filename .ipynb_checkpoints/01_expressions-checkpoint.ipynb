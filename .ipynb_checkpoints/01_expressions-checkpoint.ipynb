{
 "cells": [
  {
   "cell_type": "markdown",
   "metadata": {
    "jp-MarkdownHeadingCollapsed": true
   },
   "source": [
    "# Teil 0: Hallo Welt"
   ]
  },
  {
   "cell_type": "markdown",
   "metadata": {},
   "source": [
    "Fast alle Programmier-Tutorials beginnen damit, den Computer \"Hallo Welt\" bzw. \"Hello world\" sagen zu lassen. In Python ist das ganz einfach:"
   ]
  },
  {
   "cell_type": "markdown",
   "metadata": {},
   "source": [
    "### 🛠️Übung: Hallo Welt\n",
    "Tippe den folgenden Befehl in das darunterstehende Feld ein und führe ihn aus.\n",
    "```python\n",
    "print(\"Hallo Welt!\")\n",
    "```\n"
   ]
  },
  {
   "cell_type": "code",
   "execution_count": null,
   "metadata": {},
   "outputs": [],
   "source": [
    "# Klicke auf dieses Feld, um die Aufgabe zu bearbeiten\n",
    "\n",
    "\n"
   ]
  },
  {
   "cell_type": "markdown",
   "metadata": {
    "jp-MarkdownHeadingCollapsed": true
   },
   "source": [
    "# Teil 1: Ausdrücke, Werte und Datentypen\n",
    "**Ausdrücke** sind die Teile eines Programms, die einen **Wert** ergeben. Sie besitzen einen **Datentyp**, der (u.a.) bestimmt, welche **Operationen** mit dem Ausdruck durchgeführt werden können."
   ]
  },
  {
   "cell_type": "markdown",
   "metadata": {
    "jp-MarkdownHeadingCollapsed": true
   },
   "source": [
    "## 1.1 Literale"
   ]
  },
  {
   "cell_type": "markdown",
   "metadata": {},
   "source": [
    "**Literale** sind die einfachste Form von Ausdrücken. Ihr Wert ist wortwörtlich (\"literally\") im Code enthalten."
   ]
  },
  {
   "cell_type": "code",
   "execution_count": null,
   "metadata": {},
   "outputs": [],
   "source": [
    "# Ein paar Beispiele\n",
    "\n",
    "42 # Die Zahl 42\n",
    "3.14 # Die Zahl 3.14\n",
    "\"Hallo\" # Das Wort Hallo"
   ]
  },
  {
   "cell_type": "markdown",
   "metadata": {
    "jp-MarkdownHeadingCollapsed": true
   },
   "source": [
    "## 1.2 Datentypen identifizieren"
   ]
  },
  {
   "cell_type": "markdown",
   "metadata": {},
   "source": [
    "Jeder Wert gehört zu einem **Datentyp**. Der Datentyp bestimmt, was mit dem Wert im Programm gemacht werden kann."
   ]
  },
  {
   "cell_type": "code",
   "execution_count": null,
   "metadata": {},
   "outputs": [],
   "source": [
    "# Der Datentyp eines Werts lässt sich mit dem Befehl type() herausfinden\n",
    "\n",
    "type(42)"
   ]
  },
  {
   "cell_type": "markdown",
   "metadata": {},
   "source": [
    "### 🛠️Übung: Datentyp bestimmen\n",
    "Finde heraus, welche der folgenden Literale den gleichen Datentyp besitzen!"
   ]
  },
  {
   "cell_type": "markdown",
   "metadata": {},
   "source": [
    "```python\n",
    "7.77\n",
    "777\n",
    "\"A\"\n",
    "True\n",
    "0.0\n",
    "\"Wie geht es dir?\"\n",
    "-3\n",
    "```"
   ]
  },
  {
   "cell_type": "code",
   "execution_count": null,
   "metadata": {},
   "outputs": [],
   "source": [
    "# Klick auf dieses Feld, um die Aufgabe zu bearbeiten!\n"
   ]
  },
  {
   "cell_type": "markdown",
   "metadata": {
    "jp-MarkdownHeadingCollapsed": true
   },
   "source": [
    "## 1.3 Drei wichtige Datentypen"
   ]
  },
  {
   "cell_type": "markdown",
   "metadata": {
    "jp-MarkdownHeadingCollapsed": true
   },
   "source": [
    "### Integer\n",
    "Ganze Zahlen (also Null, negative und positive Zahlen ohne Komma) gehören zum Datentyp **int**, was für den englischen Begriff \"integer\" (ganze Zahl) steht."
   ]
  },
  {
   "cell_type": "code",
   "execution_count": null,
   "metadata": {},
   "outputs": [],
   "source": [
    "# Beispiele für int-Werte\n",
    "-3\n",
    "4\n",
    "1451\n",
    "0"
   ]
  },
  {
   "cell_type": "markdown",
   "metadata": {},
   "source": [
    "Mit int-Werten kann man z.B. Rechnungen durchführen, indem man Arithmetik-**Operatoren** nutzt."
   ]
  },
  {
   "cell_type": "code",
   "execution_count": null,
   "metadata": {},
   "outputs": [],
   "source": [
    "2 + 4 # Addition\n",
    "\n",
    "9 - 20 # Subtraktion\n",
    "\n",
    "2 * 8 # Multiplikation\n",
    "\n",
    "3 ** 2 # Potenzierung\n",
    "\n",
    "7 / 2 # Division - Achtung: ergibt immer Datentyp float!\n",
    "\n",
    "8 % 3 # Modulo: Ergibt den \"Rest\" beim Teilen mit Rest\n"
   ]
  },
  {
   "cell_type": "markdown",
   "metadata": {
    "jp-MarkdownHeadingCollapsed": true
   },
   "source": [
    "### Float\n",
    "Kommazahlen, egal ob positiv oder negativ, gehören zum Datentyp **float**, abgeleitet aus \"floating point number\" (Gleitkommazahl).\n",
    "\n",
    "Float-Literale nutzen einen Punkt `.` statt eines Kommas, wie im Englischen üblich."
   ]
  },
  {
   "cell_type": "code",
   "execution_count": null,
   "metadata": {},
   "outputs": [],
   "source": [
    "# Beispiele für float-Werte\n",
    "\n",
    "3.66\n",
    "-0.3333\n",
    "32.0 # Achtung: auch hier handelt es sich um einen float\n",
    "1 / 3 # Achtung: Dieser komplexe Ausdruck besteht zwar aus zwei int-Werten, aber durch die Division wird ein float erzeugt"
   ]
  },
  {
   "cell_type": "markdown",
   "metadata": {},
   "source": [
    "Mit float-Werten können dieselben Operationen wie mit int-Werten durchgeführt werden. Eine Kombination aus float und int ist ebenfalls möglich."
   ]
  },
  {
   "cell_type": "code",
   "execution_count": null,
   "metadata": {},
   "outputs": [],
   "source": [
    "3.5 + 0.5\n",
    "3.7 - 29.1\n",
    "2.5 * 2\n",
    "4 ** 0.5"
   ]
  },
  {
   "cell_type": "markdown",
   "metadata": {},
   "source": [
    "#### 🧪Experiment: Grenzen von float\n",
    "Was ist der Wert des folgenden Ausdrucks? Was könnte der Grund dafür sein?"
   ]
  },
  {
   "cell_type": "code",
   "execution_count": null,
   "metadata": {
    "scrolled": true
   },
   "outputs": [],
   "source": [
    "1.5 + 1.499999999999999999"
   ]
  },
  {
   "cell_type": "markdown",
   "metadata": {
    "jp-MarkdownHeadingCollapsed": true
   },
   "source": [
    "### 🛠️Übung: Rechnen mit Python\n",
    "Übersetze und berechne den folgenden Ausdruck in Python. Vergiss nicht, Klammern zu nutzen, um die Rechenreihenfolge festzulegen!\n"
   ]
  },
  {
   "cell_type": "markdown",
   "metadata": {},
   "source": [
    "$$\n",
    "\\frac{569.99 + 19^2}{53\\cdot7.3 - 1672\\div13}\n",
    "$$"
   ]
  },
  {
   "cell_type": "code",
   "execution_count": null,
   "metadata": {},
   "outputs": [],
   "source": [
    "# Klicke auf dieses Feld, um die Aufgabe zu bearbeiten\n",
    "\n"
   ]
  },
  {
   "cell_type": "markdown",
   "metadata": {
    "jp-MarkdownHeadingCollapsed": true
   },
   "source": [
    "### String\n",
    "Jegliche Form von Text, egal ob einzelne Buchstaben, Wörter oder Sätze gehören zum Datentyp **str**. Das kürzt den Begriff \"string\" (Faden, Kette) ab, der ursprünglich mit der Idee einer Buchstabenkette (\"string of characters\") zusammenhängt."
   ]
  },
  {
   "cell_type": "code",
   "execution_count": null,
   "metadata": {},
   "outputs": [],
   "source": [
    "# Beispiele für str-Werte\n",
    "\n",
    "\"Hallo Welt\"\n",
    "\"z\"\n",
    "\"\" # Auch der \"leere String\", eine Buchstabenkette ohne Inhalt, zählt als str\n",
    "\n",
    "# Mit dreifachen Anführungszeichen erzeugt man str-Werte, die mehrere Zeilen umfassen\n",
    "\"\"\"\n",
    "Als Gregor Samsa eines Morgens aus unruhigen Träumen erwachte, fand er sich in seinem Bett zu einem ungeheueren Ungeziefer verwandelt.\n",
    "Er lag auf seinem panzerartig harten Rücken und sah, wenn er den Kopf ein wenig hob, seinen gewölbten, braunen, von bogenförmigen \n",
    "Versteifungen geteilten Bauch, auf dessen Höhe sich die Bettdecke, zum gänzlichen Niedergleiten bereit, kaum noch erhalten konnte. \n",
    "Seine vielen, im Vergleich zu seinem sonstigen Umfang kläglich dünnen Beine flimmerten ihm hilflos vor den Augen.\n",
    "\"\"\"\n",
    "\n",
    "'Auch ein String' # Statt doppelten können auch einfache Anführungsstriche benutzt werden, in Python macht das keinen Unterschied."
   ]
  },
  {
   "cell_type": "markdown",
   "metadata": {},
   "source": [
    "Eine wichtige String-Operation ist **Verkettung**, die Kombination von zwei str-Werten zu einem neuen. "
   ]
  },
  {
   "cell_type": "code",
   "execution_count": null,
   "metadata": {},
   "outputs": [],
   "source": [
    "# Verkettung von zwei Strings\n",
    "\"Hallo \" + \"Welt\""
   ]
  },
  {
   "cell_type": "markdown",
   "metadata": {},
   "source": [
    "#### 🧪Experiment: Text ohne Anführungszeichen\n",
    "Versuche, normalen Text ohne Anführungszeichen als Code einzugeben. Was passiert?\n",
    "\n",
    "Versuche anschließend, den String `'Wie geht's?'` einzugeben. Wie klappt das, wie nicht?"
   ]
  },
  {
   "cell_type": "code",
   "execution_count": null,
   "metadata": {},
   "outputs": [],
   "source": [
    "# Klicke auf dieses Feld, um die Aufgabe zu bearbeiten\n"
   ]
  },
  {
   "cell_type": "markdown",
   "metadata": {},
   "source": [
    "#### 🧪Experiment: int und str addieren\n",
    "Versuche, den String `\"Mein Alter: \"` und die Zahl `31` mit einem `+` zu kombinieren. Was passiert?"
   ]
  },
  {
   "cell_type": "code",
   "execution_count": null,
   "metadata": {},
   "outputs": [],
   "source": [
    "# Klicke auf dieses Feld, um die Aufgabe zu bearbeiten\n"
   ]
  },
  {
   "cell_type": "markdown",
   "metadata": {
    "jp-MarkdownHeadingCollapsed": true
   },
   "source": [
    "## 1.4 Datentypen konvertieren und kombinieren"
   ]
  },
  {
   "cell_type": "markdown",
   "metadata": {},
   "source": [
    "Um Operationen mit Werten verschiedener Datentypen auszuführen, müssen wir die Werte oft konvertieren."
   ]
  },
  {
   "cell_type": "markdown",
   "metadata": {},
   "source": [
    "### Syntax für Typkonvertierung\n",
    "Um einen Ausdruck in einen anderen Datentyp umzuwandeln, wird zuerst der Name des Datentyps geschrieben. Danach folgt - ohne Leerzeichen! - der Ausdruck in Klammern."
   ]
  },
  {
   "cell_type": "code",
   "execution_count": null,
   "metadata": {},
   "outputs": [],
   "source": [
    "# Beispiel: 42 -> \"42\"\n",
    "str(42)"
   ]
  },
  {
   "cell_type": "markdown",
   "metadata": {},
   "source": [
    "#### 🧪Experiment: Typkonvertierung\n",
    "Versuche, Literale der Datentypen float, int und str ineinander zu konvertieren. Erhältst du die erwarteten Ergebnisse?"
   ]
  },
  {
   "cell_type": "code",
   "execution_count": null,
   "metadata": {},
   "outputs": [],
   "source": [
    "# Klicke auf dieses Feld, um die Aufgabe zu bearbeiten\n",
    "\n"
   ]
  },
  {
   "cell_type": "markdown",
   "metadata": {},
   "source": [
    "### 🐞Bug Hunt: Typkonvertierung\n",
    "Führe den Code aus und analysiere das Ergebnis. Versuche anschließend, den Code zu verbessern!"
   ]
  },
  {
   "cell_type": "code",
   "execution_count": null,
   "metadata": {},
   "outputs": [],
   "source": [
    "\"Ich bin \" + 2025 - 1993 + \" Jahre alt.\""
   ]
  }
 ],
 "metadata": {
  "kernelspec": {
   "display_name": "Python 3 (ipykernel)",
   "language": "python",
   "name": "python3"
  },
  "language_info": {
   "codemirror_mode": {
    "name": "ipython",
    "version": 3
   },
   "file_extension": ".py",
   "mimetype": "text/x-python",
   "name": "python",
   "nbconvert_exporter": "python",
   "pygments_lexer": "ipython3",
   "version": "3.12.7"
  }
 },
 "nbformat": 4,
 "nbformat_minor": 4
}
