{
 "cells": [
  {
   "cell_type": "markdown",
   "metadata": {},
   "source": [
    "# Teil 2: Variablen\n",
    "**Variablen** sind **Namen**, die wir einem **Wert** geben, um ihn an einer anderen Stelle im Code zu verwenden."
   ]
  },
  {
   "cell_type": "markdown",
   "metadata": {},
   "source": [
    "## 2.1 Zuweisung - Namen an Werte vergeben"
   ]
  },
  {
   "cell_type": "markdown",
   "metadata": {},
   "source": [
    "Eine (Variablen-)Zuweisung ist eine der fundamentalen **Anweisungen** in Python. Sie teilt dem Computer mit, dass ein bestimmter Wert im Rest des Programms mit einem bestimmten Namen abgekürzt wird.\n",
    "\n",
    "Eine Zuweisung besteht immer aus einem `Namen`, einem `=` und einem `Ausdruck`. Beim Ausführen einer Zuweisung wird zuerst der Ausdruck **ausgewertet** und der so erhaltene **Wert** bekommt den Namen."
   ]
  },
  {
   "cell_type": "code",
   "execution_count": null,
   "metadata": {},
   "outputs": [],
   "source": [
    "# Variablenzuweisungen\n",
    "x = 3\n",
    "song = str(99) + \" Luftballons\"\n",
    "greeting = \"Hallo! Wie geht's dir heute?\"\n",
    "result = (3 * 4) - 11"
   ]
  },
  {
   "cell_type": "markdown",
   "metadata": {},
   "source": [
    "#### 🧪Experiment: Variablen aufrufen\n",
    "Gebe die Namen aus der vorherigen Code-Zelle ein. Was passiert? Führe anschließend den Code aus der vorherigen Zelle aus und probiere es noch einmal."
   ]
  },
  {
   "cell_type": "code",
   "execution_count": null,
   "metadata": {},
   "outputs": [],
   "source": [
    "# Klicke auf dieses Feld, um die Aufgabe zu bearbeiten\n"
   ]
  },
  {
   "cell_type": "markdown",
   "metadata": {},
   "source": [
    "Der **Name**, den wir einer Variable geben, kann fast beliebig gewählt werden, er darf allerdings **keine Leerzeichen und Bindestriche** enthalten.\n",
    "\n",
    "Um in längeren Programmen den Überblick zu behalten, ist es sehr wichtig, aussagekräftige Namen für Variablen zu finden. Falls diese aus mehreren Wörtern bestehen, ist es in Python üblich, sie mit `_` zu verknüpfen."
   ]
  },
  {
   "cell_type": "code",
   "execution_count": null,
   "metadata": {},
   "outputs": [],
   "source": [
    "my_age = 31\n",
    "previous_year = 2024\n",
    "sum_of_small_primes = 2 + 5 + 3 + 7"
   ]
  },
  {
   "cell_type": "markdown",
   "metadata": {},
   "source": [
    "## 2.2 Variablen sind Ausdrücke"
   ]
  },
  {
   "cell_type": "markdown",
   "metadata": {},
   "source": [
    "Variablen können überall dort verwendet werden, wo wir bisher Ausdrücke benutzt haben."
   ]
  },
  {
   "cell_type": "code",
   "execution_count": 3,
   "metadata": {},
   "outputs": [
    {
     "data": {
      "text/plain": [
       "'Hallo Alex'"
      ]
     },
     "execution_count": 3,
     "metadata": {},
     "output_type": "execute_result"
    }
   ],
   "source": [
    "# Variablen in komplexen Ausdrücken\n",
    "name = \"Alex\"\n",
    "\"Hallo \" + name"
   ]
  },
  {
   "cell_type": "markdown",
   "metadata": {},
   "source": [
    "## 2.2 Variablen überschreiben"
   ]
  },
  {
   "cell_type": "markdown",
   "metadata": {},
   "source": [
    "In Python können Variablennamen beliebig oft an neue Werte vergeben werden. Das kann nützlich sein, aber auch unübersichtlich werden."
   ]
  },
  {
   "cell_type": "code",
   "execution_count": null,
   "metadata": {},
   "outputs": [],
   "source": [
    "x = 42\n",
    "y = 23"
   ]
  },
  {
   "cell_type": "markdown",
   "metadata": {},
   "source": []
  }
 ],
 "metadata": {
  "kernelspec": {
   "display_name": "Python 3",
   "language": "python",
   "name": "python3"
  },
  "language_info": {
   "codemirror_mode": {
    "name": "ipython",
    "version": 3
   },
   "file_extension": ".py",
   "mimetype": "text/x-python",
   "name": "python",
   "nbconvert_exporter": "python",
   "pygments_lexer": "ipython3",
   "version": "3.10.11"
  }
 },
 "nbformat": 4,
 "nbformat_minor": 2
}
