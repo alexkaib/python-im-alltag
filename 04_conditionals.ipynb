{
 "cells": [
  {
   "cell_type": "markdown",
   "id": "01c837c0-eef2-4a4c-9e41-4191b3067c22",
   "metadata": {},
   "source": [
    "# Teil 4: Bedingungen"
   ]
  },
  {
   "cell_type": "markdown",
   "id": "70b821f2-45fe-4912-bf7c-ed8739d6034c",
   "metadata": {},
   "source": [
    "**Bedingungen** modellieren Entscheidungen in einem Programm. Je nachdem, ob ein bestimmter Ausdruck **wahr** oder **falsch** ist, wird ein bestimmter Abschnitt des Programms (ein **Code-Block**) ausgeführt oder übersprungen. Dadurch können **Verzweigungen** in ein Programm eingebaut werden, so dass auf verschiedene Situationen unterschiedlich reagiert werden kann."
   ]
  },
  {
   "cell_type": "markdown",
   "id": "d2295bd0-b6d2-4900-970e-7ebe0a74cca9",
   "metadata": {
    "jp-MarkdownHeadingCollapsed": true
   },
   "source": [
    "## 4.1 Wenn-dann"
   ]
  },
  {
   "cell_type": "markdown",
   "id": "9728e1ec-0486-4cc6-b1f0-0ce96ab92e81",
   "metadata": {},
   "source": [
    "Die grundlegende **Bedingungsanweisung** (wenn x, dann y) besteht aus dem Schlüsselwort `if`, einem als wahr oder falsch bewerteten `Ausdruck` und einem Doppelpunkt `:`. \n",
    "\n",
    "Danach folgt **eingerückt** (mit der Tabulatortaste `↹`, links über Umschalt) ein Code-Block, der nur ausgeführt wird, wenn der Ausdruck wahr ist. \n",
    "\n",
    "Der Ausdruck nach `if`, dessen Wahrheitswert bestimmt wird, ist die eigentliche **Bedingung**. Der eingerückte Code-Block ist die **bedingte Anweisung**."
   ]
  },
  {
   "cell_type": "code",
   "execution_count": null,
   "id": "bdd00750-afa3-43c4-b4c6-c06b4875840e",
   "metadata": {},
   "outputs": [],
   "source": [
    "is_raining = True\n",
    "\n",
    "# Die Bedingung: Wenn es regnet...\n",
    "if is_raining:\n",
    "    # Die bedingte Anweisung: ... dann erinnere mich an den Regenschirm.\n",
    "    print(\"Vergiss nicht deinen Regenschirm.\")"
   ]
  },
  {
   "cell_type": "code",
   "execution_count": null,
   "id": "87855149-7e33-4956-91ec-cda5d179e62d",
   "metadata": {},
   "outputs": [],
   "source": [
    "# Noch ein Beispiel\n",
    "\n",
    "if 1 + 1 == 2:\n",
    "    print(\"Alles gut, Mathe funktioniert noch.\")"
   ]
  },
  {
   "cell_type": "markdown",
   "id": "19ddcd25-d86d-42d2-b86e-9ca9818976e4",
   "metadata": {},
   "source": [
    "### 🛠️Übung: Bedingungen\n",
    "Vervollständige den untenstehenden Code so, dass geprüft wird, ob das vom User eingegebene Passwort mit dem gesetzten Passwort übereinstimmt. Wenn das der Fall ist, soll die Nachricht \"Authentifizierung erfolgreich\" ausgegeben werden."
   ]
  },
  {
   "cell_type": "code",
   "execution_count": null,
   "id": "a75e23d6-3f9c-4dfc-a9c3-588094789319",
   "metadata": {},
   "outputs": [],
   "source": [
    "# Variablen für die Aufgabe\n",
    "password = \"swordfish\"\n",
    "user_password = input(\"Wie lautet das Password? \")\n",
    "\n",
    "# Füge hier deinen Code ein\n"
   ]
  },
  {
   "cell_type": "markdown",
   "id": "905a8a91-e455-450e-bd43-538d97046f2d",
   "metadata": {
    "jp-MarkdownHeadingCollapsed": true
   },
   "source": [
    "## 4.2 Wenn-dann-sonst"
   ]
  },
  {
   "cell_type": "markdown",
   "id": "e3373ae8-bca1-484d-aa39-b7a7932e1b68",
   "metadata": {},
   "source": [
    "Oft möchte man mit einer Bedingung nicht nur auf die Wahrheit einer Aussage reagieren, sondern auch bei ihrer Falschheit etwas bestimmtes tun.\n",
    "\n",
    "Das wird durch das `if... else...` Konstrukt erreicht."
   ]
  },
  {
   "cell_type": "code",
   "execution_count": 14,
   "id": "3975cf05-84ea-45b1-8278-4f681732f088",
   "metadata": {},
   "outputs": [
    {
     "name": "stdout",
     "output_type": "stream",
     "text": [
      "Fehler: Guthaben reicht nicht aus.\n"
     ]
    }
   ],
   "source": [
    "available_money = 12\n",
    "total_price = 20\n",
    "\n",
    "# Eine normale Bedingung...\n",
    "if available_money >= total_price:\n",
    "    print(\"Danke für Ihren Einkauf\")\n",
    "\n",
    "# Die \"else\"-Anweisung: der darauffolgende Codeblock wird nur ausgeführt, wenn die vorherige Bedingung falsch ist\n",
    "else:\n",
    "    print(\"Fehler: Guthaben reicht nicht aus.\") \n"
   ]
  },
  {
   "cell_type": "markdown",
   "id": "f241696e-9424-4fdb-9dce-335cfa3d83ea",
   "metadata": {},
   "source": [
    "### 🐞Bug Hunt: Mittagessen\n",
    "Was stimmt an dem folgenden Code nicht? Probiere ggf. verschiedene Werte für `current_time` aus, um deine Vermutung zu bestätigen. Versuche anschließend, den Code zu verbessern!"
   ]
  },
  {
   "cell_type": "code",
   "execution_count": null,
   "id": "e6ab02b6-2738-479b-a9fc-f9564c2df067",
   "metadata": {},
   "outputs": [],
   "source": [
    "current_time = 10\n",
    "\n",
    "if current_time < 12 or current_time >= 12:\n",
    "    print(\"Es ist noch nicht Mittagszeit.\")\n",
    "else:\n",
    "    print(\"Zeit für's Mittagessen!\")"
   ]
  },
  {
   "cell_type": "markdown",
   "id": "cd39e8ec-88cf-4182-9fb6-4c9261d42a3f",
   "metadata": {
    "jp-MarkdownHeadingCollapsed": true
   },
   "source": [
    "## 4.3 Wenn-dann-oder-sonst"
   ]
  },
  {
   "cell_type": "markdown",
   "id": "88dfb06f-3953-472a-a176-25ff7abad4c4",
   "metadata": {},
   "source": [
    "Das `if... elif... else` Konstrukt erlaubt es, **mehrere Bedingungen hintereinander** zu überprüfen. Die erste davon, die wahr ist, wird ausgeführt. \n",
    "\n",
    "Wenn keine der Bedingungen wahr ist, wird der `else`-Block ausgeführt, wenn es ihn gibt - man kann ihn auch weglassen, dann passiert nichts.\n",
    "\n",
    "Achtung: Es wird wirklich **nur** die erste wahre Bedingungen ausgeführt. Alle weiteren werden ignoriert."
   ]
  },
  {
   "cell_type": "code",
   "execution_count": 15,
   "id": "df1e296e-06b0-4cf7-9ab3-bbb941b7c77e",
   "metadata": {},
   "outputs": [
    {
     "name": "stdout",
     "output_type": "stream",
     "text": [
      "Willkommen! Was kann ich für Sie tun?\n"
     ]
    }
   ],
   "source": [
    "role = \"user\"\n",
    "\n",
    "if role == \"admin\":\n",
    "    print(\"Admin Modus aktiviert\")\n",
    "elif role == \"user\":\n",
    "    print(\"Willkommen! Was kann ich für Sie tun?\")\n",
    "elif role == \"guest\":\n",
    "    print(\"Willkommen! Bitte melden Sie sich an.\")\n",
    "else:\n",
    "    print(\"Unbekannte Rolle. Fahre System herunter...\")"
   ]
  },
  {
   "cell_type": "markdown",
   "id": "ed015bbc-70da-42c5-a39c-c580d3a26f1b",
   "metadata": {},
   "source": [
    "### 🐞Bug Hunt: Alterskontrolle\n",
    "Was stimmt an dem folgenden Code nicht? Probiere ggf. verschiedene Werte für `age` aus, um deine Vermutung zu bestätigen. Versuche anschließend, den Code zu verbessern!"
   ]
  },
  {
   "cell_type": "code",
   "execution_count": 18,
   "id": "ec4d3502-043b-4804-a791-acbde6f60a6e",
   "metadata": {},
   "outputs": [
    {
     "name": "stdout",
     "output_type": "stream",
     "text": [
      "Baby\n"
     ]
    }
   ],
   "source": [
    "age = 2\n",
    "\n",
    "if age > 0:\n",
    "    print(\"Baby\")\n",
    "elif age > 3:\n",
    "    print(\"Kind\")\n",
    "elif age > 12:\n",
    "    print(\"Teenager\")\n",
    "else:\n",
    "    print(\"Erwachsen\")"
   ]
  },
  {
   "cell_type": "code",
   "execution_count": null,
   "id": "51ecb873-4c08-4c95-ad9c-f5c56d5fec83",
   "metadata": {},
   "outputs": [],
   "source": []
  }
 ],
 "metadata": {
  "kernelspec": {
   "display_name": "Python 3 (ipykernel)",
   "language": "python",
   "name": "python3"
  },
  "language_info": {
   "codemirror_mode": {
    "name": "ipython",
    "version": 3
   },
   "file_extension": ".py",
   "mimetype": "text/x-python",
   "name": "python",
   "nbconvert_exporter": "python",
   "pygments_lexer": "ipython3",
   "version": "3.12.7"
  }
 },
 "nbformat": 4,
 "nbformat_minor": 5
}
