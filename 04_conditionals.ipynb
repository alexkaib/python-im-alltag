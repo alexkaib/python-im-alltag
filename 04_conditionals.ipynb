{
 "cells": [
  {
   "cell_type": "markdown",
   "id": "01c837c0-eef2-4a4c-9e41-4191b3067c22",
   "metadata": {},
   "source": [
    "# Teil 4: Bedingungen"
   ]
  },
  {
   "cell_type": "markdown",
   "id": "70b821f2-45fe-4912-bf7c-ed8739d6034c",
   "metadata": {},
   "source": [
    "**Bedingungen** modellieren Entscheidungen in einem Programm. Je nachdem, ob ein bestimmter Ausdruck **wahr** oder **falsch** ist, wird ein bestimmter Abschnitt des Programms (ein **Code-Block**) ausgeführt oder übersprungen. Dadurch können **Verzweigungen** in ein Programm eingebaut werden, so dass auf verschiedene Situationen unterschiedlich reagiert werden kann."
   ]
  },
  {
   "cell_type": "markdown",
   "id": "d2295bd0-b6d2-4900-970e-7ebe0a74cca9",
   "metadata": {
    "jp-MarkdownHeadingCollapsed": true
   },
   "source": [
    "## 4.1 Bedingte Anweisungen"
   ]
  },
  {
   "cell_type": "markdown",
   "id": "9728e1ec-0486-4cc6-b1f0-0ce96ab92e81",
   "metadata": {},
   "source": [
    "Die grundlegende **Bedingungsanweisung** besteht aus dem Schlüsselwort `if`, einem als wahr oder falsch bewerteten `Ausdruck` und einem Doppelpunkt `:`. \n",
    "\n",
    "Danach folgt **eingerückt** (mit der Tabulatortaste `↹`, links über Umschalt) ein Code-Block, der nur ausgeführt wird, wenn der Ausdruck wahr ist. \n",
    "\n",
    "Der Ausdruck nach `if`, dessen Wahrheitswert bestimmt wird, ist die eigentliche **Bedingung**. Der eingerückte Code-Block ist die **bedingte Anweisung**."
   ]
  },
  {
   "cell_type": "code",
   "execution_count": null,
   "id": "bdd00750-afa3-43c4-b4c6-c06b4875840e",
   "metadata": {},
   "outputs": [],
   "source": [
    "is_raining = True\n",
    "\n",
    "# Die Bedingung: Wenn es regnet...\n",
    "if is_raining:\n",
    "    # Die bedingte Anweisung: ... dann erinnere mich an den Regenschirm.\n",
    "    print(\"Vergiss nicht deinen Regenschirm.\")"
   ]
  },
  {
   "cell_type": "code",
   "execution_count": null,
   "id": "87855149-7e33-4956-91ec-cda5d179e62d",
   "metadata": {},
   "outputs": [],
   "source": [
    "# Noch ein Beispiel\n",
    "\n",
    "if 1 + 1 == 2:\n",
    "    print(\"Alles gut, Mathe funktioniert noch.\")"
   ]
  },
  {
   "cell_type": "markdown",
   "id": "19ddcd25-d86d-42d2-b86e-9ca9818976e4",
   "metadata": {},
   "source": [
    "### 🛠️Übung: Bedingungen\n",
    "Vervollständige den untenstehenden Code so, dass geprüft wird, ob das vom User eingegebene Passwort mit dem gesetzten Passwort übereinstimmt. Wenn das der Fall ist, soll die Nachricht \"Authentifizierung erfolgreich\" ausgegeben werden."
   ]
  },
  {
   "cell_type": "code",
   "execution_count": null,
   "id": "a75e23d6-3f9c-4dfc-a9c3-588094789319",
   "metadata": {},
   "outputs": [],
   "source": [
    "# Variablen für die Aufgabe\n",
    "password = \"swordfish\"\n",
    "user_password = input(\"Wie lautet das Password? \")\n",
    "\n",
    "# Füge hier deinen Code ein\n"
   ]
  },
  {
   "cell_type": "code",
   "execution_count": null,
   "id": "0ce8b4c4-769d-4075-8e12-e27e210fdcae",
   "metadata": {},
   "outputs": [],
   "source": []
  }
 ],
 "metadata": {
  "kernelspec": {
   "display_name": "Python 3 (ipykernel)",
   "language": "python",
   "name": "python3"
  },
  "language_info": {
   "codemirror_mode": {
    "name": "ipython",
    "version": 3
   },
   "file_extension": ".py",
   "mimetype": "text/x-python",
   "name": "python",
   "nbconvert_exporter": "python",
   "pygments_lexer": "ipython3",
   "version": "3.12.7"
  }
 },
 "nbformat": 4,
 "nbformat_minor": 5
}
