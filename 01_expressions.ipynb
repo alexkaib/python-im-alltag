{
 "cells": [
  {
   "cell_type": "code",
   "execution_count": null,
   "metadata": {},
   "outputs": [],
   "source": []
  },
  {
   "cell_type": "markdown",
   "metadata": {},
   "source": [
    "# Ausdrücke\n",
    "Teile eines Programms, die einen **Wert** ergeben."
   ]
  },
  {
   "cell_type": "markdown",
   "metadata": {},
   "source": [
    "## Literale\n",
    "Ein Ausdruck, der seinem Wert entspricht."
   ]
  },
  {
   "cell_type": "code",
   "execution_count": 2,
   "metadata": {},
   "outputs": [
    {
     "data": {
      "text/plain": [
       "'Hallo'"
      ]
     },
     "execution_count": 2,
     "metadata": {},
     "output_type": "execute_result"
    }
   ],
   "source": [
    "# Ein paar Beispiele\n",
    "\n",
    "42 # Die Zahl 42\n",
    "3.14 # Die Zahl 3.14\n",
    "\"Hallo\" # Das Wort Hallo"
   ]
  },
  {
   "cell_type": "markdown",
   "collapsed": true,
   "editable": false,
   "metadata": {
    "collapsed": true,
    "editable": false
   },
   "source": [
    "## Datentypen\n",
    "Jeder Wert gehört zu einem **Datentyp**. Der Datentyp bestimmt, was mit dem Wert im Programm gemacht werden kann."
   ]
  },
  {
   "cell_type": "code",
   "execution_count": 6,
   "metadata": {},
   "outputs": [
    {
     "data": {
      "text/plain": [
       "int"
      ]
     },
     "execution_count": 6,
     "metadata": {},
     "output_type": "execute_result"
    }
   ],
   "source": [
    "# Der Datentyp eines Werts lässt sich mit dem Befehl type() herausfinden\n",
    "\n",
    "type(42)"
   ]
  },
  {
   "cell_type": "markdown",
   "metadata": {},
   "source": [
    "### Aufgabe: Datentyp bestimmen\n",
    "Finde heraus, welchen Datentyp die folgenden Literale besitzen!"
   ]
  },
  {
   "cell_type": "markdown",
   "metadata": {},
   "source": [
    "```python\n",
    "7.77\n",
    "777\n",
    "\"A\"\n",
    "True\n",
    "0.0\n",
    "\"Wie geht's dir?\"\n",
    "-3\n",
    "```"
   ]
  },
  {
   "cell_type": "code",
   "execution_count": 11,
   "metadata": {},
   "outputs": [],
   "source": [
    "# Doppel-Klick auf diesen Text, um die Aufgabe in diesem Feld zu bearbeiten\n",
    "\n"
   ]
  },
  {
   "cell_type": "markdown",
   "metadata": {},
   "source": [
    "### Integer\n",
    "Ganze Zahlen sind gehören zum Datentyp **int**, was für den englischen Begriff \"integer\" (ganze Zahl) steht."
   ]
  },
  {
   "cell_type": "code",
   "execution_count": 4,
   "metadata": {},
   "outputs": [
    {
     "data": {
      "text/plain": [
       "int"
      ]
     },
     "execution_count": 4,
     "metadata": {},
     "output_type": "execute_result"
    }
   ],
   "source": [
    "type(3)"
   ]
  },
  {
   "cell_type": "markdown",
   "metadata": {},
   "source": [
    "## Aufgabe 1\n",
    "Fülle "
   ]
  },
  {
   "cell_type": "markdown",
   "metadata": {},
   "source": []
  }
 ],
 "metadata": {
  "kernelspec": {
   "display_name": "Python 3",
   "language": "python",
   "name": "python3"
  },
  "language_info": {
   "codemirror_mode": {
    "name": "ipython",
    "version": 3
   },
   "file_extension": ".py",
   "mimetype": "text/x-python",
   "name": "python",
   "nbconvert_exporter": "python",
   "pygments_lexer": "ipython3",
   "version": "3.10.11"
  }
 },
 "nbformat": 4,
 "nbformat_minor": 2
}
