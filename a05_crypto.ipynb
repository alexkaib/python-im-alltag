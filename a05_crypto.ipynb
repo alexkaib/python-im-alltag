{
 "cells": [
  {
   "cell_type": "markdown",
   "id": "b316393d-abac-4b2a-98e7-bd4d439af52d",
   "metadata": {},
   "source": [
    "# Code-Analyse: Kryptographie\n",
    "Lese dir das folgende Programm durch und teste es aus. Fülle anschließend die untenstehende Vorlage aus."
   ]
  },
  {
   "cell_type": "markdown",
   "id": "b4738971-ed3c-4fa0-b3be-dad6bce0005f",
   "metadata": {},
   "source": [
    "## Programm"
   ]
  },
  {
   "cell_type": "code",
   "execution_count": null,
   "id": "564bdec6-2046-4c03-8c3e-a18a19b5cd4a",
   "metadata": {},
   "outputs": [],
   "source": [
    "letters = [\n",
    "    'a', 'b', 'c', 'd', 'e', 'f', 'g', 'h', 'i', 'j', 'k', 'l', 'm',\n",
    "    'n', 'o', 'p', 'q', 'r', 's', 't', 'u', 'v', 'w', 'x', 'y', 'z',\n",
    "    'ä', 'ö', 'ü', 'ß'\n",
    "]\n",
    "\n",
    "def encrypt(msg, key):\n",
    "    enc_msg = ''\n",
    "    for char in msg.lower():\n",
    "        if char not in letters:\n",
    "            enc_msg += char\n",
    "            continue\n",
    "        char_idx = letters.index(char)\n",
    "        enc_char_idx = (char_idx + key) % len(letters)\n",
    "        enc_msg += letters[enc_char_idx]\n",
    "\n",
    "    return enc_msg\n",
    "\n",
    "\n",
    "def decrypt(msg, key):\n",
    "    dec_msg = ''\n",
    "    for char in msg.lower():\n",
    "        if char not in letters:\n",
    "            dec_msg += char\n",
    "            continue\n",
    "        char_idx = letters.index(char)\n",
    "        dec_char_idx = (char_idx - key) % len(letters)\n",
    "        dec_msg += letters[dec_char_idx]\n",
    "\n",
    "    return dec_msg\n",
    "\n",
    "\n",
    "while True:\n",
    "    print(\"\"\"Wähle eine Option:\n",
    "    1. Nachricht verschlüsseln\n",
    "    2. Nachricht entschlüsseln\n",
    "    3. Programm beenden\n",
    "    \"\"\")\n",
    "    \n",
    "    user_input = input()\n",
    "\n",
    "    if user_input == '1':\n",
    "        user_msg = input(\"Wie lautet deine Nachricht: \")\n",
    "        user_key = int(input(\"Wähle eine Geheimzahl: \"))\n",
    "        \n",
    "        secret_msg = encrypt(user_msg, user_key)\n",
    "        \n",
    "        print(\"Verschlüsselte Nachricht:\")\n",
    "        print(secret_msg)\n",
    "\n",
    "    elif user_input == '2':\n",
    "        user_msg = input(\"Wie lautet die verschlüsselte Nachricht: \")\n",
    "        user_key = int(input(\"Wie lautet die Geheimzahl: \"))\n",
    "        \n",
    "        secret_msg = decrypt(user_msg, user_key)\n",
    "        \n",
    "        print(\"Verschlüsselte Nachricht:\")\n",
    "        print(secret_msg)\n",
    "\n",
    "    elif user_input == '3':\n",
    "        print(\"Programm wird beendet.\")\n",
    "        break\n",
    "\n",
    "    else:\n",
    "        print(\"Eingabe nicht erkannt.\")\n",
    "        "
   ]
  },
  {
   "cell_type": "markdown",
   "id": "231abd8b-e5ce-43ce-9b7e-870ec4d6c461",
   "metadata": {},
   "source": [
    "## Analysevorlage"
   ]
  },
  {
   "cell_type": "markdown",
   "id": "5a45712d-8d39-44e5-a33e-2936c3074511",
   "metadata": {},
   "source": [
    "### In einem Satz\n",
    "Beschreibe in einem Satz, was der **Zweck** des Programms ist."
   ]
  },
  {
   "cell_type": "markdown",
   "id": "184938bb-d844-4e82-95ab-cadc65c47544",
   "metadata": {},
   "source": [
    "\n"
   ]
  },
  {
   "cell_type": "markdown",
   "id": "af8a62f7-1e7c-4177-afa3-b43c3d9280b7",
   "metadata": {},
   "source": [
    "### Programmbestandteile\n",
    "Benenne die **Variablen** (außerhalb von Funktionen), die das Programm beinhaltet und welche Datentypen sie jeweils besitzen."
   ]
  },
  {
   "cell_type": "markdown",
   "id": "28f80e5f-66d4-40cd-bbea-b15aff97137f",
   "metadata": {},
   "source": [
    "\n",
    "\n"
   ]
  },
  {
   "cell_type": "markdown",
   "id": "921dafe5-d407-43d1-8504-8368199a0dbd",
   "metadata": {},
   "source": [
    "Benenne die **Funktionen**, die das Programm beinhaltet. Welche **Parameter** und **Rückgabewerte** besitzen die Funktionen und welche **Datentypen** sollten diese besitzen?"
   ]
  },
  {
   "cell_type": "markdown",
   "id": "ac5e8889-c5e7-44f7-a702-4fe1bd712fbf",
   "metadata": {},
   "source": [
    "\n",
    "\n"
   ]
  },
  {
   "cell_type": "markdown",
   "id": "d8c014d5-b614-4fbe-a0eb-9f7df4fe427a",
   "metadata": {},
   "source": [
    "Wo werden die Funktionen im Programm **aufgerufen**? Welche **Argumente** erhalten sie dabei?"
   ]
  },
  {
   "cell_type": "markdown",
   "id": "691a0d85-68a1-41d7-a55a-70aeea8874c2",
   "metadata": {},
   "source": [
    "\n",
    "\n"
   ]
  }
 ],
 "metadata": {
  "kernelspec": {
   "display_name": "Python 3 (ipykernel)",
   "language": "python",
   "name": "python3"
  },
  "language_info": {
   "codemirror_mode": {
    "name": "ipython",
    "version": 3
   },
   "file_extension": ".py",
   "mimetype": "text/x-python",
   "name": "python",
   "nbconvert_exporter": "python",
   "pygments_lexer": "ipython3",
   "version": "3.12.7"
  }
 },
 "nbformat": 4,
 "nbformat_minor": 5
}
