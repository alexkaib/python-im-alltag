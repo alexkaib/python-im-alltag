{
 "cells": [
  {
   "cell_type": "markdown",
   "id": "b316393d-abac-4b2a-98e7-bd4d439af52d",
   "metadata": {},
   "source": [
    "# Code-Analyse: Python-Bank\n",
    "Lese dir das folgende Programm durch und teste es aus. Fülle anschließend die untenstehende Vorlage aus."
   ]
  },
  {
   "cell_type": "markdown",
   "id": "b4738971-ed3c-4fa0-b3be-dad6bce0005f",
   "metadata": {},
   "source": [
    "## Programm"
   ]
  },
  {
   "cell_type": "code",
   "execution_count": null,
   "id": "564bdec6-2046-4c03-8c3e-a18a19b5cd4a",
   "metadata": {},
   "outputs": [],
   "source": [
    "class BankAccount:\n",
    "    def __init__(self, owner, balance=0.0):\n",
    "        self.owner = owner\n",
    "        self.balance = float(balance)\n",
    "\n",
    "    def deposit(self, amount):\n",
    "        if amount > 0:\n",
    "            self.balance += amount\n",
    "            print(f\"{amount}€ wurden eingezahlt.\")\n",
    "        else:\n",
    "            print(\"Fehler: Einzahlungsbetrag muss positiv sein.\")\n",
    "        self.show_balance()\n",
    "\n",
    "    def withdraw(self, amount):\n",
    "        if amount > self.balance:\n",
    "            print(\"Fehler: Nicht genügend Guthaben vorhanden.\")\n",
    "        elif amount <= 0:\n",
    "            print(\"Fehler: Abhebungsbetrag muss positiv sein.\")\n",
    "        else:\n",
    "            self.balance -= amount\n",
    "            print(f\"{amount}€ wurden abgehoben.\")\n",
    "        self.show_balance()\n",
    "\n",
    "    def show_balance(self):\n",
    "        print(f\"Aktueller Kontostand: {self.balance:}€\")\n",
    "\n",
    "\n",
    "print(\"Willkommen bei der Python-Bank!\")\n",
    "account_owner = input(\"Bitte geben Sie den Namen des Kontoinhabers ein: \")\n",
    "print(\"Ihr Konto wird eingerichtet...\")\n",
    "\n",
    "account = BankAccount(account_owner)\n",
    "\n",
    "print(\"Konto erfolgreich erstellt.\")\n",
    "\n",
    "while True:\n",
    "    print(f\"\"\"\n",
    "Guten Tag {account.owner}. Wählen Sie eine Option aus:\n",
    "    1. Kontostand anzeigen\n",
    "    2. Geld einzahlen\n",
    "    3. Geld abheben\n",
    "    4. Python-Bank verlassen\n",
    "    \"\"\")\n",
    "    \n",
    "    user_input = input(\"Ihre Wahl: \")\n",
    "\n",
    "    if user_input == '1':\n",
    "        account.show_balance()\n",
    "\n",
    "    elif user_input == '2':\n",
    "        try:\n",
    "            amount = float(input(\"Wie viel möchten Sie einzahlen? \"))\n",
    "            account.deposit(amount)\n",
    "        except ValueError:\n",
    "            print(\"Ungültige Eingabe. Bitte geben Sie eine Zahl ein.\")\n",
    "\n",
    "    elif user_input == '3':\n",
    "        try:\n",
    "            amount = float(input(\"Wie viel möchten Sie abheben? \"))\n",
    "            account.withdraw(amount)\n",
    "        except ValueError:\n",
    "            print(\"Ungültige Eingabe. Bitte geben Sie eine Zahl ein.\")\n",
    "\n",
    "    elif user_input == '4':\n",
    "        print(\"Vielen Dank und auf Wiedersehen!\")\n",
    "        break\n",
    "\n",
    "    else:\n",
    "        print(\"Eingabe nicht erkannt.\")"
   ]
  },
  {
   "cell_type": "markdown",
   "id": "231abd8b-e5ce-43ce-9b7e-870ec4d6c461",
   "metadata": {},
   "source": [
    "## Analysevorlage"
   ]
  },
  {
   "cell_type": "markdown",
   "id": "5a45712d-8d39-44e5-a33e-2936c3074511",
   "metadata": {},
   "source": [
    "### In einem Satz\n",
    "Beschreibe in einem Satz, was der **Zweck** des Programms ist."
   ]
  },
  {
   "cell_type": "markdown",
   "id": "184938bb-d844-4e82-95ab-cadc65c47544",
   "metadata": {},
   "source": [
    "\n"
   ]
  },
  {
   "cell_type": "markdown",
   "id": "af8a62f7-1e7c-4177-afa3-b43c3d9280b7",
   "metadata": {},
   "source": [
    "### Programmbestandteile\n",
    "Benenne die **Variablen** (außerhalb von Funktionen), die das Programm beinhaltet und welche Datentypen sie jeweils besitzen."
   ]
  },
  {
   "cell_type": "markdown",
   "id": "28f80e5f-66d4-40cd-bbea-b15aff97137f",
   "metadata": {},
   "source": [
    "\n",
    "\n"
   ]
  },
  {
   "cell_type": "markdown",
   "id": "baa69d9b-ffb3-492c-96a0-f90f51dd5e1c",
   "metadata": {},
   "source": [
    "Benenne die **Datei**, die in dem Programm geöffnet wird. Welches **Dateiformat** besitzt sie und in welchem **Modus** wird sie geöffnet?"
   ]
  },
  {
   "cell_type": "markdown",
   "id": "691a0d85-68a1-41d7-a55a-70aeea8874c2",
   "metadata": {},
   "source": [
    "\n",
    "\n"
   ]
  },
  {
   "cell_type": "markdown",
   "id": "921dafe5-d407-43d1-8504-8368199a0dbd",
   "metadata": {},
   "source": [
    "Benenne die **Funktionen**, die das Programm beinhaltet. Welche **Parameter** und **Rückgabewerte** besitzen die Funktionen und welche **Datentypen** sollten diese besitzen?"
   ]
  },
  {
   "cell_type": "markdown",
   "id": "ac5e8889-c5e7-44f7-a702-4fe1bd712fbf",
   "metadata": {},
   "source": [
    "\n",
    "\n"
   ]
  },
  {
   "cell_type": "markdown",
   "id": "d8c014d5-b614-4fbe-a0eb-9f7df4fe427a",
   "metadata": {},
   "source": [
    "Wo werden die Funktionen im Programm **aufgerufen**? Welche **Argumente** erhalten sie dabei?"
   ]
  },
  {
   "cell_type": "code",
   "execution_count": null,
   "id": "54142ce6-d7b3-4382-a65b-faef58186142",
   "metadata": {},
   "outputs": [],
   "source": [
    "\n",
    "\n"
   ]
  }
 ],
 "metadata": {
  "kernelspec": {
   "display_name": "Python 3 (ipykernel)",
   "language": "python",
   "name": "python3"
  },
  "language_info": {
   "codemirror_mode": {
    "name": "ipython",
    "version": 3
   },
   "file_extension": ".py",
   "mimetype": "text/x-python",
   "name": "python",
   "nbconvert_exporter": "python",
   "pygments_lexer": "ipython3",
   "version": "3.12.7"
  }
 },
 "nbformat": 4,
 "nbformat_minor": 5
}
