{
 "cells": [
  {
   "cell_type": "markdown",
   "id": "58dcdc39-5da6-460a-9df1-424660e5252b",
   "metadata": {},
   "source": [
    "# Teil 13: Objektorientierte Programmierung\n",
    "Bisher haben wir Daten (in Variablen) und Verhalten (in Funktionen) getrennt voneinander betrachtet. **Objektorientierte Programmierung (OOP)** ist ein Programmierstil, der es uns erlaubt, zusammengehörige Daten und Funktionen in sogenannten **Objekten** zu bündeln. Objekte modellieren dabei oft reale Gegenstände (z.B. ein Handy), deren Eigenschaften (z.B. die Farbe und Telefonnummer des Handys) und Fähigkeiten (z.B. anrufen und klingeln) sie durch **Attribute** und **Methoden** abbilden.\n",
    "\n",
    "Im Kontext dieses Kurses ist OOP vor allem wichtig, weil viele **Pakete** in Python in diesem Stil programmiert sind. Auch wenn wir selten eigene objektorientierte Programme schreiben werden, ist ein Grundverständnis für den Umgang mit importiertem Code sehr nützlich."
   ]
  },
  {
   "cell_type": "markdown",
   "id": "7112811e-ed1a-4435-8362-54ca800496aa",
   "metadata": {
    "jp-MarkdownHeadingCollapsed": true
   },
   "source": [
    "## 13.1 Klassen und Objekte"
   ]
  },
  {
   "cell_type": "markdown",
   "id": "1b543a39-6888-46ce-9d24-b0a98631b40e",
   "metadata": {},
   "source": [
    "Um ein **Objekt** zu erstellen, muss zuerst die **Klasse** definiert werden, zu der das Objekt gehört. Eine Klasse kann man sich als abstrakte Kategorie vorstellen, die als Blaupause für konkrete Gegenstände dient.\n",
    "\n",
    "Eine Klasse wird mit dem Schlüsselwort `class` definiert, gefolgt von einem frei wählbaren Namen (per Konvention großgeschrieben) und einem Doppelpunkt `:` und eingerücktem **Code-Block**."
   ]
  },
  {
   "cell_type": "code",
   "execution_count": null,
   "id": "b893c13c-b2bc-42d4-ad8f-230adde7f853",
   "metadata": {},
   "outputs": [],
   "source": [
    "# Beispiel: Eine leere Klasse, die Handys modelliert\n",
    "class Phone:\n",
    "    pass # Platzhalter"
   ]
  },
  {
   "cell_type": "markdown",
   "id": "4aacabff-e457-420b-aa2b-3cce8615716a",
   "metadata": {},
   "source": [
    "Um aus einer Klasse ein Objekt zu erhalten (***instanziieren***), wird die Klasse wie eine Funktion aufgerufen. Das so erzeugte Objekt wird in der Regel einer Variable zugewiesen."
   ]
  },
  {
   "cell_type": "code",
   "execution_count": null,
   "id": "d832c92d-34cb-47de-95d9-34068eef287e",
   "metadata": {},
   "outputs": [],
   "source": [
    "# Ein Objekt der Klasse \"Phone\" wird der Variable \"phone1\" zugeschrieben\n",
    "phone1 = Phone()\n",
    "# Ein weiteres Objekt der Klasse \"Phone\" wird der Variable \"phone2\" zugeschrieben\n",
    "phone2 = Phone()\n",
    "\n",
    "# Wichtig: Es handelt sich um zwei verschiedene Objekte\n",
    "print(phone1 == phone2)"
   ]
  },
  {
   "cell_type": "markdown",
   "id": "f7086411-08ae-474f-8907-b2f1e58c29c1",
   "metadata": {},
   "source": [
    "### 🧪 Experiment: Ein klasse Hund"
   ]
  },
  {
   "cell_type": "markdown",
   "id": "97531ad8-dea8-4db0-b416-4b71f12dffda",
   "metadata": {},
   "source": [
    "Überprüfe, ob es sich bei `dog1` und `dog2` um zwei verschiedene Objekte handelt. Kannst du das Ergebnis erklären?"
   ]
  },
  {
   "cell_type": "code",
   "execution_count": null,
   "id": "82dde317-98bc-4c06-b549-324650d5ba19",
   "metadata": {},
   "outputs": [],
   "source": [
    "class Dog:\n",
    "    pass\n",
    "\n",
    "dog1 = Dog()\n",
    "dog2 = dog1\n",
    "\n",
    "# Handelt es sich um zwei verschiedene Objekte?\n",
    "print(dog1 == dog2)"
   ]
  },
  {
   "cell_type": "markdown",
   "id": "f463e406-8e75-4fdd-999e-9e1c52db5c78",
   "metadata": {
    "jp-MarkdownHeadingCollapsed": true
   },
   "source": [
    "## 13.2 Attribute: Eigenschaften von Objekten"
   ]
  },
  {
   "cell_type": "markdown",
   "id": "51d32018-3b59-4e85-ae3c-ea67f6066120",
   "metadata": {},
   "source": [
    "Eine Klasse kann **Attribute** definieren, die alle Objekte der Klasse besitzen. Unterschiedliche Objekte können für diese Attribute unterschiedliche Werte erhalten - Handys besitzen zum Beispiel alle das Attribut \"Farbe\", allerdings sind manche Handys schwarz, rot, weiß, etc.. In dieser Hinsicht ähneln Objekte standardisierten **Dictionaries**, die alle dieselben Schlüssel besitzen.\n",
    "\n",
    "Attribute werden meistens im **Konstruktor** einer Klasse definiert: Eine spezielle Funktion, die beim Erstellen eines Objekts aufgerufen wird. Der Name der Funktion ist immer `__init__` und besitzt als ersten Parameter einen Verweis auf das zu instanziierende Objekt (`self`) und beliebig viele weitere Parameter, die bei der Instanziierung als Argumente übergeben werden."
   ]
  },
  {
   "cell_type": "code",
   "execution_count": null,
   "id": "49e4376f-7625-4580-891d-87008af150e8",
   "metadata": {},
   "outputs": [],
   "source": [
    "# Eine Klasse mit einem Konstruktor\n",
    "class Phone:\n",
    "    # Der Konstruktor erhält beim Aufrufen die Objektinstanz (self) und einen Wert für den Parameter (color)\n",
    "    def __init__(self, color):\n",
    "        # Hier wird auf das Attribut \"color\" der Objektinstanz zugegriffen, so dass dort der Wert des Parameters gespeichert wird\n",
    "        self.color = color\n",
    "        # Im Konstruktor können außerdem Attribute mit Standardwerten definiert werden\n",
    "        self.pin = \"0000\"\n",
    "        "
   ]
  },
  {
   "cell_type": "code",
   "execution_count": null,
   "id": "cae7e597-d186-456d-9566-d03464faaee3",
   "metadata": {},
   "outputs": [],
   "source": [
    "phone1 = Phone(\"grün\")\n",
    "phone2 = Phone(\"schwarz\")"
   ]
  },
  {
   "cell_type": "markdown",
   "id": "df002184-db8d-4e34-a4e2-1664dca89128",
   "metadata": {},
   "source": [
    "Um auf die Attribute eines Objekts **zuzugreifen**, wird ein Punkt `.` und der Attributname verwendet."
   ]
  },
  {
   "cell_type": "code",
   "execution_count": null,
   "id": "e9f9e46a-c007-4ed9-b0f8-6d6222f12f40",
   "metadata": {},
   "outputs": [],
   "source": [
    "# Gebe das Attribut \"color\" des Objekts \"phone1\" der Klasse \"Phone\" aus\n",
    "print(phone1.color)\n",
    "\n",
    "# Gebe das Attribut \"pin\" des Objekts \"phone2\" der Klasse \"Phone\" aus\n",
    "print(phone2.pin)"
   ]
  },
  {
   "cell_type": "markdown",
   "id": "8eed5bbf-0ef3-4c45-8580-95c4eb01526c",
   "metadata": {},
   "source": [
    "Wie Variablen können Attribute auch **überschrieben** werden:"
   ]
  },
  {
   "cell_type": "code",
   "execution_count": null,
   "id": "4f774569-4c67-4828-bf00-b3301601f75d",
   "metadata": {},
   "outputs": [],
   "source": [
    "print(\"Pin von phone1: \" + phone1.pin)\n",
    "print(\"Pin von phone2: \" + phone2.pin)\n",
    "\n",
    "# Ändere das Attribut \"pin\" des Objekts \"phone1\"\n",
    "phone1.pin = \"1234\"\n",
    "\n",
    "# Wichtig: Es ändert sich nur das Attribut des Objekts, auf das zugegriffen wurde!\n",
    "print(\"Pin von phone1: \" + phone1.pin)\n",
    "print(\"Pin von phone2: \" + phone2.pin)"
   ]
  },
  {
   "cell_type": "markdown",
   "id": "15b397af-a0f0-40c0-af8b-62e65e9d7331",
   "metadata": {},
   "source": [
    "### 🛠️ Übung: Dictionary als Klasse"
   ]
  },
  {
   "cell_type": "markdown",
   "id": "cb2333db-3a3e-41a3-8692-d2387b5ace6e",
   "metadata": {},
   "source": [
    "Definiere eine Klasse `Dog`, die als Attribute die Schlüssel des folgenden Dictionary besitzt:\n",
    "```python\n",
    "dog = {\n",
    "    'name': 'Bello',\n",
    "    'age': 4\n",
    "}\n",
    "```\n",
    "Erzeuge anschließend ein Objekt der Klasse `Dog`, das die Werte des Dictionary besitzt."
   ]
  },
  {
   "cell_type": "code",
   "execution_count": null,
   "id": "931608f3-e139-43f4-813f-7975d5fc56f6",
   "metadata": {},
   "outputs": [],
   "source": [
    "# Platz für die Aufgabe\n",
    "\n",
    "\n"
   ]
  },
  {
   "cell_type": "markdown",
   "id": "dfd154b0-4728-4f3a-abab-7699186772ad",
   "metadata": {
    "jp-MarkdownHeadingCollapsed": true
   },
   "source": [
    "## 13.3 Methoden: Verhalten von Objekten"
   ]
  },
  {
   "cell_type": "markdown",
   "id": "9ea55ffa-050b-49a2-8dc4-4406d3fa1eee",
   "metadata": {},
   "source": [
    "Eine Klasse kann **Methoden** definieren, die alle Objekte der Klasse ausführen können. Sie werden wie **Funktionen** innerhalb der Klasse definiert, aber besitzen als ersten Parameter immer einen Verweis auf das Objekt, das die Methode aufruft (per Konvention `self` genannt). Dieser Parameter erlaubt es, auf die Attribute und Methoden des Objekts zuzugreifen."
   ]
  },
  {
   "cell_type": "code",
   "execution_count": null,
   "id": "9365ecdb-b36a-44db-9d47-c05eb42bbf80",
   "metadata": {},
   "outputs": [],
   "source": [
    "class Phone:\n",
    "    # Der Konstruktor ist auch eine Methode\n",
    "    def __init__(self, name, number):\n",
    "        self.name = name\n",
    "        self.number = number\n",
    "\n",
    "    # Definition der 'ring'-Methode, die auf das 'name'-Attribut des aufrufenden Objekts zugreift\n",
    "    def ring(self):\n",
    "        print(f\"{self.name} klingelt!\")\n"
   ]
  },
  {
   "cell_type": "markdown",
   "id": "7e5dc85f-0854-4f33-a63d-d50e06ff4b65",
   "metadata": {},
   "source": [
    "Beim Aufrufen einer Methode wird ebenfalls ein Punkt `.` verwendet. Der `self`-Parameter wird allerdings nicht als Argument übergeben!"
   ]
  },
  {
   "cell_type": "code",
   "execution_count": null,
   "id": "60d9f2ec-f902-4b19-88b0-424c754c165e",
   "metadata": {},
   "outputs": [],
   "source": [
    "my_phone = Phone(\"Alex' iPhone\", 12345678)\n",
    "\n",
    "my_phone.ring()"
   ]
  },
  {
   "cell_type": "markdown",
   "id": "19c88535-ed3a-4c3e-b7bb-b805dde54cab",
   "metadata": {},
   "source": [
    "### 🛠️ Übung: Bello bellt"
   ]
  },
  {
   "cell_type": "markdown",
   "id": "07c5353e-d9df-4c98-9f3b-93dc30b8adfa",
   "metadata": {},
   "source": [
    "Ergänze die Klasse `Dog` aus der vorherigen Übung um eine Methode `bark`, die den String \"X bellt\" ausgibt, wobei X durch den Namen des Hunds ersetzt wird. Erzeuge anschließend ein `Dog`-Objekt mit beliebigen Attributen und rufe seine `bark`-Methode auf."
   ]
  },
  {
   "cell_type": "code",
   "execution_count": null,
   "id": "90889a88-0dda-4e11-9b5f-4e4cb990ae6a",
   "metadata": {},
   "outputs": [],
   "source": [
    "# Platz für die Aufgabe\n",
    "\n",
    "\n"
   ]
  },
  {
   "cell_type": "markdown",
   "id": "c75038c9-d168-4d4f-97a0-4eed87773392",
   "metadata": {
    "jp-MarkdownHeadingCollapsed": true
   },
   "source": [
    "## 13.4 Objekte als Parameter"
   ]
  },
  {
   "cell_type": "markdown",
   "id": "18e0b6c3-2c3d-48b6-a8e6-2651d51b68de",
   "metadata": {},
   "source": [
    "Objekte können wie andere Ausdrücke an Funktionen übergeben werden, damit innerhalb der Funktion auf die Attribute und Methoden des Objekts zugegriffen werden kann. Das erlaubt komplexe Zusammenspiele von Objekten, die reale Interaktionen modellieren."
   ]
  },
  {
   "cell_type": "code",
   "execution_count": null,
   "id": "888f4160-a23a-42d9-928d-84b7785bc33c",
   "metadata": {},
   "outputs": [],
   "source": [
    "class Dog:\n",
    "    def __init__(self, name):\n",
    "        self.name = name\n",
    "\n",
    "    def bark_at(self, other_dog):\n",
    "        print(f\"{self.name} bellt {other_dog.name} an.\")\n",
    "\n",
    "\n",
    "bello = Dog(\"Bello\")\n",
    "bento = Dog(\"Bento\")\n",
    "\n",
    "bello.bark_at(bento)"
   ]
  },
  {
   "cell_type": "markdown",
   "id": "31fa213b-2e30-4bd2-b71b-aecc766483a8",
   "metadata": {},
   "source": [
    "### 🐞 Bug Hunt: Telefonieren\n",
    "Der folgende Code beinhaltet mehrere Fehler. Analysiere zunächst, was überhaupt erreicht werden soll. Verbessere den Code anschließend anhnand der Fehlermeldungen."
   ]
  },
  {
   "cell_type": "code",
   "execution_count": null,
   "id": "df05f6f8-2332-4813-ab5f-8b687b885413",
   "metadata": {},
   "outputs": [],
   "source": [
    "class Phone:\n",
    "    def __init__(self, name, number):\n",
    "        self.name = name\n",
    "        self.number = number\n",
    "        self.call_list = []\n",
    "\n",
    "    def ring():\n",
    "        print(f\"{self.name} klingelt!\")\n",
    "\n",
    "    def call(self, other_phone):\n",
    "        print(f\"Rufe {other_phone.name} an...\")\n",
    "        self.call_list.append(other_phone.number)\n",
    "        other_phone.call_list.append(number)\n",
    "        other_phone.ring()\n",
    "\n",
    "annas_phone = Phone(self, \"Annas iPhone\", \"87654321\")\n",
    "berthas_phone = Phone(self, \"Berthas Samsung Galaxy\", \"77788822\")\n",
    "\n",
    "annas_phone.call(\"Berthas Samsung Galaxy\")"
   ]
  }
 ],
 "metadata": {
  "kernelspec": {
   "display_name": "Python 3 (ipykernel)",
   "language": "python",
   "name": "python3"
  },
  "language_info": {
   "codemirror_mode": {
    "name": "ipython",
    "version": 3
   },
   "file_extension": ".py",
   "mimetype": "text/x-python",
   "name": "python",
   "nbconvert_exporter": "python",
   "pygments_lexer": "ipython3",
   "version": "3.12.7"
  }
 },
 "nbformat": 4,
 "nbformat_minor": 5
}
