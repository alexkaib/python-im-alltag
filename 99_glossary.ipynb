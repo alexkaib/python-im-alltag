{
 "cells": [
  {
   "cell_type": "markdown",
   "metadata": {},
   "source": [
    "# Glossar"
   ]
  },
  {
   "cell_type": "markdown",
   "metadata": {},
   "source": [
    "### 👉**Anweisung**\n",
    "Die elementaren Bausteine eines Programms, die dem Computer sagen, was er tun soll.\n",
    "### 👉**Ausdruck**\n",
    "Die Teile eines Programms, die einen **Wert** ergeben. Ausdrücke sind oft Teile einer **Anweisung** und können durch **Operationen** zu komplexen Ausdrücken zusammengesetzt werden.\n",
    "### 👉**Code** (auch **Qelltext**)\n",
    "Der Text, aus dem unsere Programme bestehen. Er ist für uns (mit ein bisschen Übung) gut lesbar, anders als **Maschinensprache**.\n",
    "### 👉**Datentyp**\n",
    "Eine Art Informationskategorie, in die sich Ausdrücke einordnen lassen. Der Datentyp entscheidet, wie ein Ausdruck im Programm (nicht) eingesetzt werden kann.\n",
    "### 👉**Maschinensprache**\n",
    "Die Übersetzung unseres Codes in eine Abfolge von 0 und 1, die ein Computer verarbeiten kann.\n",
    "### 👉**Operation / Operator / Operand**\n",
    "Ein Operator wie `+`, `-` oder `>` setzt einzelne Ausdrücke (die **Operanden**) zu einem neuen, **komplexen** Ausdruck zusammen. Der Datentyp des neuen Ausdrucks hängt von der Operation und den Operanden ab.\n",
    "### 👉**Programm**\n",
    "Eine aus **Code** bestehende Abfolge von **Anweisungen**. Ein Programm kann **ausgeführt** werden, was bedeutet, dass der Code in **Maschinensprache** übersetzt und von einem Computer verarbeitet wird.\n",
    "### 👉**Syntax**\n",
    "Die Regeln, nach denen die Elemente einer Programmiersprache zusammengesetzt werden, analog zur Grammatik einer natürlichen Sprache. Diese Regeln sind sehr streng: Schon minimale Abweichungen, z.B. ein Leerzeichen an einer falschen Stelle, können dazu führen, dass Programme nicht mehr funktionieren.\n",
    "### 👉**Wert**\n",
    "Eine im Computer gespeicherte Information; die Bedeutung eines **Ausdrucks**."
   ]
  }
 ],
 "metadata": {
  "language_info": {
   "name": "python"
  }
 },
 "nbformat": 4,
 "nbformat_minor": 2
}
