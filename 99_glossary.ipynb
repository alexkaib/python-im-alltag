{
 "cells": [
  {
   "cell_type": "markdown",
   "metadata": {},
   "source": [
    "# Glossar"
   ]
  },
  {
   "cell_type": "markdown",
   "metadata": {},
   "source": [
    "### 👉**Anweisung**\n",
    "Die elementaren Bausteine eines Programms, die dem Computer sagen, was er tun soll.\n",
    "### 👉**Ausdruck**\n",
    "Die Teile eines Programms, die einen **Wert** ergeben. Ausdrücke sind oft Teile einer **Anweisung** und können durch **Operationen** zu komplexen Ausdrücken zusammengesetzt werden.\n",
    "### 👉**Code** (auch **Quelltext**)\n",
    "Der Text, aus dem unsere Programme bestehen. Er ist für uns (mit ein bisschen Übung) gut lesbar, anders als **Maschinensprache**.\n",
    "### 👉**Code-Block**\n",
    "Ein Abschnitt eines **Quelltextes**, der eine zusammenhängende Einheit bildet. In Python werden Code-Blöcke mit der Tabulatortaste (`↹`) **eingerückt**.\n",
    "### 👉**Datentyp**\n",
    "Eine Art Informationskategorie, in die sich Ausdrücke einordnen lassen. Der Datentyp entscheidet, wie ein Ausdruck im Programm (nicht) eingesetzt werden kann.\n",
    "### 👉**Datenstruktur**\n",
    "Eine Sammlung von Informationen, die einzelne Informationselemente systematisch anordnet. In Python sind **Listen** und **Dictionaries** die zwei wichtigsten Datenstrukturen.\n",
    "### 👉**Funktion**\n",
    "Ein Abschnitt **Code**, der durch das **Aufrufen** der Funktion wiederholt und mit verschiedenen **Argumenten** ausgeführt werden kann. Kann einen **Rückgabewert** erzeugen.\n",
    "### 👉**Maschinensprache**\n",
    "Die Übersetzung unseres Codes in eine Abfolge von 0 und 1, die ein Computer verarbeiten kann.\n",
    "### 👉**Methoden**\n",
    "Eine vordefinierte **Funktion**, die auf einem **Ausdruck** ausgeführt wird.\n",
    "### 👉**Operation / Operator / Operand**\n",
    "Ein Operator wie `+`, `-` oder `>` setzt einzelne Ausdrücke (die **Operanden**) zu einem neuen, **komplexen** Ausdruck zusammen. Der Datentyp des neuen Ausdrucks hängt von der Operation und den Operanden ab.\n",
    "### 👉**Programm**\n",
    "Eine aus **Code** bestehende Abfolge von **Anweisungen**. Ein Programm kann **ausgeführt** werden, was bedeutet, dass der Code in **Maschinensprache** übersetzt und von einem Computer verarbeitet wird.\n",
    "### 👉**Syntax**\n",
    "Die Regeln, nach denen die Elemente einer Programmiersprache zusammengesetzt werden, analog zur Grammatik einer natürlichen Sprache. Diese Regeln sind sehr streng: Schon minimale Abweichungen, z.B. ein Leerzeichen an einer falschen Stelle, können dazu führen, dass Programme nicht mehr funktionieren.\n",
    "### 👉**Variable**\n",
    "Ein **Name** für einen **Wert**, um ihn an einer anderen Stelle im **Code** zu verwenden.\n",
    "### 👉**Wert**\n",
    "Eine im Computer gespeicherte Information eines bestimmten **Datentyps**; die Bedeutung eines **Ausdrucks**."
   ]
  },
  {
   "cell_type": "code",
   "execution_count": null,
   "metadata": {},
   "outputs": [],
   "source": []
  }
 ],
 "metadata": {
  "kernelspec": {
   "display_name": "Python 3 (ipykernel)",
   "language": "python",
   "name": "python3"
  },
  "language_info": {
   "codemirror_mode": {
    "name": "ipython",
    "version": 3
   },
   "file_extension": ".py",
   "mimetype": "text/x-python",
   "name": "python",
   "nbconvert_exporter": "python",
   "pygments_lexer": "ipython3",
   "version": "3.12.7"
  }
 },
 "nbformat": 4,
 "nbformat_minor": 4
}
