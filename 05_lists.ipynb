{
 "cells": [
  {
   "cell_type": "markdown",
   "id": "ab662159-2158-41a4-8aa8-195d9dabe502",
   "metadata": {},
   "source": [
    "# Teil 5: Listen\n",
    "Bisher haben wir mit Datentypen zu tun gehabt, die einzelne Werte repräsentieren. **Listen** sind der erste wichtige Datentyp, der andere Datentypen bzw. Werte enthält. Listen zeichnen sich dadurch aus, dass sie **beliebig viele, veränderbare Elemente** enthalten können, die in einer bestimmten **Reihenfolge** gespeichert sind."
   ]
  },
  {
   "cell_type": "markdown",
   "id": "147a0ee1-7952-445d-87ad-851801337a70",
   "metadata": {},
   "source": [
    "## 5.1 Listen-Literale"
   ]
  },
  {
   "cell_type": "markdown",
   "id": "636d99aa-60b5-455a-8193-fb09bdbe85ad",
   "metadata": {},
   "source": [
    "Listen werden mit **eckigen Klammern** `[...]` geschrieben. Die enthaltenen Elemente werden mit Kommas `,` getrennt."
   ]
  },
  {
   "cell_type": "code",
   "execution_count": 8,
   "id": "414df3c7-d253-4f62-82c2-e4d1007e4cf2",
   "metadata": {},
   "outputs": [
    {
     "data": {
      "text/plain": [
       "[99, 'Luftballons', 3.5]"
      ]
     },
     "execution_count": 8,
     "metadata": {},
     "output_type": "execute_result"
    }
   ],
   "source": [
    "# Eine Liste mit ein paar Zahlen\n",
    "[5, 7, 1, 42]\n",
    "\n",
    "# Eine Liste mit Strings\n",
    "[\"Wie\", \"geht\", \"es\", \"dir\"]\n",
    "\n",
    "# Eine gemischte Liste\n",
    "[99, \"Luftballons\", 3.5]"
   ]
  },
  {
   "cell_type": "markdown",
   "id": "8d11bf58-228d-4125-bb21-aff519ad266b",
   "metadata": {},
   "source": [
    "### 🧪Experiment: Falsche Liste\n",
    "Es gibt in Python genau eine Liste, die in Bedingungen und bei der Konvertierung mit `bool()` dem Wahrheitswert `False` entspricht. Kannst du erraten, welche das ist?"
   ]
  },
  {
   "cell_type": "code",
   "execution_count": 11,
   "id": "ba1158c1-620d-47ac-b8c1-37fa84ec521b",
   "metadata": {},
   "outputs": [],
   "source": [
    "# Klicke auf das Feld, um die Aufgabe zu bearbeiten\n",
    "\n"
   ]
  },
  {
   "cell_type": "markdown",
   "id": "1c126733-c4c6-40be-86a6-32c8abdf6855",
   "metadata": {},
   "source": [
    "## 5.2 Index - auf Elemente zugreifen"
   ]
  },
  {
   "cell_type": "markdown",
   "id": "ae3a17e3-fcda-43b1-86bd-e2b514fefb1a",
   "metadata": {},
   "source": [
    "Listen speichern Elemente in einer bestimmten **Reihenfolge**. Um auf Elemente zuzugreifen, müssen wir ihre **Position** in dieser Reihenfolge angeben, was auch als **Index** bezeichnet wird.\n",
    "\n",
    "Aus "
   ]
  },
  {
   "cell_type": "markdown",
   "id": "1364c378-d507-4bfd-92ca-b510ba9c588a",
   "metadata": {},
   "source": [
    "## 5.X Listen erzeugen"
   ]
  },
  {
   "cell_type": "code",
   "execution_count": 6,
   "id": "dfc2d15c-f6cd-45b2-8549-1c49ab36f948",
   "metadata": {},
   "outputs": [],
   "source": [
    "# range()\n",
    "\n",
    "# String split\n",
    "\n",
    "# list()\n"
   ]
  },
  {
   "cell_type": "code",
   "execution_count": null,
   "id": "1d26b903-8024-455d-a093-49a0e6981ca5",
   "metadata": {},
   "outputs": [],
   "source": []
  }
 ],
 "metadata": {
  "kernelspec": {
   "display_name": "Python 3 (ipykernel)",
   "language": "python",
   "name": "python3"
  },
  "language_info": {
   "codemirror_mode": {
    "name": "ipython",
    "version": 3
   },
   "file_extension": ".py",
   "mimetype": "text/x-python",
   "name": "python",
   "nbconvert_exporter": "python",
   "pygments_lexer": "ipython3",
   "version": "3.12.7"
  }
 },
 "nbformat": 4,
 "nbformat_minor": 5
}
