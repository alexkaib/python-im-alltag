{
 "cells": [
  {
   "cell_type": "markdown",
   "id": "4b3f1738-f645-4b09-80e4-94a1ef8ef4f7",
   "metadata": {},
   "source": [
    "# Teil 9: Funktionen\n",
    "Man kann sich **Funktionen** als Mini-Programme vorstellen, die eine wiederkehrende Teilaufgabe innerhalb eines Programms erledigen. Indem mehrere Funktionen kleine Aufgaben erfüllen, kann auch eine komplexe Aufgabe überschaubar bleiben."
   ]
  },
  {
   "cell_type": "markdown",
   "id": "3532bbc7-08f8-481f-9fad-3bd1ddf64ccf",
   "metadata": {},
   "source": [
    "## 9.1 Funktionen definieren und aufrufen"
   ]
  },
  {
   "cell_type": "markdown",
   "id": "44d7312d-e212-46c2-b913-2428bbe9847a",
   "metadata": {},
   "source": [
    "Jede Python-Funktion beginnt mit dem `def` Schlüsselwort, gefolgt von dem frei wählbaren **Namen** der Funktion und direkt danach - ohne Leerzeichen - die **Parameter** der Funktion in Klammern. Abschließend kommt wie immer ein Doppelpunkt `:`.\n",
    "```python\n",
    "def function_name(parameter1, parameter2):\n",
    "    ...\n",
    "```\n",
    "Um Parameter kümmern wir uns im nächsten Abschnitt und schauen uns hier zunächst den einfachsten Fall an, in dem eine Funktion keine Parameter besitzt (dafür braucht man trotzdem Klammern, es steht nur nichts dazwischen)."
   ]
  },
  {
   "cell_type": "code",
   "execution_count": 1,
   "id": "1d4549c2-a5de-4b6b-9050-a952c9b029c6",
   "metadata": {},
   "outputs": [],
   "source": [
    "# Beispiel: Eine Funktion, die eine Speisekarte anzeigt\n",
    "def show_menu():\n",
    "    print(\"1. Salat\")\n",
    "    print(\"2. Suppe\")\n",
    "    print(\"3. Burger\")\n",
    "    print(\"4. Kuchen\")"
   ]
  },
  {
   "cell_type": "markdown",
   "id": "49b00d86-c3bf-4630-9458-6b7315cabaf4",
   "metadata": {},
   "source": [
    "Um eine Funktion zu benutzen, muss man sie **aufrufen**. Dazu gibt man ihren Namen, gefolgt von Klammern ein:"
   ]
  },
  {
   "cell_type": "code",
   "execution_count": 2,
   "id": "77b11c42-aa31-464a-aa69-ec2581649669",
   "metadata": {},
   "outputs": [
    {
     "name": "stdout",
     "output_type": "stream",
     "text": [
      "1. Salat\n",
      "2. Suppe\n",
      "3. Burger\n",
      "4. Kuchen\n"
     ]
    }
   ],
   "source": [
    "show_menu()"
   ]
  },
  {
   "cell_type": "markdown",
   "id": "b6a2485f-e4ae-4bdb-8712-9199cac06add",
   "metadata": {},
   "source": [
    "Bei einem solchen **Funktionsaufruf** wird der Code ausgeführt, den man in der Definition eingerückt geschrieben hat."
   ]
  },
  {
   "cell_type": "markdown",
   "id": "e1203c6f-a29b-4693-9739-12389da89cb3",
   "metadata": {},
   "source": [
    "### 🛠️Übung: Hallo Funktions-Welt\n",
    "Schreibe eine Funktion, die \"Hallo Welt\" ausgibt und rufe sie auf!"
   ]
  },
  {
   "cell_type": "code",
   "execution_count": 8,
   "id": "4a3daa0c-2e7d-47a8-9e62-900cbdb6e6db",
   "metadata": {},
   "outputs": [],
   "source": [
    "# Platz für die Aufgabe\n",
    "\n",
    "\n",
    "\n"
   ]
  },
  {
   "cell_type": "markdown",
   "id": "56adf29a-2c9c-49ab-970b-05eea257b566",
   "metadata": {},
   "source": [
    "## 9.2 Parameter und Argumente"
   ]
  },
  {
   "cell_type": "markdown",
   "id": "fc324757-05b3-458c-9bf9-87d403a6ad5e",
   "metadata": {},
   "source": [
    "Die **Parameter** einer Funktion sind **Variablen**, die exklusiv innerhalb der Funktion verwendet werden und beim Aufrufen der Funktion einen Wert erhalten. Mit ihnen können Funktionen allgemeine Abläufe definieren, die auf verschiedene Werte angewandt werden."
   ]
  },
  {
   "cell_type": "code",
   "execution_count": 4,
   "id": "d1a8ad88-12bd-45be-8511-2c0975a62495",
   "metadata": {},
   "outputs": [],
   "source": [
    "# Beispiel 1: Funktion, die den Flächeninhalt eines Rechtecks berechnet\n",
    "def rectangle_area(width, height):\n",
    "    print(width * height)\n",
    "\n",
    "# Beispiel 2: Funktion, die User namentlich begrüßt\n",
    "def greeting(name):\n",
    "    print(\"Hallo \" + name + \"!\")"
   ]
  },
  {
   "cell_type": "markdown",
   "id": "f175a3a2-26d5-437d-ba66-9d50389e8d3b",
   "metadata": {},
   "source": [
    "Funktionen mit Parametern müssen mit **Argumenten** aufgerufen werden. Dabei handelt es sich um **Ausdrücke**, die in die Klammern des Funktionsaufrufs geschrieben werden. "
   ]
  },
  {
   "cell_type": "code",
   "execution_count": 6,
   "id": "57e23ba4-5eb8-4eea-954a-bcb3177a48ce",
   "metadata": {},
   "outputs": [
    {
     "name": "stdout",
     "output_type": "stream",
     "text": [
      "230\n",
      "Hallo Peter Parker!\n"
     ]
    }
   ],
   "source": [
    "# Funktionsaufruf mit Literalen als Argument\n",
    "rectangle_area(10, 23)\n",
    "\n",
    "# Funktionsaufruf mit komplexem Ausdruck als Argument\n",
    "first_name = \"Peter\"\n",
    "last_name = \"Parker\"\n",
    "greeting(first_name + \" \" + last_name)"
   ]
  },
  {
   "cell_type": "markdown",
   "id": "659cc20e-1e5d-47f3-ba88-a19462dee224",
   "metadata": {},
   "source": [
    "Bei einem solchen Funktionsaufruf werden die Argumente zunächst **ausgewertet** und ihr Wert wird den Parametern zugewiesen. Dann wird der Code ausgeführt, der in der Funktionsdefinition steht."
   ]
  },
  {
   "cell_type": "code",
   "execution_count": null,
   "id": "f33debfb-d7fc-4535-a39d-8a1cf10a31c3",
   "metadata": {},
   "outputs": [],
   "source": []
  },
  {
   "cell_type": "code",
   "execution_count": null,
   "id": "7921f8ac-afd6-4eae-89a7-55ae14d66fdd",
   "metadata": {},
   "outputs": [],
   "source": []
  },
  {
   "cell_type": "code",
   "execution_count": null,
   "id": "9e76a7df-6e04-4162-8387-7634ba986a05",
   "metadata": {},
   "outputs": [],
   "source": []
  },
  {
   "cell_type": "markdown",
   "id": "46e07d15-dcc9-44f7-96b7-9fc83c0f9702",
   "metadata": {},
   "source": [
    "### Diskussion: Einsatzszenarien für Funktionen"
   ]
  },
  {
   "cell_type": "markdown",
   "id": "da486f9a-74a4-4e61-bbe5-26be5a658ce6",
   "metadata": {},
   "source": [
    "Überlegt in Gruppen, wie sich die folgenden Programme in Teilaufgaben zerlegen lassen. Wie würden die Funktionen aussehen, die die Teilaufgaben erfüllen? Was wären ihre Parameter und Rückgabewerte?"
   ]
  },
  {
   "cell_type": "code",
   "execution_count": null,
   "id": "734e2e83-dfd8-4058-a20e-719d88d68910",
   "metadata": {},
   "outputs": [],
   "source": []
  }
 ],
 "metadata": {
  "kernelspec": {
   "display_name": "Python 3 (ipykernel)",
   "language": "python",
   "name": "python3"
  },
  "language_info": {
   "codemirror_mode": {
    "name": "ipython",
    "version": 3
   },
   "file_extension": ".py",
   "mimetype": "text/x-python",
   "name": "python",
   "nbconvert_exporter": "python",
   "pygments_lexer": "ipython3",
   "version": "3.12.7"
  }
 },
 "nbformat": 4,
 "nbformat_minor": 5
}
