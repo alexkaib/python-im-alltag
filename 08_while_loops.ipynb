{
 "cells": [
  {
   "cell_type": "markdown",
   "id": "966b9e54-41bf-47f4-bdfe-1d062668301d",
   "metadata": {},
   "source": [
    "# Teil 8: While-Schleifen\n",
    "Ähnlich wie `for`-Schleifen führen `while`-Schleifen einen **Code-Block** mehrmals durch. Allerdings geschieht das unabhängig von bestimmten Datenstrukturen, sondern so lange, wie eine bestimmte **Bedingung** erfüllt ist."
   ]
  },
  {
   "cell_type": "code",
   "execution_count": null,
   "id": "e17f24fa-7e54-4201-9dea-be14f30069c4",
   "metadata": {},
   "outputs": [],
   "source": []
  }
 ],
 "metadata": {
  "kernelspec": {
   "display_name": "Python 3 (ipykernel)",
   "language": "python",
   "name": "python3"
  },
  "language_info": {
   "codemirror_mode": {
    "name": "ipython",
    "version": 3
   },
   "file_extension": ".py",
   "mimetype": "text/x-python",
   "name": "python",
   "nbconvert_exporter": "python",
   "pygments_lexer": "ipython3",
   "version": "3.12.7"
  }
 },
 "nbformat": 4,
 "nbformat_minor": 5
}
