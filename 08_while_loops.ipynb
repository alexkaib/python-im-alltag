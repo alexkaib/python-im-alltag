{
 "cells": [
  {
   "cell_type": "markdown",
   "id": "966b9e54-41bf-47f4-bdfe-1d062668301d",
   "metadata": {},
   "source": [
    "# Teil 8: While-Schleifen\n",
    "Ähnlich wie `for`-Schleifen führen `while`-Schleifen einen **Code-Block** mehrmals aus. Allerdings geschieht das unabhängig von bestimmten Datenstrukturen, sondern so lange, wie eine bestimmte **Bedingung** erfüllt ist."
   ]
  },
  {
   "cell_type": "markdown",
   "id": "67b2886f-9934-4c8a-bd58-9cf364407480",
   "metadata": {
    "jp-MarkdownHeadingCollapsed": true
   },
   "source": [
    "## 8.1 Schleifenbedingung"
   ]
  },
  {
   "cell_type": "markdown",
   "id": "f129f9ef-1e6b-4a76-9b89-874a3be78a16",
   "metadata": {},
   "source": [
    "Die **Syntax** einer `while`-Schleife ist recht einfach:\n",
    "```python\n",
    "while bedingung:\n",
    "    ...\n",
    "```\n",
    "Nach dem Schlüsselwort `while` folgt die **Bedingung**: Ein **Ausdruck**, der einen Wahrheitswert ergeben muss. Anschließend folgt ein Doppelpunkt `:`, wie in Python üblich, um einen Code-Block einzuleiten.\n",
    "\n",
    "Der eingerückte Code-Block, der **Schleifenkörper**, wird wiederholt, solange die Bedingung wahr ist. "
   ]
  },
  {
   "cell_type": "code",
   "execution_count": null,
   "id": "39744369-0042-4eb4-bbdd-d1ead32d46e3",
   "metadata": {},
   "outputs": [],
   "source": [
    "# Beispiel: Zahlen von 10 bis 0 ausgeben\n",
    "countdown = 10\n",
    "\n",
    "while countdown >= 0:\n",
    "    print(countdown)\n",
    "    countdown = countdown - 1"
   ]
  },
  {
   "cell_type": "markdown",
   "id": "1cd9bc4e-2d7f-433a-8dfb-7f6b0dc076ce",
   "metadata": {},
   "source": [
    "### 🧪Experiment: while True\n",
    "Was wird wohl passieren, wenn du den folgenden Code ausführst? Probiere es aus! \n",
    "\n",
    "(Bereite dich darauf vor, das Stopp-Icon ⏹️ neben dem Ausführungs-Icon ▶️ in der oberen Befehlsleiste zu klicken...)"
   ]
  },
  {
   "cell_type": "code",
   "execution_count": null,
   "id": "1f8196a3-6d5f-4442-addc-fefd2d9d4637",
   "metadata": {},
   "outputs": [],
   "source": [
    "while True:\n",
    "    print(\"Upps\")"
   ]
  },
  {
   "cell_type": "markdown",
   "id": "498464f7-e9e7-4ad6-aa71-dea11bd10af2",
   "metadata": {
    "jp-MarkdownHeadingCollapsed": true
   },
   "source": [
    "## 8.2 Schleifen unterbrechen und überspringen"
   ]
  },
  {
   "cell_type": "markdown",
   "id": "d1d1f803-4415-430e-a119-102f4c50cc39",
   "metadata": {},
   "source": [
    "Wie du dir nach dem vorherigen Experiment denken kannst, kann es sehr wichtig sein, `while`-Schleifen mit dem `break`-Befehl zu unterbrechen."
   ]
  },
  {
   "cell_type": "code",
   "execution_count": null,
   "id": "e33fabd6-0113-4eb8-92e7-14ca31013702",
   "metadata": {},
   "outputs": [],
   "source": [
    "# Beispiel: Einfache E-Mail Validierung\n",
    "while True:\n",
    "    email = input(\"Bitte gebe eine gültige E-Mail Adresse ein: \")\n",
    "    if \"@\" in email and \".\" in email:\n",
    "        print(\"E-Mail Adresse validiert.\")\n",
    "        break"
   ]
  },
  {
   "cell_type": "markdown",
   "id": "7bacede8-8aed-4802-b47a-cf93a854f8ae",
   "metadata": {},
   "source": [
    "Der `continue`-Befehl führt wie bei `for`-Schleifen dazu, dass eine Iteration übersprungen wird und die Schleife von vorne beginnt."
   ]
  },
  {
   "cell_type": "code",
   "execution_count": null,
   "id": "48d15a99-7938-4c13-b59b-1738ba50e2be",
   "metadata": {},
   "outputs": [],
   "source": [
    "# Beispiel: E-Mail Validierung mit genauerer Problembeschreibung\n",
    "while True:\n",
    "    email = input(\"Bitte gebe eine gültige E-Mail Adresse ein: \")\n",
    "    \n",
    "    if \"@\" not in email:\n",
    "        print(\"In deiner Mail-Adresse fehlt ein '@'-Symbol.\")\n",
    "        continue\n",
    "        \n",
    "    if \".\" not in email:\n",
    "        print(\"In deiner Mail-Adresse fehlt ein '.'-Symbol.\")\n",
    "        continue\n",
    "\n",
    "    print(\"E-Mail Adresse validiert.\")\n",
    "    break"
   ]
  },
  {
   "cell_type": "markdown",
   "id": "d8874a51-5367-4c1a-a720-2a92354209f1",
   "metadata": {
    "jp-MarkdownHeadingCollapsed": true
   },
   "source": [
    "## 8.3 Programme als Schleifen"
   ]
  },
  {
   "cell_type": "markdown",
   "id": "b624cd80-acb6-4f77-a32c-6ea8884d3364",
   "metadata": {},
   "source": [
    "Ein wichtiger Einsatzzweck von `while`-Schleifen ist es, ein Programm kontinuierlich laufen zu lassen, bis ein User es beendet."
   ]
  },
  {
   "cell_type": "markdown",
   "id": "3456b5dd-209a-4dc0-9776-2ac575011d83",
   "metadata": {},
   "source": [
    "### 🛠️Übung: Python-Papagei \n",
    "Vervollständige das folgende Programm, so dass ein User es durch den Befehl `beenden` abbrechen kann."
   ]
  },
  {
   "cell_type": "code",
   "execution_count": null,
   "id": "88312af0-c9ae-4a11-8a4f-3c453c806f30",
   "metadata": {},
   "outputs": [],
   "source": [
    "print(\"Hallo! Ich bin ein Python-Papagei.\")\n",
    "\n",
    "while True:\n",
    "    user_input = input(\"Sag mal was: \")\n",
    "    print(user_input)\n",
    "    # Füge hier deinen Code hinzu\n",
    "\n",
    "\n"
   ]
  },
  {
   "cell_type": "code",
   "execution_count": null,
   "id": "83480f90-add0-4988-901d-ee67bdff04d9",
   "metadata": {},
   "outputs": [],
   "source": []
  }
 ],
 "metadata": {
  "kernelspec": {
   "display_name": "Python 3 (ipykernel)",
   "language": "python",
   "name": "python3"
  },
  "language_info": {
   "codemirror_mode": {
    "name": "ipython",
    "version": 3
   },
   "file_extension": ".py",
   "mimetype": "text/x-python",
   "name": "python",
   "nbconvert_exporter": "python",
   "pygments_lexer": "ipython3",
   "version": "3.12.7"
  }
 },
 "nbformat": 4,
 "nbformat_minor": 5
}
