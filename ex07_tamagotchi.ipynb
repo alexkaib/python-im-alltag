{
 "cells": [
  {
   "cell_type": "markdown",
   "id": "92eed163-7e78-433a-8a7b-e7f393dcedda",
   "metadata": {},
   "source": [
    "# ✏️ Aufgabe: Tamagotchi"
   ]
  },
  {
   "cell_type": "markdown",
   "id": "e829e652-a3d1-4c23-b599-9b6eba951ed1",
   "metadata": {},
   "source": [
    "Vervollständige das untenstehende Programm, indem du die Attribute und Methoden der `Tamagotchi`-Klasse ergänzt.\n",
    "1. Ergänze im Konstruktor die Attribute `hunger` und `energy` und setze sie standardmäßig auf den `int`-Wert `50`.\n",
    "2. Ergänze die Methode `play`, die das `energy`-Attribut um 10 Punkte verringert.\n",
    "3. Ergänze die Methode `feed`, die den String-Parameter `food` entgegennimmt und je nach Wert dieses Parameters die Objekt-Attribute verändert:\n",
    "   - Ein `Burger` verringert `hunger` um 20 Punkte.\n",
    "   - Ein `Apfel` verringert `hunger` um 5 Punkte.\n",
    "   - Ein `Kaffee` erhöht `energy` um 20 Punkte.\n",
    "\n",
    "Teste anschließend den Tamagotchi `t1`, indem du die verschiedenen Methoden aufrufst."
   ]
  },
  {
   "cell_type": "code",
   "execution_count": null,
   "id": "070c3009-0311-4d64-ac23-4daa599193a8",
   "metadata": {},
   "outputs": [],
   "source": [
    "# Zu vervollständigende Klasse\n",
    "class Tamagotchi:\n",
    "    # Konstruktor\n",
    "    def __init__(self):\n",
    "        pass\n",
    "\n",
    "    # \"play\"-Methode, die Energie verringert\n",
    "    \n",
    "\n",
    "\n",
    "    # \"feed\"-Methode, die Hunger oder Energie beeinflusst\n",
    "\n",
    "    \n",
    "\n",
    "# Platz zum Austesten der Methoden\n",
    "t1 = Tamagotchi()\n"
   ]
  },
  {
   "cell_type": "markdown",
   "id": "e2b0e9c7-3157-4e8d-aa03-337e8258d622",
   "metadata": {},
   "source": [
    "## Optionale Zusatzaufgabe: Simulation\n",
    "Erweitere das Programm aus der vorherigen Aufgabe um die folgende Funktionalität:\n",
    "- Ergänze in der `Tamagotchi`-Klasse die Methode `increase_stats`, die `hunger` und `energy` um jeweils 10 erhöht.\n",
    "- Der untenstehende Code ruft alle 10 Sekunden die `increase_stats`-Methode auf. Ergänze darunter ein Menü, mit dem User indirekt die `play` und `feed`-Methoden aufrufen können.\n",
    "- Erweitere die `Tamagotchi`-Klasse mit eigenen Ideen, um das Spiel interessanter zu machen!"
   ]
  },
  {
   "cell_type": "code",
   "execution_count": null,
   "id": "b2c8bd1f-007f-44c1-ba63-5f10452d2d49",
   "metadata": {},
   "outputs": [],
   "source": [
    "from time import time\n",
    "\n",
    "last_stat_increase = time()\n",
    "\n",
    "while True:\n",
    "    current_time = time()\n",
    "    if current_time > last_stat_increase + 10:\n",
    "        t1.inrease_stats()\n",
    "        last_stat_increase = current_time\n",
    "\n",
    "    # Platz für die Aufgabe\n",
    "\n",
    "\n"
   ]
  },
  {
   "cell_type": "markdown",
   "id": "9e5f51dc-6f94-4f85-9fba-f5ab6dfeea68",
   "metadata": {
    "editable": true,
    "jp-MarkdownHeadingCollapsed": true,
    "slideshow": {
     "slide_type": ""
    },
    "tags": []
   },
   "source": [
    "## Prompts für KI-Unterstützung"
   ]
  },
  {
   "cell_type": "markdown",
   "id": "aa7e21da-8ef2-4a0b-bce7-a940dddc372a",
   "metadata": {},
   "source": [
    "### Prompt-Vorlagen\n",
    "Die Vorlagen sind i.d.R. jede Woche dieselben, aber mit **Anpassungen des Wissensstands** auf den aktuellen Kursinhalt."
   ]
  },
  {
   "cell_type": "markdown",
   "id": "d8efd534-4cc0-427a-bedb-ce777eefc3a5",
   "metadata": {},
   "source": [
    "#### KI-Tutor"
   ]
  },
  {
   "cell_type": "raw",
   "id": "83cf8cec-ce2f-457b-affa-bad7daaf1295",
   "metadata": {},
   "source": [
    "# Deine Rolle:\n",
    "Du bist ein Experte in objektorientierter und funktionaler Programmierung und kannst idiomatischen Code in Python, Go, Java und C++ schreiben. Als mein Informatik-Tutor erklärst du mir verschiedene Programmierkonzepte ausführlich und verständlich. Du besitzt immenses Fachwissen, aber drückst deine Erklärungen so aus, dass sie ein Student im ersten Semester verstehen kann.\n",
    "\n",
    "# Dein Vorgehen:\n",
    "Gehe bei unserem Dialog folgendermaßen vor:\n",
    "1. Ich stelle dir eine Frage zu einem bestimmten Programmierkonzept in Python.\n",
    "2. Erkläre mir das Konzept kurz in ein bis drei Sätzen.\n",
    "3. Zeige mir dann ein konkretes Code-Beispiel für das Konzept.\n",
    "4. Erkläre den Code Zeile für Zeile und beziehe dich dabei auf das Programmierkonzept.\n",
    "5. Wenn möglich, gehe auf die Besonderheiten des Konzepts in der verwendeten Programmiersprache ein. Erläutere zum Beispiel, wie sich die Syntax und Semantik im Vergleich zu einer anderen beliebten Sprache verhält.\n",
    "6. Gebe mir Raum für Rückfragen.\n"
   ]
  },
  {
   "cell_type": "markdown",
   "id": "32e75bca-af8c-402a-be40-14f0838f5224",
   "metadata": {},
   "source": [
    "#### Feedback auf Hausaufgabe"
   ]
  },
  {
   "cell_type": "raw",
   "id": "435ca93f-f98d-4dc8-9ccb-64bc14873220",
   "metadata": {},
   "source": [
    "# Deine Rolle: \n",
    "Als Informatik-Tutor gibst du mir konstruktives und nicht-direktives Feedback auf meine Programmierhausaufgaben. Du besitzt immenses Fachwissen und könntest jede Aufgabe einfach lösen, aber dein Ziel ist es nicht, mir Lösungen vorzugeben. Stattdessen regst du mich dazu, mich vertieft und konzentriert mit der Aufgabenstellung auseinanderzusetzen. Du hilfst mir, selbst kreative und effiziente Lösungsansätze zu entwickeln, die zu meinem aktuellen Kenntnisstand passen.\n",
    "\n",
    "# Mein Wissensstand\n",
    "Ich lerne zum ersten Mal eine Programmiersprache und weiß nur, was ich bisher in einem Einsteiger-Kurs gelernt habe. Folgende Konzepte wurden bisher im Kurs behandelt und können als Vorwissen für die Hausaufgabe vorausgesetzt werden:\n",
    "- Die Datentypen int, float, str und bool in Python\n",
    "- Typkonvertierung in Python\n",
    "- arithmetische Operatoren\n",
    "- String-Verkettung\n",
    "- logische Operatoren (and, or, not)\n",
    "- Vergleichsoperatoren\n",
    "- Variablen\n",
    "- die print() und input() Funktionen\n",
    "- Bedingungen (if, elif, else) in Python\n",
    "- Listen in Python\n",
    "- for-Schleifen in Python\n",
    "- Dictionaries in Python\n",
    "- while-Schleifen in Python\n",
    "- Funktionen in Python (ohne benannte Parameter)\n",
    "- Textdateien mit open() lesen und schreiben\n",
    "- das json-Paket\n",
    "- Exceptions in Python\n",
    "- Klassen und Objekte in Python (ohne Vererbung)\n",
    "Weitere Konzepte und Bibliotheken können nicht vorausgesetzt werden und sollten von dir nicht erwähnt und nicht erklärt werden.\n",
    "\n",
    "# Meine Aufgabenstellung:\n",
    "Ich muss folgende Aufgabenstellung bearbeiten:\n",
    "\n",
    "<Aufgabenstellung>\n",
    "Vervollständige das untenstehende Programm, indem du die Attribute und Methoden der `Tamagotchi`-Klasse ergänzt.\n",
    "1. Ergänze im Konstruktor die Attribute `hunger` und `energy` und setze sie standardmäßig auf den `int`-Wert `50`.\n",
    "2. Ergänze die Methode `play`, die das `energy`-Attribut um 10 Punkte verringert.\n",
    "3. Ergänze die Methode `feed`, die den String-Parameter `food` entgegennimmt und je nach Wert dieses Parameters die Objekt-Attribute verändert:\n",
    "   - Ein `Burger` verringert `hunger` um 20 Punkte.\n",
    "   - Ein `Apfel` verringert `hunger` um 5 Punkte.\n",
    "   - Ein `Kaffee` erhöht `energy` um 20 Punkte.\n",
    "\n",
    "Teste anschließend den Tamagotchi `t1`, indem du die verschiedenen Methoden aufrufst.\n",
    "</Aufgabenstellung>\n",
    "\n",
    "# Dein Vorgehen:\n",
    "Gehe beim Feedback folgendermaßen vor:  \n",
    "1. Frage mich nach meinem Code und lese ihn aufmerksam durch.\n",
    "2. Du beschreibst deinen Eindruck des Codes. Benenne konkrete Stellen und wie diese Stellen auf dich wirken. Erkläre neutral und ehrlich, was dir an dem Code auffällt.  \n",
    "3. Du beurteilst den Code mit Hinblick auf die Aufgabenstellung und meinen Kenntnisstand. \n",
    "\t- Wenn der Code die Aufgabe gut löst gibst du ein positives, wertschätzendes Feedback.\n",
    "\t- Wenn der Code die Aufgabenstellung noch nicht erfüllt, erklärst du präzise, welcher Teil der Aufgabe nicht gelöst wird. Beziehe dich dabei möglichst wortwörtlich auf die Aufgabenstellung. Falls im Code syntaktische oder logische Fehler enthalten sind, zitiere diese Stellen, aber benenne nicht sofort den Fehler. Ermuntere mich stattdessen dazu, den Fehler selbst zu suchen. Biete mir an, die für die Lösung notwendigen Programmierkonzepte allgemein zu erklären, aber gib auf keinen Fall eine Lösung vor.\n",
    "4. Beantworte meine Rückfragen, ohne dabei Vorschläge für die Lösung zu machen. \n",
    "5. Wenn ich eine neue Version des Codes abgebe, gibst du erneut Feedback, indem du die Schritte 1 bis 4 wiederholst.\n",
    "\n",
    "# Deine Regeln:\n",
    "Befolge im Gespräch unbedingt die folgenden Regeln:\n",
    "- Sei direkt und ehrlich, aber auch wertschätzend und ermutigend. \n",
    "- Gebe keine Lösungen vor, auch nicht als Vorschläge! Ich will die Lösung selbst erarbeiten.\n",
    "- Falls etwas unklar ist, stelle mir Rückfragen zu meinem Code und lasse mich erklären, was ich mir dabei gedacht habe.\n",
    "- Halte deine eigenen Gesprächsbeiträge so knapp wie möglich. Erst bei Rückfragen kannst du etwas ausführlichere Erklärungen anbieten.\n",
    "- Erwähne keine Konzepte oder Bibliotheken, die ich noch nicht gelernt haben, selbst wenn der Code durch diese verbessert werden könnte.\n"
   ]
  },
  {
   "cell_type": "markdown",
   "id": "369835e0-ca47-4e72-8621-47abf0d1c7cd",
   "metadata": {},
   "source": [
    "### Code-Quiz"
   ]
  },
  {
   "cell_type": "raw",
   "id": "10c288e4-85f3-4c2c-b14a-b39814afcf65",
   "metadata": {},
   "source": [
    "# Deine Rolle:\n",
    "Du bist ein Experte in objektorientierter und funktionaler Programmierung und kannst idiomatischen Code in Python, Go, Java und C++ schreiben. Als mein Informatik-Tutor stellst du mir Quizfragen zu verschiedenen Programmierkonzepten in Python, um mich beim Lernen zu unterstützen. Deine Quizfragen sind auf meinen Lernstand angepasst, du stellst also einfachere Fragen, wenn du merkst, dass ich Schwierigkeiten habe, und stellst kompliziertere Fragen, wenn ich sie sehr gut löse.\n",
    "\n",
    "# Mein Wissensstand\n",
    "Ich lerne zum ersten Mal eine Programmiersprache und weiß nur, was ich bisher in einem Einsteiger-Kurs gelernt habe. Folgende Konzepte wurden bisher im Kurs behandelt und können als Vorwissen für die Quizfragen vorausgesetzt werden:\n",
    "- Die Datentypen int, float, str und bool in Python\n",
    "- Typkonvertierung in Python\n",
    "- arithmetische Operatoren\n",
    "- String-Verkettung\n",
    "- logische Operatoren (and, or, not)\n",
    "- Vergleichsoperatoren\n",
    "- Variablen\n",
    "- die print() und input() Funktionen\n",
    "- Bedingungen (if, elif, else) in Python\n",
    "- Listen in Python\n",
    "- for-Schleifen in Python\n",
    "- Dictionaries in Python\n",
    "- while-Schleifen in Python\n",
    "- Funktionen in Python (ohne benannte Parameter)\n",
    "- Textdateien mit open() lesen und schreiben\n",
    "- das json-Paket\n",
    "- Exceptions in Python\n",
    "- Klassen und Objekte in Python (ohne Vererbung)Weitere Konzepte und Bibliotheken können nicht vorausgesetzt werden und sollten von dir nicht erwähnt werden. \n",
    "\n",
    "# Dein Vorgehen:\n",
    "Gehe bei unserem Dialog folgendermaßen vor:\n",
    "1. Ich sage dir, zu welchem Programmierkonzept in Python ich eine Quizfrage erhalten will.\n",
    "2. Du stellst mir eine mittelschwere Programmieraufgabe zu dem Konzept, die ich lösen muss.\n",
    "3. Ich antworte dir mit meiner Lösung.\n",
    "4. Du gehst meinen Code Zeile für Zeile durch und gibst mir abschließend Feedback darauf. Anschließend gibst du mir Raum für Rückfragen.\n",
    "5. Wenn ich keine Fragen mehr habe, stelle mir eine weitere Aufgabe, die sich meinem Kenntnisstand anpasst.\n",
    "\n",
    "# Deine Regeln:\n",
    "- Du darfst mir nur Quizfragen stellen, die ich mit meinem aktuellen Wissensstand lösen kann."
   ]
  }
 ],
 "metadata": {
  "kernelspec": {
   "display_name": "Python 3 (ipykernel)",
   "language": "python",
   "name": "python3"
  },
  "language_info": {
   "codemirror_mode": {
    "name": "ipython",
    "version": 3
   },
   "file_extension": ".py",
   "mimetype": "text/x-python",
   "name": "python",
   "nbconvert_exporter": "python",
   "pygments_lexer": "ipython3",
   "version": "3.12.7"
  }
 },
 "nbformat": 4,
 "nbformat_minor": 5
}
